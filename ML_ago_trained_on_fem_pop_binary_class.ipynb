{
  "nbformat": 4,
  "nbformat_minor": 0,
  "metadata": {
    "colab": {
      "provenance": [],
      "authorship_tag": "ABX9TyMHUukKwYoMDODmp8N8MryQ",
      "include_colab_link": true
    },
    "kernelspec": {
      "name": "python3",
      "display_name": "Python 3"
    },
    "language_info": {
      "name": "python"
    }
  },
  "cells": [
    {
      "cell_type": "markdown",
      "metadata": {
        "id": "view-in-github",
        "colab_type": "text"
      },
      "source": [
        "<a href=\"https://colab.research.google.com/github/Jdasanja/masers_thesis/blob/main/ML_ago_trained_on_fem_pop_binary_class.ipynb\" target=\"_parent\"><img src=\"https://colab.research.google.com/assets/colab-badge.svg\" alt=\"Open In Colab\"/></a>"
      ]
    },
    {
      "cell_type": "code",
      "execution_count": null,
      "metadata": {
        "id": "lR27z96E2VI7"
      },
      "outputs": [],
      "source": [
        "# import pandas for reading and displaying local file\n",
        "import pandas as pd"
      ]
    },
    {
      "cell_type": "code",
      "source": [
        "# Load the dataset from the raw GitHub URL\n",
        "url = 'https://raw.githubusercontent.com/Jdasanja/masers_thesis/main/processed.cleveland.data'\n",
        "df = pd.read_csv(url, header=None)\n",
        "\n",
        "# Add column names (based on standard attribute names for the Cleveland dataset)\n",
        "df.columns = ['age', 'sex', 'cp', 'trestbps', 'chol', 'fbs', 'restecg', 'thalach', 'exang',\n",
        "              'oldpeak', 'slope', 'ca', 'thal', 'num']\n",
        "\n",
        "# Add a unique identifier column\n",
        "df['patient_id'] = range(1, len(df) + 1)\n",
        "\n",
        "# Set 'patient_id' as the index\n",
        "df.set_index('patient_id', inplace=True)\n",
        "\n",
        "\n",
        "# Display first few rows of the uploaded file with headers\n",
        "print(\"First few rows of the uploaded file with column headers:\")\n",
        "print(df.head())"
      ],
      "metadata": {
        "colab": {
          "base_uri": "https://localhost:8080/"
        },
        "id": "y2F0DBgT4C8D",
        "outputId": "076c3c46-b5df-4575-aa20-fa321c364b2f"
      },
      "execution_count": null,
      "outputs": [
        {
          "output_type": "stream",
          "name": "stdout",
          "text": [
            "First few rows of the uploaded file with column headers:\n",
            "             age  sex   cp  trestbps   chol  fbs  restecg  thalach  exang  \\\n",
            "patient_id                                                                  \n",
            "1           63.0  1.0  1.0     145.0  233.0  1.0      2.0    150.0    0.0   \n",
            "2           67.0  1.0  4.0     160.0  286.0  0.0      2.0    108.0    1.0   \n",
            "3           67.0  1.0  4.0     120.0  229.0  0.0      2.0    129.0    1.0   \n",
            "4           37.0  1.0  3.0     130.0  250.0  0.0      0.0    187.0    0.0   \n",
            "5           41.0  0.0  2.0     130.0  204.0  0.0      2.0    172.0    0.0   \n",
            "\n",
            "            oldpeak  slope   ca thal  num  \n",
            "patient_id                                 \n",
            "1               2.3    3.0  0.0  6.0    0  \n",
            "2               1.5    2.0  3.0  3.0    2  \n",
            "3               2.6    2.0  2.0  7.0    1  \n",
            "4               3.5    3.0  0.0  3.0    0  \n",
            "5               1.4    1.0  0.0  3.0    0  \n"
          ]
        }
      ]
    },
    {
      "cell_type": "code",
      "source": [
        "# Create a new dataframe with a new binary column based on the values in 'num'\n",
        "df_binary_col = df.copy()\n",
        "df_binary_col['num_binary'] = df_binary_col['num'].apply(lambda x: 1 if x in [1, 2, 3, 4] else 0)\n",
        "\n",
        "df_binary_col = df_binary_col.drop('num', axis=1)"
      ],
      "metadata": {
        "id": "28Hfsxor4Ej-"
      },
      "execution_count": null,
      "outputs": []
    },
    {
      "cell_type": "code",
      "source": [
        "## Total count of missing values\n",
        "df_binary_col.isnull().sum()"
      ],
      "metadata": {
        "colab": {
          "base_uri": "https://localhost:8080/",
          "height": 523
        },
        "id": "UCe0X7It4Ign",
        "outputId": "a9012937-a099-4a84-bb01-dfdb8124d38d"
      },
      "execution_count": null,
      "outputs": [
        {
          "output_type": "execute_result",
          "data": {
            "text/plain": [
              "age           0\n",
              "sex           0\n",
              "cp            0\n",
              "trestbps      0\n",
              "chol          0\n",
              "fbs           0\n",
              "restecg       0\n",
              "thalach       0\n",
              "exang         0\n",
              "oldpeak       0\n",
              "slope         0\n",
              "ca            0\n",
              "thal          0\n",
              "num_binary    0\n",
              "dtype: int64"
            ],
            "text/html": [
              "<div>\n",
              "<style scoped>\n",
              "    .dataframe tbody tr th:only-of-type {\n",
              "        vertical-align: middle;\n",
              "    }\n",
              "\n",
              "    .dataframe tbody tr th {\n",
              "        vertical-align: top;\n",
              "    }\n",
              "\n",
              "    .dataframe thead th {\n",
              "        text-align: right;\n",
              "    }\n",
              "</style>\n",
              "<table border=\"1\" class=\"dataframe\">\n",
              "  <thead>\n",
              "    <tr style=\"text-align: right;\">\n",
              "      <th></th>\n",
              "      <th>0</th>\n",
              "    </tr>\n",
              "  </thead>\n",
              "  <tbody>\n",
              "    <tr>\n",
              "      <th>age</th>\n",
              "      <td>0</td>\n",
              "    </tr>\n",
              "    <tr>\n",
              "      <th>sex</th>\n",
              "      <td>0</td>\n",
              "    </tr>\n",
              "    <tr>\n",
              "      <th>cp</th>\n",
              "      <td>0</td>\n",
              "    </tr>\n",
              "    <tr>\n",
              "      <th>trestbps</th>\n",
              "      <td>0</td>\n",
              "    </tr>\n",
              "    <tr>\n",
              "      <th>chol</th>\n",
              "      <td>0</td>\n",
              "    </tr>\n",
              "    <tr>\n",
              "      <th>fbs</th>\n",
              "      <td>0</td>\n",
              "    </tr>\n",
              "    <tr>\n",
              "      <th>restecg</th>\n",
              "      <td>0</td>\n",
              "    </tr>\n",
              "    <tr>\n",
              "      <th>thalach</th>\n",
              "      <td>0</td>\n",
              "    </tr>\n",
              "    <tr>\n",
              "      <th>exang</th>\n",
              "      <td>0</td>\n",
              "    </tr>\n",
              "    <tr>\n",
              "      <th>oldpeak</th>\n",
              "      <td>0</td>\n",
              "    </tr>\n",
              "    <tr>\n",
              "      <th>slope</th>\n",
              "      <td>0</td>\n",
              "    </tr>\n",
              "    <tr>\n",
              "      <th>ca</th>\n",
              "      <td>0</td>\n",
              "    </tr>\n",
              "    <tr>\n",
              "      <th>thal</th>\n",
              "      <td>0</td>\n",
              "    </tr>\n",
              "    <tr>\n",
              "      <th>num_binary</th>\n",
              "      <td>0</td>\n",
              "    </tr>\n",
              "  </tbody>\n",
              "</table>\n",
              "</div><br><label><b>dtype:</b> int64</label>"
            ]
          },
          "metadata": {},
          "execution_count": 4
        }
      ]
    },
    {
      "cell_type": "code",
      "source": [
        "import numpy as np\n",
        "\n",
        "## Replace question marks with NaN\n",
        "df_binary_col.replace('?', np.nan, inplace=True)\n",
        "\n",
        "## Total count of missing values\n",
        "df_binary_col.isnull().sum()"
      ],
      "metadata": {
        "colab": {
          "base_uri": "https://localhost:8080/",
          "height": 523
        },
        "id": "VpHkCz0X4Ktw",
        "outputId": "ad6f8761-2cc8-4dab-a8e8-cb5c8c009066"
      },
      "execution_count": null,
      "outputs": [
        {
          "output_type": "execute_result",
          "data": {
            "text/plain": [
              "age           0\n",
              "sex           0\n",
              "cp            0\n",
              "trestbps      0\n",
              "chol          0\n",
              "fbs           0\n",
              "restecg       0\n",
              "thalach       0\n",
              "exang         0\n",
              "oldpeak       0\n",
              "slope         0\n",
              "ca            4\n",
              "thal          2\n",
              "num_binary    0\n",
              "dtype: int64"
            ],
            "text/html": [
              "<div>\n",
              "<style scoped>\n",
              "    .dataframe tbody tr th:only-of-type {\n",
              "        vertical-align: middle;\n",
              "    }\n",
              "\n",
              "    .dataframe tbody tr th {\n",
              "        vertical-align: top;\n",
              "    }\n",
              "\n",
              "    .dataframe thead th {\n",
              "        text-align: right;\n",
              "    }\n",
              "</style>\n",
              "<table border=\"1\" class=\"dataframe\">\n",
              "  <thead>\n",
              "    <tr style=\"text-align: right;\">\n",
              "      <th></th>\n",
              "      <th>0</th>\n",
              "    </tr>\n",
              "  </thead>\n",
              "  <tbody>\n",
              "    <tr>\n",
              "      <th>age</th>\n",
              "      <td>0</td>\n",
              "    </tr>\n",
              "    <tr>\n",
              "      <th>sex</th>\n",
              "      <td>0</td>\n",
              "    </tr>\n",
              "    <tr>\n",
              "      <th>cp</th>\n",
              "      <td>0</td>\n",
              "    </tr>\n",
              "    <tr>\n",
              "      <th>trestbps</th>\n",
              "      <td>0</td>\n",
              "    </tr>\n",
              "    <tr>\n",
              "      <th>chol</th>\n",
              "      <td>0</td>\n",
              "    </tr>\n",
              "    <tr>\n",
              "      <th>fbs</th>\n",
              "      <td>0</td>\n",
              "    </tr>\n",
              "    <tr>\n",
              "      <th>restecg</th>\n",
              "      <td>0</td>\n",
              "    </tr>\n",
              "    <tr>\n",
              "      <th>thalach</th>\n",
              "      <td>0</td>\n",
              "    </tr>\n",
              "    <tr>\n",
              "      <th>exang</th>\n",
              "      <td>0</td>\n",
              "    </tr>\n",
              "    <tr>\n",
              "      <th>oldpeak</th>\n",
              "      <td>0</td>\n",
              "    </tr>\n",
              "    <tr>\n",
              "      <th>slope</th>\n",
              "      <td>0</td>\n",
              "    </tr>\n",
              "    <tr>\n",
              "      <th>ca</th>\n",
              "      <td>4</td>\n",
              "    </tr>\n",
              "    <tr>\n",
              "      <th>thal</th>\n",
              "      <td>2</td>\n",
              "    </tr>\n",
              "    <tr>\n",
              "      <th>num_binary</th>\n",
              "      <td>0</td>\n",
              "    </tr>\n",
              "  </tbody>\n",
              "</table>\n",
              "</div><br><label><b>dtype:</b> int64</label>"
            ]
          },
          "metadata": {},
          "execution_count": 5
        }
      ]
    },
    {
      "cell_type": "code",
      "source": [
        "## Drop rows with NaN values\n",
        "df_binary_col.dropna(inplace=True)\n",
        "\n",
        "## Verify if any null values remain\n",
        "df_binary_col.isnull().sum()"
      ],
      "metadata": {
        "colab": {
          "base_uri": "https://localhost:8080/",
          "height": 523
        },
        "id": "ljkIHypp4NKS",
        "outputId": "f2d8fe16-8d2c-4693-96f1-be85696ab83f"
      },
      "execution_count": null,
      "outputs": [
        {
          "output_type": "execute_result",
          "data": {
            "text/plain": [
              "age           0\n",
              "sex           0\n",
              "cp            0\n",
              "trestbps      0\n",
              "chol          0\n",
              "fbs           0\n",
              "restecg       0\n",
              "thalach       0\n",
              "exang         0\n",
              "oldpeak       0\n",
              "slope         0\n",
              "ca            0\n",
              "thal          0\n",
              "num_binary    0\n",
              "dtype: int64"
            ],
            "text/html": [
              "<div>\n",
              "<style scoped>\n",
              "    .dataframe tbody tr th:only-of-type {\n",
              "        vertical-align: middle;\n",
              "    }\n",
              "\n",
              "    .dataframe tbody tr th {\n",
              "        vertical-align: top;\n",
              "    }\n",
              "\n",
              "    .dataframe thead th {\n",
              "        text-align: right;\n",
              "    }\n",
              "</style>\n",
              "<table border=\"1\" class=\"dataframe\">\n",
              "  <thead>\n",
              "    <tr style=\"text-align: right;\">\n",
              "      <th></th>\n",
              "      <th>0</th>\n",
              "    </tr>\n",
              "  </thead>\n",
              "  <tbody>\n",
              "    <tr>\n",
              "      <th>age</th>\n",
              "      <td>0</td>\n",
              "    </tr>\n",
              "    <tr>\n",
              "      <th>sex</th>\n",
              "      <td>0</td>\n",
              "    </tr>\n",
              "    <tr>\n",
              "      <th>cp</th>\n",
              "      <td>0</td>\n",
              "    </tr>\n",
              "    <tr>\n",
              "      <th>trestbps</th>\n",
              "      <td>0</td>\n",
              "    </tr>\n",
              "    <tr>\n",
              "      <th>chol</th>\n",
              "      <td>0</td>\n",
              "    </tr>\n",
              "    <tr>\n",
              "      <th>fbs</th>\n",
              "      <td>0</td>\n",
              "    </tr>\n",
              "    <tr>\n",
              "      <th>restecg</th>\n",
              "      <td>0</td>\n",
              "    </tr>\n",
              "    <tr>\n",
              "      <th>thalach</th>\n",
              "      <td>0</td>\n",
              "    </tr>\n",
              "    <tr>\n",
              "      <th>exang</th>\n",
              "      <td>0</td>\n",
              "    </tr>\n",
              "    <tr>\n",
              "      <th>oldpeak</th>\n",
              "      <td>0</td>\n",
              "    </tr>\n",
              "    <tr>\n",
              "      <th>slope</th>\n",
              "      <td>0</td>\n",
              "    </tr>\n",
              "    <tr>\n",
              "      <th>ca</th>\n",
              "      <td>0</td>\n",
              "    </tr>\n",
              "    <tr>\n",
              "      <th>thal</th>\n",
              "      <td>0</td>\n",
              "    </tr>\n",
              "    <tr>\n",
              "      <th>num_binary</th>\n",
              "      <td>0</td>\n",
              "    </tr>\n",
              "  </tbody>\n",
              "</table>\n",
              "</div><br><label><b>dtype:</b> int64</label>"
            ]
          },
          "metadata": {},
          "execution_count": 6
        }
      ]
    },
    {
      "cell_type": "markdown",
      "source": [
        "<h1> Only Include Female Population </h1>"
      ],
      "metadata": {
        "id": "MV93uyll4TAz"
      }
    },
    {
      "cell_type": "code",
      "source": [
        "df_binary_col = df_binary_col[df_binary_col['sex'] == 0]\n",
        "df_binary_col = df_binary_col.drop(columns=['sex'])"
      ],
      "metadata": {
        "id": "E5Tnndz-4QC5"
      },
      "execution_count": null,
      "outputs": []
    },
    {
      "cell_type": "code",
      "source": [
        "from sklearn.model_selection import train_test_split\n",
        "\n",
        "# Assuming `df` is your DataFrame\n",
        "# Drop the unique identifier and the target column from features\n",
        "X = df_binary_col.drop(columns=['num_binary'])\n",
        "\n",
        "# Separate the target\n",
        "y = df_binary_col['num_binary']\n",
        "\n",
        "# Split the data\n",
        "X_train, X_test, y_train, y_test = train_test_split(X, y, test_size=0.2, random_state=42, stratify=y)\n",
        "\n",
        "# Now, X_train and X_test contain only relevant feature columns\n",
        "# y_train and y_test contain only the target variable"
      ],
      "metadata": {
        "id": "JXbpJL0F4WrW"
      },
      "execution_count": null,
      "outputs": []
    },
    {
      "cell_type": "markdown",
      "source": [
        "<h1> Transformation Test 1 </h1>\n",
        "<br>\n",
        "Logarithmic Transformation of for Resting Blood Pressure and Cholesterol. Squared Transformation of Maximum Heart Rate"
      ],
      "metadata": {
        "id": "qPmIJlk64iNw"
      }
    },
    {
      "cell_type": "code",
      "source": [
        "from sklearn.base import BaseEstimator, TransformerMixin\n",
        "import numpy as np\n",
        "from sklearn.compose import ColumnTransformer\n",
        "from sklearn.preprocessing import StandardScaler, OneHotEncoder"
      ],
      "metadata": {
        "id": "a9Nk96su4cGH"
      },
      "execution_count": null,
      "outputs": []
    },
    {
      "cell_type": "code",
      "source": [
        "# Custom Transformer for Logarithmic Transformation\n",
        "class LogTransformer(BaseEstimator, TransformerMixin):\n",
        "    def __init__(self, columns):\n",
        "        self.columns = columns\n",
        "\n",
        "    def fit(self, X, y=None):\n",
        "        return self\n",
        "\n",
        "    def transform(self, X):\n",
        "        X_copy = X.copy()\n",
        "        X_copy[self.columns] = np.log1p(X_copy[self.columns])\n",
        "        return X_copy\n",
        "\n",
        "# Custom Transformer for Square Transformation\n",
        "class SquareTransformer(BaseEstimator, TransformerMixin):\n",
        "    def __init__(self, columns):\n",
        "        self.columns = columns\n",
        "\n",
        "    def fit(self, X, y=None):\n",
        "        return self\n",
        "\n",
        "    def transform(self, X):\n",
        "        X_copy = X.copy()\n",
        "        X_copy[self.columns] = X_copy[self.columns] ** 2\n",
        "        return X_copy\n",
        "\n",
        "# Define the columns for transformation\n",
        "log_transform_columns = ['trestbps', 'chol']\n",
        "square_transform_columns = ['thalach']\n",
        "\n",
        "# Define the preprocessing pipeline\n",
        "ct = ColumnTransformer(\n",
        "    transformers=[\n",
        "        (\"log_transform\", LogTransformer(log_transform_columns), log_transform_columns),\n",
        "        (\"square_transform\", SquareTransformer(square_transform_columns), square_transform_columns),\n",
        "        (\"scaling\", StandardScaler(), ['age','cp', 'fbs', 'restecg', 'exang', 'oldpeak', 'slope']),\n",
        "        (\"onehot\", OneHotEncoder(sparse_output=False), ['ca', 'thal'])\n",
        "    ],\n",
        "    remainder='drop'  # Drop all other columns not specified\n",
        ")\n",
        "\n",
        "# Apply the transformations to training and testing data\n",
        "X_train_transformedtest = ct.fit_transform(X_train)\n",
        "X_test_transformedtest = ct.transform(X_test)"
      ],
      "metadata": {
        "id": "cGo_j73q4lfu"
      },
      "execution_count": null,
      "outputs": []
    },
    {
      "cell_type": "markdown",
      "source": [
        "<h1>Random Forrest Classifier on Transformation 1</h1>"
      ],
      "metadata": {
        "id": "1oINxezC4zPX"
      }
    },
    {
      "cell_type": "code",
      "source": [
        "from sklearn.ensemble import RandomForestClassifier\n",
        "from sklearn.metrics import accuracy_score, f1_score, confusion_matrix, ConfusionMatrixDisplay,precision_score, recall_score\n",
        "import matplotlib.pyplot as plt\n",
        "\n",
        "# Create a Random Forest classifier\n",
        "clf = RandomForestClassifier(n_estimators=25, random_state=42,max_depth=20)\n",
        "\n",
        "# Training the model on the training dataset\n",
        "clf.fit(X_train_transformedtest, y_train)\n",
        "\n",
        "# Performing predictions on the test dataset\n",
        "y_pred = clf.predict(X_test_transformedtest)\n",
        "\n",
        "# Calculate accuracy and F1 score\n",
        "accuracy = accuracy_score(y_test, y_pred)\n",
        "f1 = f1_score(y_test, y_pred, average='weighted')\n",
        "precision = precision_score(y_pred, y_test, average=\"weighted\")\n",
        "recall = recall_score(y_pred, y_test, average=\"weighted\")\n",
        "\n",
        "# Print accuracy and F1 score\n",
        "print(f\"Accuracy of the model: {accuracy}\")\n",
        "print(f\"F1 Score of the model: {f1}\")\n",
        "print(\"Precision:\", precision)\n",
        "print(\"Recall:\", recall)\n",
        "\n",
        "\n",
        "# Generate and plot the confusion matrix\n",
        "cm = confusion_matrix(y_test, y_pred)\n",
        "cmd = ConfusionMatrixDisplay(cm, display_labels=clf.classes_)\n",
        "cmd.plot()\n",
        "plt.show()"
      ],
      "metadata": {
        "colab": {
          "base_uri": "https://localhost:8080/",
          "height": 524
        },
        "id": "O5lMg-gK4vx3",
        "outputId": "82b219bb-73b2-4365-be27-037fa80b7c57"
      },
      "execution_count": null,
      "outputs": [
        {
          "output_type": "stream",
          "name": "stdout",
          "text": [
            "Accuracy of the model: 0.75\n",
            "F1 Score of the model: 0.7077922077922079\n",
            "Precision: 0.86\n",
            "Recall: 0.75\n"
          ]
        },
        {
          "output_type": "display_data",
          "data": {
            "text/plain": [
              "<Figure size 640x480 with 2 Axes>"
            ],
            "image/png": "[encoded data removed]"
          },
          "metadata": {}
        }
      ]
    },
    {
      "cell_type": "code",
      "source": [
        "# Import the necessary library\n",
        "#!pip install xgboost\n",
        "from xgboost import XGBClassifier\n",
        "from sklearn.metrics import classification_report, accuracy_score\n",
        "\n",
        "# Initialize the XGBoost classifier\n",
        "xgb_classifier = XGBClassifier(random_state=42)\n",
        "\n",
        "# Train the model\n",
        "xgb_classifier.fit(X_train_transformedtest, y_train)\n",
        "\n",
        "# Make predictions on the test set\n",
        "y_pred = xgb_classifier.predict(X_test_transformedtest)\n",
        "\n",
        "# Evaluate the model\n",
        "accuracy = accuracy_score(y_test, y_pred)\n",
        "print(\"Accuracy:\", accuracy)\n",
        "print(classification_report(y_test, y_pred))"
      ],
      "metadata": {
        "colab": {
          "base_uri": "https://localhost:8080/"
        },
        "id": "kq_mWEWF7AZh",
        "outputId": "d1a21fb6-157f-40af-ecd4-3e152d679be4"
      },
      "execution_count": null,
      "outputs": [
        {
          "output_type": "stream",
          "name": "stdout",
          "text": [
            "Accuracy: 0.9\n",
            "              precision    recall  f1-score   support\n",
            "\n",
            "           0       0.88      1.00      0.94        15\n",
            "           1       1.00      0.60      0.75         5\n",
            "\n",
            "    accuracy                           0.90        20\n",
            "   macro avg       0.94      0.80      0.84        20\n",
            "weighted avg       0.91      0.90      0.89        20\n",
            "\n"
          ]
        }
      ]
    },
    {
      "cell_type": "markdown",
      "source": [
        "<h1><strong> Transformation Test 2 </strong></h1>\n",
        "<ol>\n",
        "<li>Logarithmic Transformation for Resting Blood Pressure and Cholesterol.</li>\n",
        "<li>Squared Transformation of Maximum Heart Rate</li>\n",
        "<li> <strong>combination of oldpeak and slope </strong></li> </ol>"
      ],
      "metadata": {
        "id": "o_X_n3Oy8jHf"
      }
    },
    {
      "cell_type": "code",
      "source": [
        "from sklearn.base import BaseEstimator, TransformerMixin\n",
        "from sklearn.compose import ColumnTransformer\n",
        "from sklearn.preprocessing import StandardScaler, OneHotEncoder\n",
        "import numpy as np\n",
        "\n",
        "# Custom Transformer for Logarithmic Transformation\n",
        "class LogTransformer(BaseEstimator, TransformerMixin):\n",
        "    def __init__(self, columns):\n",
        "        self.columns = columns\n",
        "\n",
        "    def fit(self, X, y=None):\n",
        "        return self\n",
        "\n",
        "    def transform(self, X):\n",
        "        X_copy = X.copy()\n",
        "        X_copy[self.columns] = np.log1p(X_copy[self.columns])\n",
        "        return X_copy\n",
        "\n",
        "# Custom Transformer for Square Transformation\n",
        "class SquareTransformer(BaseEstimator, TransformerMixin):\n",
        "    def __init__(self, columns):\n",
        "        self.columns = columns\n",
        "\n",
        "    def fit(self, X, y=None):\n",
        "        return self\n",
        "\n",
        "    def transform(self, X):\n",
        "        X_copy = X.copy()\n",
        "        X_copy[self.columns] = X_copy[self.columns] ** 2\n",
        "        return X_copy\n",
        "\n",
        "# Custom Transformer for Combining 'oldpeak' and 'slope'\n",
        "class CombineOldpeakSlope(BaseEstimator, TransformerMixin):\n",
        "    def __init__(self, method='add'):  # Choose method: 'add', 'multiply', 'weighted'\n",
        "        self.method = method\n",
        "\n",
        "    def fit(self, X, y=None):\n",
        "        return self\n",
        "\n",
        "    def transform(self, X):\n",
        "        X_copy = X.copy()\n",
        "        if self.method == 'add':\n",
        "            X_copy['oldpeak_slope_combined'] = X_copy['oldpeak'] + X_copy['slope']\n",
        "        elif self.method == 'multiply':\n",
        "            X_copy['oldpeak_slope_combined'] = X_copy['oldpeak'] * X_copy['slope']\n",
        "        elif self.method == 'weighted':\n",
        "            X_copy['oldpeak_slope_combined'] = 0.6 * X_copy['oldpeak'] + 0.4 * X_copy['slope']\n",
        "        return X_copy.drop(columns=['oldpeak', 'slope'])\n",
        "\n",
        "# Define the columns for transformation\n",
        "log_transform_columns = ['trestbps', 'chol']\n",
        "square_transform_columns = ['thalach']\n",
        "combine_columns = ['oldpeak', 'slope']\n",
        "\n",
        "# Define the preprocessing pipeline\n",
        "ct = ColumnTransformer(\n",
        "    transformers=[\n",
        "        (\"log_transform\", LogTransformer(log_transform_columns), log_transform_columns),\n",
        "        (\"square_transform\", SquareTransformer(square_transform_columns), square_transform_columns),\n",
        "        (\"combine_oldpeak_slope\", CombineOldpeakSlope(method='add'), combine_columns),\n",
        "        (\"scaling\", StandardScaler(), ['age','fbs', 'restecg', 'exang']),\n",
        "        (\"onehot\", OneHotEncoder(sparse_output=False), ['ca', 'thal', 'cp'])\n",
        "    ],\n",
        "    remainder='drop'  # Drop all other columns not specified\n",
        ")\n",
        "\n",
        "# Apply the transformations to training and testing data\n",
        "X_train_transformed = ct.fit_transform(X_train)\n",
        "X_test_transformed = ct.transform(X_test)"
      ],
      "metadata": {
        "id": "rd0Z2V8d8oWq"
      },
      "execution_count": null,
      "outputs": []
    },
    {
      "cell_type": "markdown",
      "source": [
        "<h2> Random Forrest Classifier on Transformation 2 </h2>"
      ],
      "metadata": {
        "id": "4xF8wXEa81kk"
      }
    },
    {
      "cell_type": "code",
      "source": [
        "from sklearn.ensemble import RandomForestClassifier\n",
        "from sklearn.metrics import accuracy_score, f1_score, confusion_matrix, ConfusionMatrixDisplay,precision_score, recall_score\n",
        "import matplotlib.pyplot as plt\n",
        "\n",
        "# Create a Random Forest classifier\n",
        "clf = RandomForestClassifier(n_estimators=25, random_state=1,max_depth=20)\n",
        "\n",
        "# Training the model on the training dataset\n",
        "clf.fit(X_train_transformed, y_train)\n",
        "\n",
        "# Performing predictions on the test dataset\n",
        "y_pred = clf.predict(X_test_transformed)\n",
        "\n",
        "# Calculate accuracy and F1 score\n",
        "accuracy = accuracy_score(y_test, y_pred)\n",
        "f1 = f1_score(y_test, y_pred, average='weighted')\n",
        "precision = precision_score(y_pred, y_test, average=\"weighted\")\n",
        "recall = recall_score(y_pred, y_test, average=\"weighted\")\n",
        "\n",
        "# Print accuracy and F1 score\n",
        "print(f\"Accuracy of the model: {accuracy}\")\n",
        "print(f\"F1 Score of the model: {f1}\")\n",
        "print(\"Precision:\", precision)\n",
        "print(\"Recall:\", recall)\n",
        "\n",
        "\n",
        "# Generate and plot the confusion matrix\n",
        "cm = confusion_matrix(y_test, y_pred)\n",
        "cmd = ConfusionMatrixDisplay(cm, display_labels=clf.classes_)\n",
        "cmd.plot()\n",
        "plt.show()"
      ],
      "metadata": {
        "colab": {
          "base_uri": "https://localhost:8080/",
          "height": 524
        },
        "id": "g2D6sVny8yaU",
        "outputId": "fcb7bad9-61db-43b9-9cac-22359ed3c504"
      },
      "execution_count": null,
      "outputs": [
        {
          "output_type": "stream",
          "name": "stdout",
          "text": [
            "Accuracy of the model: 0.8\n",
            "F1 Score of the model: 0.78125\n",
            "Precision: 0.8533333333333333\n",
            "Recall: 0.8\n"
          ]
        },
        {
          "output_type": "display_data",
          "data": {
            "text/plain": [
              "<Figure size 640x480 with 2 Axes>"
            ],
            "image/png": "[encoded data removed]"
          },
          "metadata": {}
        }
      ]
    },
    {
      "cell_type": "markdown",
      "source": [
        "<h2>XGB Forrest Classifier on Transformation 2</h2>"
      ],
      "metadata": {
        "id": "sJY25WXO9BR0"
      }
    },
    {
      "cell_type": "code",
      "source": [
        "# Import the necessary library\n",
        "#!pip install xgboost\n",
        "from xgboost import XGBClassifier\n",
        "from sklearn.metrics import classification_report, accuracy_score\n",
        "\n",
        "# Initialize the XGBoost classifier\n",
        "xgb_classifier = XGBClassifier(random_state=42)\n",
        "\n",
        "# Train the model\n",
        "xgb_classifier.fit(X_train_transformed, y_train)\n",
        "\n",
        "# Make predictions on the test set\n",
        "y_pred = xgb_classifier.predict(X_test_transformed)\n",
        "\n",
        "# Evaluate the model\n",
        "accuracy = accuracy_score(y_test, y_pred)\n",
        "print(\"Accuracy:\", accuracy)\n",
        "print(classification_report(y_test, y_pred))"
      ],
      "metadata": {
        "colab": {
          "base_uri": "https://localhost:8080/"
        },
        "id": "Z-g40IS888jj",
        "outputId": "10d2cc2f-e3ce-4772-ddd0-1dd814d9ae2f"
      },
      "execution_count": null,
      "outputs": [
        {
          "output_type": "stream",
          "name": "stdout",
          "text": [
            "Accuracy: 0.85\n",
            "              precision    recall  f1-score   support\n",
            "\n",
            "           0       0.83      1.00      0.91        15\n",
            "           1       1.00      0.40      0.57         5\n",
            "\n",
            "    accuracy                           0.85        20\n",
            "   macro avg       0.92      0.70      0.74        20\n",
            "weighted avg       0.88      0.85      0.82        20\n",
            "\n"
          ]
        }
      ]
    },
    {
      "cell_type": "markdown",
      "source": [
        "<h1> K-Means Crossfold Validation </h1>"
      ],
      "metadata": {
        "id": "MzV1Lxqh-RAq"
      }
    },
    {
      "cell_type": "code",
      "source": [
        "from sklearn.model_selection import cross_val_score, KFold\n",
        "from sklearn.svm import SVC\n",
        "from sklearn.metrics import make_scorer\n",
        "\n",
        "# Create a Random Forest classifier\n",
        "clf = RandomForestClassifier(n_estimators=25, random_state=42,max_depth=20)\n",
        "clf_model = clf.fit(X_train_transformed, y_train)\n",
        "num_folds = 5\n",
        "kf = KFold(n_splits=num_folds, shuffle=True, random_state=42)\n",
        "cross_val_results_test = cross_val_score(clf_model, X_test_transformed, y_test, cv=kf)\n",
        "\n",
        "print(f'Cross-Validation Results (Accuracy): {cross_val_results_test}')\n",
        "print(f'Mean Accuracy: {cross_val_results_test.mean()}')\n",
        "# Custom scoring functions\n",
        "precision_test = cross_val_score(clf_model, X_test_transformed, y_test, cv=kf, scoring=make_scorer(precision_score, average='binary'))\n",
        "recall_test = cross_val_score(clf_model, X_test_transformed, y_test, cv=kf, scoring=make_scorer(recall_score, average='binary'))\n",
        "f1_test = cross_val_score(clf_model, X_test_transformed, y_test, cv=kf, scoring=make_scorer(f1_score, average='binary'))\n",
        "\n",
        "# Print the results\n",
        "print(f'Cross-Validation Results (Precision): {precision_test}')\n",
        "print(f'Mean Precision: {precision_test.mean()}')\n",
        "\n",
        "print(f'Cross-Validation Results (Recall): {recall_test}')\n",
        "print(f'Mean Recall: {recall_test.mean()}')\n",
        "\n",
        "print(f'Cross-Validation Results (F1 Score): {f1_test}')\n",
        "print(f'Mean F1 Score: {f1_test.mean()}')"
      ],
      "metadata": {
        "colab": {
          "base_uri": "https://localhost:8080/"
        },
        "id": "gRHKBpFD-NLb",
        "outputId": "444e37b5-f8dc-43a8-df32-21b0c4876e10"
      },
      "execution_count": null,
      "outputs": [
        {
          "output_type": "stream",
          "name": "stdout",
          "text": [
            "Cross-Validation Results (Accuracy): [0.75 0.25 0.75 1.   0.5 ]\n",
            "Mean Accuracy: 0.65\n"
          ]
        },
        {
          "output_type": "stream",
          "name": "stderr",
          "text": [
            "/usr/local/lib/python3.10/dist-packages/sklearn/metrics/_classification.py:1531: UndefinedMetricWarning: Precision is ill-defined and being set to 0.0 due to no predicted samples. Use `zero_division` parameter to control this behavior.\n",
            "  _warn_prf(average, modifier, f\"{metric.capitalize()} is\", len(result))\n",
            "/usr/local/lib/python3.10/dist-packages/sklearn/metrics/_classification.py:1531: UndefinedMetricWarning: Precision is ill-defined and being set to 0.0 due to no predicted samples. Use `zero_division` parameter to control this behavior.\n",
            "  _warn_prf(average, modifier, f\"{metric.capitalize()} is\", len(result))\n",
            "/usr/local/lib/python3.10/dist-packages/sklearn/metrics/_classification.py:1531: UndefinedMetricWarning: Recall is ill-defined and being set to 0.0 due to no true samples. Use `zero_division` parameter to control this behavior.\n",
            "  _warn_prf(average, modifier, f\"{metric.capitalize()} is\", len(result))\n",
            "/usr/local/lib/python3.10/dist-packages/sklearn/metrics/_classification.py:1531: UndefinedMetricWarning: Recall is ill-defined and being set to 0.0 due to no true samples. Use `zero_division` parameter to control this behavior.\n",
            "  _warn_prf(average, modifier, f\"{metric.capitalize()} is\", len(result))\n"
          ]
        },
        {
          "output_type": "stream",
          "name": "stdout",
          "text": [
            "Cross-Validation Results (Precision): [0. 0. 0. 1. 0.]\n",
            "Mean Precision: 0.2\n",
            "Cross-Validation Results (Recall): [0. 0. 0. 1. 0.]\n",
            "Mean Recall: 0.2\n",
            "Cross-Validation Results (F1 Score): [0. 0. 0. 1. 0.]\n",
            "Mean F1 Score: 0.2\n"
          ]
        }
      ]
    },
    {
      "cell_type": "code",
      "source": [
        "from sklearn.model_selection import cross_val_score, KFold\n",
        "from sklearn.svm import SVC\n",
        "num_folds = 5\n",
        "xgb_classifier_model = xgb_classifier.fit(X_train_transformed, y_train)\n",
        "cross_val_results_xgb = cross_val_score(xgb_classifier_model, X_test_transformed, y_test, cv=kf)\n",
        "\n",
        "print(f'Cross-Validation Results (Accuracy): {cross_val_results_xgb}')\n",
        "print(f'Mean Accuracy: {cross_val_results_xgb.mean()}')\n",
        "\n",
        "# Custom scoring functions\n",
        "precision_test_xgb = cross_val_score(xgb_classifier_model, X_test_transformed, y_test, cv=kf, scoring=make_scorer(precision_score, average='binary'))\n",
        "recall_test_xgb = cross_val_score(xgb_classifier_model, X_test_transformed, y_test, cv=kf, scoring=make_scorer(recall_score, average='binary'))\n",
        "f1_test_xgb = cross_val_score(xgb_classifier_model, X_test_transformed, y_test, cv=kf, scoring=make_scorer(f1_score, average='binary'))\n",
        "\n",
        "# Print the results\n",
        "print(f'Cross-Validation Results (Precision): {precision_test_xgb}')\n",
        "print(f'Mean Precision: {precision_test_xgb.mean()}')\n",
        "\n",
        "print(f'Cross-Validation Results (Recall): {recall_test_xgb}')\n",
        "print(f'Mean Recall: {recall_test_xgb.mean()}')\n",
        "\n",
        "print(f'Cross-Validation Results (F1 Score): {f1_test_xgb}')\n",
        "print(f'Mean F1 Score: {f1_test_xgb.mean()}')\n"
      ],
      "metadata": {
        "colab": {
          "base_uri": "https://localhost:8080/"
        },
        "id": "J2Ov1Ra0_dtG",
        "outputId": "03344f7f-f9e1-4839-fc70-8929187b92f8"
      },
      "execution_count": null,
      "outputs": [
        {
          "output_type": "stream",
          "name": "stdout",
          "text": [
            "Cross-Validation Results (Accuracy): [1.   0.25 1.   1.   0.5 ]\n",
            "Mean Accuracy: 0.75\n"
          ]
        },
        {
          "output_type": "stream",
          "name": "stderr",
          "text": [
            "/usr/local/lib/python3.10/dist-packages/sklearn/metrics/_classification.py:1531: UndefinedMetricWarning: Precision is ill-defined and being set to 0.0 due to no predicted samples. Use `zero_division` parameter to control this behavior.\n",
            "  _warn_prf(average, modifier, f\"{metric.capitalize()} is\", len(result))\n",
            "/usr/local/lib/python3.10/dist-packages/sklearn/metrics/_classification.py:1531: UndefinedMetricWarning: Precision is ill-defined and being set to 0.0 due to no predicted samples. Use `zero_division` parameter to control this behavior.\n",
            "  _warn_prf(average, modifier, f\"{metric.capitalize()} is\", len(result))\n",
            "/usr/local/lib/python3.10/dist-packages/sklearn/metrics/_classification.py:1531: UndefinedMetricWarning: Recall is ill-defined and being set to 0.0 due to no true samples. Use `zero_division` parameter to control this behavior.\n",
            "  _warn_prf(average, modifier, f\"{metric.capitalize()} is\", len(result))\n",
            "/usr/local/lib/python3.10/dist-packages/sklearn/metrics/_classification.py:1531: UndefinedMetricWarning: Recall is ill-defined and being set to 0.0 due to no true samples. Use `zero_division` parameter to control this behavior.\n",
            "  _warn_prf(average, modifier, f\"{metric.capitalize()} is\", len(result))\n",
            "/usr/local/lib/python3.10/dist-packages/sklearn/metrics/_classification.py:1531: UndefinedMetricWarning: F-score is ill-defined and being set to 0.0 due to no true nor predicted samples. Use `zero_division` parameter to control this behavior.\n",
            "  _warn_prf(average, modifier, f\"{metric.capitalize()} is\", len(result))\n"
          ]
        },
        {
          "output_type": "stream",
          "name": "stdout",
          "text": [
            "Cross-Validation Results (Precision): [0. 0. 1. 1. 0.]\n",
            "Mean Precision: 0.4\n",
            "Cross-Validation Results (Recall): [0. 0. 1. 1. 0.]\n",
            "Mean Recall: 0.4\n",
            "Cross-Validation Results (F1 Score): [0. 0. 1. 1. 0.]\n",
            "Mean F1 Score: 0.4\n"
          ]
        }
      ]
    },
    {
      "cell_type": "markdown",
      "source": [
        "<h1> Addressing the imbalanced dataset </h1>"
      ],
      "metadata": {
        "id": "Y-MhQ5iPARNb"
      }
    },
    {
      "cell_type": "code",
      "source": [
        "from sklearn.ensemble import VotingClassifier, RandomForestClassifier\n",
        "from xgboost import XGBClassifier\n",
        "from sklearn.linear_model import LogisticRegression\n",
        "from sklearn.utils.class_weight import compute_class_weight\n",
        "from sklearn.metrics import accuracy_score, f1_score, precision_score, recall_score, classification_report\n",
        "from imblearn.combine import SMOTEENN\n",
        "import numpy as np\n",
        "\n",
        "# ==========================\n",
        "# Handle Class Imbalance\n",
        "# ==========================\n",
        "\n",
        "# Optional: Use SMOTEENN for oversampling and undersampling\n",
        "smoteenn = SMOTEENN(random_state=42)\n",
        "X_train_balanced, y_train_balanced = smoteenn.fit_resample(X_train_transformed, y_train)\n",
        "\n",
        "# ==========================\n",
        "# Define Base Classifiers\n",
        "# ==========================\n",
        "\n",
        "# Random Forest\n",
        "rf_clf = RandomForestClassifier(\n",
        "    class_weight={0: 1, 1: 10},  # Adjust class weights\n",
        "    n_estimators=25,\n",
        "    random_state=42,\n",
        "    max_depth=20\n",
        ")\n",
        "\n",
        "# XGBoost (Binary Classification)\n",
        "xgb_clf = XGBClassifier(\n",
        "    random_state=42,\n",
        "    eval_metric='logloss',\n",
        "    objective='binary:logistic',  # Binary classification objective\n",
        "    use_label_encoder=False\n",
        ")\n",
        "\n",
        "# Logistic Regression\n",
        "lr_clf = LogisticRegression(\n",
        "    random_state=42,\n",
        "    max_iter=10000,\n",
        "    solver='saga',\n",
        "    penalty='l2'\n",
        ")\n",
        "\n",
        "# ==========================\n",
        "# Define Ensemble Model\n",
        "# ==========================\n",
        "\n",
        "ensemble_clf = VotingClassifier(\n",
        "    estimators=[\n",
        "        ('rf', rf_clf),\n",
        "        ('xgb', xgb_clf),\n",
        "        ('lr', lr_clf)\n",
        "    ],\n",
        "    voting='soft'  # Use probabilities for decision making\n",
        ")\n",
        "\n",
        "# ==========================\n",
        "# Train the Ensemble Model\n",
        "# ==========================\n",
        "\n",
        "# Fit the ensemble model with SMOTE-balanced data\n",
        "ensemble_clf.fit(X_train_balanced, y_train_balanced)\n",
        "\n",
        "# Predict on the test data\n",
        "y_pred_ensemble = ensemble_clf.predict(X_test_transformed)\n",
        "\n",
        "# ==========================\n",
        "# Evaluate the Model\n",
        "# ==========================\n",
        "\n",
        "# Accuracy\n",
        "accuracy = accuracy_score(y_test, y_pred_ensemble)\n",
        "\n",
        "# F1 Score\n",
        "f1 = f1_score(y_test, y_pred_ensemble, average='binary')  # 'binary' for binary classification\n",
        "\n",
        "# Precision\n",
        "precision = precision_score(y_test, y_pred_ensemble, average='binary', zero_division=0)\n",
        "\n",
        "# Recall\n",
        "recall = recall_score(y_test, y_pred_ensemble, average='binary')\n",
        "\n",
        "# Classification Report\n",
        "report = classification_report(y_test, y_pred_ensemble, target_names=['Class 0', 'Class 1'])\n",
        "\n",
        "# Output Results\n",
        "print(f\"Accuracy: {accuracy}\")\n",
        "print(f\"F1 Score: {f1}\")\n",
        "print(f\"Precision: {precision}\")\n",
        "print(f\"Recall: {recall}\")\n",
        "print(\"\\nClassification Report:\")\n",
        "print(report)\n"
      ],
      "metadata": {
        "colab": {
          "base_uri": "https://localhost:8080/"
        },
        "id": "hI5jr-gKAnpA",
        "outputId": "7e931ceb-2c2c-4bde-cbfc-208b41453db4"
      },
      "execution_count": null,
      "outputs": [
        {
          "output_type": "stream",
          "name": "stderr",
          "text": [
            "/usr/local/lib/python3.10/dist-packages/xgboost/core.py:158: UserWarning: [20:32:38] WARNING: /workspace/src/learner.cc:740: \n",
            "Parameters: { \"use_label_encoder\" } are not used.\n",
            "\n",
            "  warnings.warn(smsg, UserWarning)\n"
          ]
        },
        {
          "output_type": "stream",
          "name": "stdout",
          "text": [
            "Accuracy: 0.8\n",
            "F1 Score: 0.6\n",
            "Precision: 0.6\n",
            "Recall: 0.6\n",
            "\n",
            "Classification Report:\n",
            "              precision    recall  f1-score   support\n",
            "\n",
            "     Class 0       0.87      0.87      0.87        15\n",
            "     Class 1       0.60      0.60      0.60         5\n",
            "\n",
            "    accuracy                           0.80        20\n",
            "   macro avg       0.73      0.73      0.73        20\n",
            "weighted avg       0.80      0.80      0.80        20\n",
            "\n"
          ]
        }
      ]
    },
    {
      "cell_type": "code",
      "source": [
        "from sklearn.ensemble import RandomForestClassifier\n",
        "from sklearn.metrics import accuracy_score, f1_score, precision_score, recall_score, classification_report\n",
        "from imblearn.combine import SMOTEENN\n",
        "import numpy as np\n",
        "\n",
        "# ==========================\n",
        "# Handle Class Imbalance\n",
        "# ==========================\n",
        "\n",
        "# Use SMOTEENN for oversampling and undersampling\n",
        "smoteenn = SMOTEENN(random_state=42)\n",
        "X_train_balanced, y_train_balanced = smoteenn.fit_resample(X_train_transformed, y_train)\n",
        "\n",
        "# ==========================\n",
        "# Define Random Forest Classifier\n",
        "# ==========================\n",
        "\n",
        "# Random Forest with custom class weights for imbalance\n",
        "rf_clf = RandomForestClassifier(\n",
        "    class_weight={0: 1, 1: 10},  # Adjust weights for imbalanced classes\n",
        "    n_estimators=100,           # Number of trees in the forest\n",
        "    max_depth=20,               # Maximum depth of the trees\n",
        "    random_state=42             # Ensures reproducibility\n",
        ")\n",
        "\n",
        "# ==========================\n",
        "# Train the Random Forest Model\n",
        "# ==========================\n",
        "\n",
        "# Fit the model on the balanced training data\n",
        "rf_clf.fit(X_train_balanced, y_train_balanced)\n",
        "\n",
        "# Predict on the test data\n",
        "y_pred_rf = rf_clf.predict(X_test_transformed)\n",
        "\n",
        "# ==========================\n",
        "# Evaluate the Model\n",
        "# ==========================\n",
        "\n",
        "# Accuracy\n",
        "accuracy = accuracy_score(y_test, y_pred_rf)\n",
        "\n",
        "# F1 Score\n",
        "f1 = f1_score(y_test, y_pred_rf, average='binary')  # 'binary' for binary classification\n",
        "\n",
        "# Precision\n",
        "precision = precision_score(y_test, y_pred_rf, average='binary', zero_division=0)\n",
        "\n",
        "# Recall\n",
        "recall = recall_score(y_test, y_pred_rf, average='binary')\n",
        "\n",
        "# Classification Report\n",
        "report = classification_report(y_test, y_pred_rf, target_names=['Class 0', 'Class 1'])\n",
        "\n",
        "# Output Results\n",
        "print(f\"Accuracy: {accuracy}\")\n",
        "print(f\"F1 Score: {f1}\")\n",
        "print(f\"Precision: {precision}\")\n",
        "print(f\"Recall: {recall}\")\n",
        "print(\"\\nClassification Report:\")\n",
        "print(report)\n"
      ],
      "metadata": {
        "colab": {
          "base_uri": "https://localhost:8080/"
        },
        "id": "8b66uPXsCHYF",
        "outputId": "0563a59a-bf71-4718-f46e-21a4e1f2b94d"
      },
      "execution_count": null,
      "outputs": [
        {
          "output_type": "stream",
          "name": "stdout",
          "text": [
            "Accuracy: 0.8\n",
            "F1 Score: 0.5\n",
            "Precision: 0.6666666666666666\n",
            "Recall: 0.4\n",
            "\n",
            "Classification Report:\n",
            "              precision    recall  f1-score   support\n",
            "\n",
            "     Class 0       0.82      0.93      0.88        15\n",
            "     Class 1       0.67      0.40      0.50         5\n",
            "\n",
            "    accuracy                           0.80        20\n",
            "   macro avg       0.75      0.67      0.69        20\n",
            "weighted avg       0.78      0.80      0.78        20\n",
            "\n"
          ]
        }
      ]
    },
    {
      "cell_type": "code",
      "source": [
        "from xgboost import XGBClassifier\n",
        "from sklearn.metrics import accuracy_score, f1_score, precision_score, recall_score, classification_report\n",
        "from imblearn.combine import SMOTEENN\n",
        "import numpy as np\n",
        "\n",
        "# ==========================\n",
        "# Handle Class Imbalance\n",
        "# ==========================\n",
        "\n",
        "# Use SMOTEENN for oversampling and undersampling\n",
        "smoteenn = SMOTEENN(random_state=42)\n",
        "X_train_balanced, y_train_balanced = smoteenn.fit_resample(X_train_transformed, y_train)\n",
        "\n",
        "# ==========================\n",
        "# Define XGBoost Classifier\n",
        "# ==========================\n",
        "\n",
        "# XGBoost for binary classification\n",
        "xgb_clf = XGBClassifier(\n",
        "    random_state=42,            # Ensures reproducibility\n",
        "    eval_metric='logloss',      # Binary classification metric\n",
        "    objective='binary:logistic',# Binary classification objective\n",
        "    use_label_encoder=False,    # Avoids label encoding warnings\n",
        "    scale_pos_weight=10         # Balances the weight for minority class\n",
        ")\n",
        "\n",
        "# ==========================\n",
        "# Train the XGBoost Model\n",
        "# ==========================\n",
        "\n",
        "# Fit the model on the balanced training data\n",
        "xgb_clf.fit(X_train_balanced, y_train_balanced)\n",
        "\n",
        "# Predict on the test data\n",
        "y_pred_xgb = xgb_clf.predict(X_test_transformed)\n",
        "\n",
        "# ==========================\n",
        "# Evaluate the Model\n",
        "# ==========================\n",
        "\n",
        "# Accuracy\n",
        "accuracy = accuracy_score(y_test, y_pred_xgb)\n",
        "\n",
        "# F1 Score\n",
        "f1 = f1_score(y_test, y_pred_xgb, average='binary')  # 'binary' for binary classification\n",
        "\n",
        "# Precision\n",
        "precision = precision_score(y_test, y_pred_xgb, average='binary', zero_division=0)\n",
        "\n",
        "# Recall\n",
        "recall = recall_score(y_test, y_pred_xgb, average='binary')\n",
        "\n",
        "# Classification Report\n",
        "report = classification_report(y_test, y_pred_xgb, target_names=['Class 0', 'Class 1'])\n",
        "\n",
        "# Output Results\n",
        "print(f\"Accuracy: {accuracy}\")\n",
        "print(f\"F1 Score: {f1}\")\n",
        "print(f\"Precision: {precision}\")\n",
        "print(f\"Recall: {recall}\")\n",
        "print(\"\\nClassification Report:\")\n",
        "print(report)\n"
      ],
      "metadata": {
        "colab": {
          "base_uri": "https://localhost:8080/"
        },
        "id": "iwYujnD8DAyu",
        "outputId": "5a8ad48d-b577-4aae-9c65-ea7dabd5d14f"
      },
      "execution_count": null,
      "outputs": [
        {
          "output_type": "stream",
          "name": "stderr",
          "text": [
            "/usr/local/lib/python3.10/dist-packages/xgboost/core.py:158: UserWarning: [20:38:31] WARNING: /workspace/src/learner.cc:740: \n",
            "Parameters: { \"use_label_encoder\" } are not used.\n",
            "\n",
            "  warnings.warn(smsg, UserWarning)\n"
          ]
        },
        {
          "output_type": "stream",
          "name": "stdout",
          "text": [
            "Accuracy: 0.8\n",
            "F1 Score: 0.6\n",
            "Precision: 0.6\n",
            "Recall: 0.6\n",
            "\n",
            "Classification Report:\n",
            "              precision    recall  f1-score   support\n",
            "\n",
            "     Class 0       0.87      0.87      0.87        15\n",
            "     Class 1       0.60      0.60      0.60         5\n",
            "\n",
            "    accuracy                           0.80        20\n",
            "   macro avg       0.73      0.73      0.73        20\n",
            "weighted avg       0.80      0.80      0.80        20\n",
            "\n"
          ]
        }
      ]
    },
    {
      "cell_type": "code",
      "source": [
        "from sklearn.model_selection import cross_val_score, KFold\n",
        "from sklearn.svm import SVC\n",
        "from sklearn.metrics import make_scorer\n",
        "\n",
        "# Create a Random Forest classifier\n",
        "clf = RandomForestClassifier(n_estimators=25, random_state=42,max_depth=20)\n",
        "clf_model = clf.fit(X_train_balanced, y_train_balanced)\n",
        "num_folds = 5\n",
        "kf = KFold(n_splits=num_folds, shuffle=True, random_state=42)\n",
        "cross_val_results_test = cross_val_score(clf_model, X_test_transformed, y_test, cv=kf)\n",
        "\n",
        "print(f'Cross-Validation Results (Accuracy): {cross_val_results_test}')\n",
        "print(f'Mean Accuracy: {cross_val_results_test.mean()}')\n",
        "# Custom scoring functions\n",
        "precision_test = cross_val_score(clf_model, X_test_transformed, y_test, cv=kf, scoring=make_scorer(precision_score, average='binary'))\n",
        "recall_test = cross_val_score(clf_model, X_test_transformed, y_test, cv=kf, scoring=make_scorer(recall_score, average='binary'))\n",
        "f1_test = cross_val_score(clf_model, X_test_transformed, y_test, cv=kf, scoring=make_scorer(f1_score, average='binary'))\n",
        "\n",
        "# Print the results\n",
        "print(f'Cross-Validation Results (Precision): {precision_test}')\n",
        "print(f'Mean Precision: {precision_test.mean()}')\n",
        "\n",
        "print(f'Cross-Validation Results (Recall): {recall_test}')\n",
        "print(f'Mean Recall: {recall_test.mean()}')\n",
        "\n",
        "print(f'Cross-Validation Results (F1 Score): {f1_test}')\n",
        "print(f'Mean F1 Score: {f1_test.mean()}')"
      ],
      "metadata": {
        "colab": {
          "base_uri": "https://localhost:8080/"
        },
        "id": "DXGIjyYrDNnj",
        "outputId": "13232854-de4f-492f-9ce8-e7447dfdb159"
      },
      "execution_count": null,
      "outputs": [
        {
          "output_type": "stream",
          "name": "stdout",
          "text": [
            "Cross-Validation Results (Accuracy): [0.75 0.25 0.75 1.   0.5 ]\n",
            "Mean Accuracy: 0.65\n"
          ]
        },
        {
          "output_type": "stream",
          "name": "stderr",
          "text": [
            "/usr/local/lib/python3.10/dist-packages/sklearn/metrics/_classification.py:1531: UndefinedMetricWarning: Precision is ill-defined and being set to 0.0 due to no predicted samples. Use `zero_division` parameter to control this behavior.\n",
            "  _warn_prf(average, modifier, f\"{metric.capitalize()} is\", len(result))\n",
            "/usr/local/lib/python3.10/dist-packages/sklearn/metrics/_classification.py:1531: UndefinedMetricWarning: Precision is ill-defined and being set to 0.0 due to no predicted samples. Use `zero_division` parameter to control this behavior.\n",
            "  _warn_prf(average, modifier, f\"{metric.capitalize()} is\", len(result))\n",
            "/usr/local/lib/python3.10/dist-packages/sklearn/metrics/_classification.py:1531: UndefinedMetricWarning: Recall is ill-defined and being set to 0.0 due to no true samples. Use `zero_division` parameter to control this behavior.\n",
            "  _warn_prf(average, modifier, f\"{metric.capitalize()} is\", len(result))\n",
            "/usr/local/lib/python3.10/dist-packages/sklearn/metrics/_classification.py:1531: UndefinedMetricWarning: Recall is ill-defined and being set to 0.0 due to no true samples. Use `zero_division` parameter to control this behavior.\n",
            "  _warn_prf(average, modifier, f\"{metric.capitalize()} is\", len(result))\n"
          ]
        },
        {
          "output_type": "stream",
          "name": "stdout",
          "text": [
            "Cross-Validation Results (Precision): [0. 0. 0. 1. 0.]\n",
            "Mean Precision: 0.2\n",
            "Cross-Validation Results (Recall): [0. 0. 0. 1. 0.]\n",
            "Mean Recall: 0.2\n",
            "Cross-Validation Results (F1 Score): [0. 0. 0. 1. 0.]\n",
            "Mean F1 Score: 0.2\n"
          ]
        }
      ]
    },
    {
      "cell_type": "code",
      "source": [
        "from sklearn.model_selection import cross_val_score, KFold\n",
        "from sklearn.svm import SVC\n",
        "num_folds = 5\n",
        "xgb_classifier_model = xgb_classifier.fit(X_train_transformed, y_train)\n",
        "cross_val_results_xgb = cross_val_score(xgb_classifier_model, X_test_transformed, y_test, cv=kf)\n",
        "\n",
        "print(f'Cross-Validation Results (Accuracy): {cross_val_results_xgb}')\n",
        "print(f'Mean Accuracy: {cross_val_results_xgb.mean()}')\n",
        "\n",
        "# Custom scoring functions\n",
        "precision_test_xgb = cross_val_score(xgb_classifier_model, X_test_transformed, y_test, cv=kf, scoring=make_scorer(precision_score, average='binary'))\n",
        "recall_test_xgb = cross_val_score(xgb_classifier_model, X_test_transformed, y_test, cv=kf, scoring=make_scorer(recall_score, average='binary'))\n",
        "f1_test_xgb = cross_val_score(xgb_classifier_model, X_test_transformed, y_test, cv=kf, scoring=make_scorer(f1_score, average='binary'))\n",
        "\n",
        "# Print the results\n",
        "print(f'Cross-Validation Results (Precision): {precision_test_xgb}')\n",
        "print(f'Mean Precision: {precision_test_xgb.mean()}')\n",
        "\n",
        "print(f'Cross-Validation Results (Recall): {recall_test_xgb}')\n",
        "print(f'Mean Recall: {recall_test_xgb.mean()}')\n",
        "\n",
        "print(f'Cross-Validation Results (F1 Score): {f1_test_xgb}')\n",
        "print(f'Mean F1 Score: {f1_test_xgb.mean()}')"
      ],
      "metadata": {
        "colab": {
          "base_uri": "https://localhost:8080/"
        },
        "id": "IQExFWZODf8r",
        "outputId": "41117b93-67e5-41d7-9a30-a82f504ed9fd"
      },
      "execution_count": null,
      "outputs": [
        {
          "output_type": "stream",
          "name": "stdout",
          "text": [
            "Cross-Validation Results (Accuracy): [1.   0.25 1.   1.   0.5 ]\n",
            "Mean Accuracy: 0.75\n"
          ]
        },
        {
          "output_type": "stream",
          "name": "stderr",
          "text": [
            "/usr/local/lib/python3.10/dist-packages/sklearn/metrics/_classification.py:1531: UndefinedMetricWarning: Precision is ill-defined and being set to 0.0 due to no predicted samples. Use `zero_division` parameter to control this behavior.\n",
            "  _warn_prf(average, modifier, f\"{metric.capitalize()} is\", len(result))\n",
            "/usr/local/lib/python3.10/dist-packages/sklearn/metrics/_classification.py:1531: UndefinedMetricWarning: Precision is ill-defined and being set to 0.0 due to no predicted samples. Use `zero_division` parameter to control this behavior.\n",
            "  _warn_prf(average, modifier, f\"{metric.capitalize()} is\", len(result))\n",
            "/usr/local/lib/python3.10/dist-packages/sklearn/metrics/_classification.py:1531: UndefinedMetricWarning: Recall is ill-defined and being set to 0.0 due to no true samples. Use `zero_division` parameter to control this behavior.\n",
            "  _warn_prf(average, modifier, f\"{metric.capitalize()} is\", len(result))\n",
            "/usr/local/lib/python3.10/dist-packages/sklearn/metrics/_classification.py:1531: UndefinedMetricWarning: Recall is ill-defined and being set to 0.0 due to no true samples. Use `zero_division` parameter to control this behavior.\n",
            "  _warn_prf(average, modifier, f\"{metric.capitalize()} is\", len(result))\n",
            "/usr/local/lib/python3.10/dist-packages/sklearn/metrics/_classification.py:1531: UndefinedMetricWarning: F-score is ill-defined and being set to 0.0 due to no true nor predicted samples. Use `zero_division` parameter to control this behavior.\n",
            "  _warn_prf(average, modifier, f\"{metric.capitalize()} is\", len(result))\n"
          ]
        },
        {
          "output_type": "stream",
          "name": "stdout",
          "text": [
            "Cross-Validation Results (Precision): [0. 0. 1. 1. 0.]\n",
            "Mean Precision: 0.4\n",
            "Cross-Validation Results (Recall): [0. 0. 1. 1. 0.]\n",
            "Mean Recall: 0.4\n",
            "Cross-Validation Results (F1 Score): [0. 0. 1. 1. 0.]\n",
            "Mean F1 Score: 0.4\n"
          ]
        }
      ]
    }
  ]
}