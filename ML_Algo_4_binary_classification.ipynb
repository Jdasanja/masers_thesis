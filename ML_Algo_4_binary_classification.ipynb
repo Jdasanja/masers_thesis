{
  "nbformat": 4,
  "nbformat_minor": 0,
  "metadata": {
    "colab": {
      "provenance": [],
      "authorship_tag": "ABX9TyObMZN7LQcgOaDSs+RvyW8U",
      "include_colab_link": true
    },
    "kernelspec": {
      "name": "python3",
      "display_name": "Python 3"
    },
    "language_info": {
      "name": "python"
    }
  },
  "cells": [
    {
      "cell_type": "markdown",
      "metadata": {
        "id": "view-in-github",
        "colab_type": "text"
      },
      "source": [
        "<a href=\"https://colab.research.google.com/github/Jdasanja/masers_thesis/blob/main/ML_Algo_4_binary_classification.ipynb\" target=\"_parent\"><img src=\"https://colab.research.google.com/assets/colab-badge.svg\" alt=\"Open In Colab\"/></a>"
      ]
    },
    {
      "cell_type": "code",
      "execution_count": 1,
      "metadata": {
        "id": "ReZ4pzuCygsz"
      },
      "outputs": [],
      "source": [
        "# import pandas for reading and displaying local file\n",
        "import pandas as pd"
      ]
    },
    {
      "cell_type": "code",
      "source": [
        "# Load the dataset from the raw GitHub URL\n",
        "url = 'https://raw.githubusercontent.com/Jdasanja/masers_thesis/main/processed.cleveland.data'\n",
        "df = pd.read_csv(url, header=None)\n",
        "\n",
        "# Add column names (based on standard attribute names for the Cleveland dataset)\n",
        "df.columns = ['age', 'sex', 'cp', 'trestbps', 'chol', 'fbs', 'restecg', 'thalach', 'exang',\n",
        "              'oldpeak', 'slope', 'ca', 'thal', 'num']\n",
        "\n",
        "# Add a unique identifier column\n",
        "df['patient_id'] = range(1, len(df) + 1)\n",
        "\n",
        "# Set 'patient_id' as the index\n",
        "df.set_index('patient_id', inplace=True)\n",
        "\n",
        "\n",
        "# Display first few rows of the uploaded file with headers\n",
        "print(\"First few rows of the uploaded file with column headers:\")\n",
        "print(df.head())\n"
      ],
      "metadata": {
        "colab": {
          "base_uri": "https://localhost:8080/"
        },
        "id": "uFWsdqJxy8-5",
        "outputId": "a0b24341-a60d-4d7d-b51e-5ab5ab58bb34"
      },
      "execution_count": 2,
      "outputs": [
        {
          "output_type": "stream",
          "name": "stdout",
          "text": [
            "First few rows of the uploaded file with column headers:\n",
            "             age  sex   cp  trestbps   chol  fbs  restecg  thalach  exang  \\\n",
            "patient_id                                                                  \n",
            "1           63.0  1.0  1.0     145.0  233.0  1.0      2.0    150.0    0.0   \n",
            "2           67.0  1.0  4.0     160.0  286.0  0.0      2.0    108.0    1.0   \n",
            "3           67.0  1.0  4.0     120.0  229.0  0.0      2.0    129.0    1.0   \n",
            "4           37.0  1.0  3.0     130.0  250.0  0.0      0.0    187.0    0.0   \n",
            "5           41.0  0.0  2.0     130.0  204.0  0.0      2.0    172.0    0.0   \n",
            "\n",
            "            oldpeak  slope   ca thal  num  \n",
            "patient_id                                 \n",
            "1               2.3    3.0  0.0  6.0    0  \n",
            "2               1.5    2.0  3.0  3.0    2  \n",
            "3               2.6    2.0  2.0  7.0    1  \n",
            "4               3.5    3.0  0.0  3.0    0  \n",
            "5               1.4    1.0  0.0  3.0    0  \n"
          ]
        }
      ]
    },
    {
      "cell_type": "code",
      "source": [
        "# Create a new dataframe with a new binary column based on the values in 'num'\n",
        "df_binary_col = df.copy()\n",
        "df_binary_col['num_binary'] = df_binary_col['num'].apply(lambda x: 1 if x in [1, 2, 3, 4] else 0)\n",
        "\n",
        "df_binary_col = df_binary_col.drop('num', axis=1)\n"
      ],
      "metadata": {
        "id": "vfEkYnvezEtg"
      },
      "execution_count": 3,
      "outputs": []
    },
    {
      "cell_type": "code",
      "source": [
        "## Total count of missing values\n",
        "df_binary_col.isnull().sum()"
      ],
      "metadata": {
        "colab": {
          "base_uri": "https://localhost:8080/",
          "height": 523
        },
        "id": "_yIiDB9QzJJ5",
        "outputId": "0a1467c6-b15b-4b9a-d6d6-8b050ee52a1c"
      },
      "execution_count": 4,
      "outputs": [
        {
          "output_type": "execute_result",
          "data": {
            "text/plain": [
              "age           0\n",
              "sex           0\n",
              "cp            0\n",
              "trestbps      0\n",
              "chol          0\n",
              "fbs           0\n",
              "restecg       0\n",
              "thalach       0\n",
              "exang         0\n",
              "oldpeak       0\n",
              "slope         0\n",
              "ca            0\n",
              "thal          0\n",
              "num_binary    0\n",
              "dtype: int64"
            ],
            "text/html": [
              "<div>\n",
              "<style scoped>\n",
              "    .dataframe tbody tr th:only-of-type {\n",
              "        vertical-align: middle;\n",
              "    }\n",
              "\n",
              "    .dataframe tbody tr th {\n",
              "        vertical-align: top;\n",
              "    }\n",
              "\n",
              "    .dataframe thead th {\n",
              "        text-align: right;\n",
              "    }\n",
              "</style>\n",
              "<table border=\"1\" class=\"dataframe\">\n",
              "  <thead>\n",
              "    <tr style=\"text-align: right;\">\n",
              "      <th></th>\n",
              "      <th>0</th>\n",
              "    </tr>\n",
              "  </thead>\n",
              "  <tbody>\n",
              "    <tr>\n",
              "      <th>age</th>\n",
              "      <td>0</td>\n",
              "    </tr>\n",
              "    <tr>\n",
              "      <th>sex</th>\n",
              "      <td>0</td>\n",
              "    </tr>\n",
              "    <tr>\n",
              "      <th>cp</th>\n",
              "      <td>0</td>\n",
              "    </tr>\n",
              "    <tr>\n",
              "      <th>trestbps</th>\n",
              "      <td>0</td>\n",
              "    </tr>\n",
              "    <tr>\n",
              "      <th>chol</th>\n",
              "      <td>0</td>\n",
              "    </tr>\n",
              "    <tr>\n",
              "      <th>fbs</th>\n",
              "      <td>0</td>\n",
              "    </tr>\n",
              "    <tr>\n",
              "      <th>restecg</th>\n",
              "      <td>0</td>\n",
              "    </tr>\n",
              "    <tr>\n",
              "      <th>thalach</th>\n",
              "      <td>0</td>\n",
              "    </tr>\n",
              "    <tr>\n",
              "      <th>exang</th>\n",
              "      <td>0</td>\n",
              "    </tr>\n",
              "    <tr>\n",
              "      <th>oldpeak</th>\n",
              "      <td>0</td>\n",
              "    </tr>\n",
              "    <tr>\n",
              "      <th>slope</th>\n",
              "      <td>0</td>\n",
              "    </tr>\n",
              "    <tr>\n",
              "      <th>ca</th>\n",
              "      <td>0</td>\n",
              "    </tr>\n",
              "    <tr>\n",
              "      <th>thal</th>\n",
              "      <td>0</td>\n",
              "    </tr>\n",
              "    <tr>\n",
              "      <th>num_binary</th>\n",
              "      <td>0</td>\n",
              "    </tr>\n",
              "  </tbody>\n",
              "</table>\n",
              "</div><br><label><b>dtype:</b> int64</label>"
            ]
          },
          "metadata": {},
          "execution_count": 4
        }
      ]
    },
    {
      "cell_type": "code",
      "source": [
        "import numpy as np\n",
        "\n",
        "## Replace question marks with NaN\n",
        "df_binary_col.replace('?', np.nan, inplace=True)\n",
        "\n",
        "## Total count of missing values\n",
        "df_binary_col.isnull().sum()"
      ],
      "metadata": {
        "colab": {
          "base_uri": "https://localhost:8080/",
          "height": 523
        },
        "id": "i9ObQymkzOtk",
        "outputId": "582c7ef3-f788-494a-fb11-ebadbc93dfa6"
      },
      "execution_count": 5,
      "outputs": [
        {
          "output_type": "execute_result",
          "data": {
            "text/plain": [
              "age           0\n",
              "sex           0\n",
              "cp            0\n",
              "trestbps      0\n",
              "chol          0\n",
              "fbs           0\n",
              "restecg       0\n",
              "thalach       0\n",
              "exang         0\n",
              "oldpeak       0\n",
              "slope         0\n",
              "ca            4\n",
              "thal          2\n",
              "num_binary    0\n",
              "dtype: int64"
            ],
            "text/html": [
              "<div>\n",
              "<style scoped>\n",
              "    .dataframe tbody tr th:only-of-type {\n",
              "        vertical-align: middle;\n",
              "    }\n",
              "\n",
              "    .dataframe tbody tr th {\n",
              "        vertical-align: top;\n",
              "    }\n",
              "\n",
              "    .dataframe thead th {\n",
              "        text-align: right;\n",
              "    }\n",
              "</style>\n",
              "<table border=\"1\" class=\"dataframe\">\n",
              "  <thead>\n",
              "    <tr style=\"text-align: right;\">\n",
              "      <th></th>\n",
              "      <th>0</th>\n",
              "    </tr>\n",
              "  </thead>\n",
              "  <tbody>\n",
              "    <tr>\n",
              "      <th>age</th>\n",
              "      <td>0</td>\n",
              "    </tr>\n",
              "    <tr>\n",
              "      <th>sex</th>\n",
              "      <td>0</td>\n",
              "    </tr>\n",
              "    <tr>\n",
              "      <th>cp</th>\n",
              "      <td>0</td>\n",
              "    </tr>\n",
              "    <tr>\n",
              "      <th>trestbps</th>\n",
              "      <td>0</td>\n",
              "    </tr>\n",
              "    <tr>\n",
              "      <th>chol</th>\n",
              "      <td>0</td>\n",
              "    </tr>\n",
              "    <tr>\n",
              "      <th>fbs</th>\n",
              "      <td>0</td>\n",
              "    </tr>\n",
              "    <tr>\n",
              "      <th>restecg</th>\n",
              "      <td>0</td>\n",
              "    </tr>\n",
              "    <tr>\n",
              "      <th>thalach</th>\n",
              "      <td>0</td>\n",
              "    </tr>\n",
              "    <tr>\n",
              "      <th>exang</th>\n",
              "      <td>0</td>\n",
              "    </tr>\n",
              "    <tr>\n",
              "      <th>oldpeak</th>\n",
              "      <td>0</td>\n",
              "    </tr>\n",
              "    <tr>\n",
              "      <th>slope</th>\n",
              "      <td>0</td>\n",
              "    </tr>\n",
              "    <tr>\n",
              "      <th>ca</th>\n",
              "      <td>4</td>\n",
              "    </tr>\n",
              "    <tr>\n",
              "      <th>thal</th>\n",
              "      <td>2</td>\n",
              "    </tr>\n",
              "    <tr>\n",
              "      <th>num_binary</th>\n",
              "      <td>0</td>\n",
              "    </tr>\n",
              "  </tbody>\n",
              "</table>\n",
              "</div><br><label><b>dtype:</b> int64</label>"
            ]
          },
          "metadata": {},
          "execution_count": 5
        }
      ]
    },
    {
      "cell_type": "code",
      "source": [
        "## Drop rows with NaN values\n",
        "df_binary_col.dropna(inplace=True)\n",
        "\n",
        "## Verify if any null values remain\n",
        "df_binary_col.isnull().sum()\n"
      ],
      "metadata": {
        "colab": {
          "base_uri": "https://localhost:8080/",
          "height": 523
        },
        "id": "qOPsc1auzTeR",
        "outputId": "2bf8ea68-b11a-4d1e-f3b6-6a60efbadefd"
      },
      "execution_count": 6,
      "outputs": [
        {
          "output_type": "execute_result",
          "data": {
            "text/plain": [
              "age           0\n",
              "sex           0\n",
              "cp            0\n",
              "trestbps      0\n",
              "chol          0\n",
              "fbs           0\n",
              "restecg       0\n",
              "thalach       0\n",
              "exang         0\n",
              "oldpeak       0\n",
              "slope         0\n",
              "ca            0\n",
              "thal          0\n",
              "num_binary    0\n",
              "dtype: int64"
            ],
            "text/html": [
              "<div>\n",
              "<style scoped>\n",
              "    .dataframe tbody tr th:only-of-type {\n",
              "        vertical-align: middle;\n",
              "    }\n",
              "\n",
              "    .dataframe tbody tr th {\n",
              "        vertical-align: top;\n",
              "    }\n",
              "\n",
              "    .dataframe thead th {\n",
              "        text-align: right;\n",
              "    }\n",
              "</style>\n",
              "<table border=\"1\" class=\"dataframe\">\n",
              "  <thead>\n",
              "    <tr style=\"text-align: right;\">\n",
              "      <th></th>\n",
              "      <th>0</th>\n",
              "    </tr>\n",
              "  </thead>\n",
              "  <tbody>\n",
              "    <tr>\n",
              "      <th>age</th>\n",
              "      <td>0</td>\n",
              "    </tr>\n",
              "    <tr>\n",
              "      <th>sex</th>\n",
              "      <td>0</td>\n",
              "    </tr>\n",
              "    <tr>\n",
              "      <th>cp</th>\n",
              "      <td>0</td>\n",
              "    </tr>\n",
              "    <tr>\n",
              "      <th>trestbps</th>\n",
              "      <td>0</td>\n",
              "    </tr>\n",
              "    <tr>\n",
              "      <th>chol</th>\n",
              "      <td>0</td>\n",
              "    </tr>\n",
              "    <tr>\n",
              "      <th>fbs</th>\n",
              "      <td>0</td>\n",
              "    </tr>\n",
              "    <tr>\n",
              "      <th>restecg</th>\n",
              "      <td>0</td>\n",
              "    </tr>\n",
              "    <tr>\n",
              "      <th>thalach</th>\n",
              "      <td>0</td>\n",
              "    </tr>\n",
              "    <tr>\n",
              "      <th>exang</th>\n",
              "      <td>0</td>\n",
              "    </tr>\n",
              "    <tr>\n",
              "      <th>oldpeak</th>\n",
              "      <td>0</td>\n",
              "    </tr>\n",
              "    <tr>\n",
              "      <th>slope</th>\n",
              "      <td>0</td>\n",
              "    </tr>\n",
              "    <tr>\n",
              "      <th>ca</th>\n",
              "      <td>0</td>\n",
              "    </tr>\n",
              "    <tr>\n",
              "      <th>thal</th>\n",
              "      <td>0</td>\n",
              "    </tr>\n",
              "    <tr>\n",
              "      <th>num_binary</th>\n",
              "      <td>0</td>\n",
              "    </tr>\n",
              "  </tbody>\n",
              "</table>\n",
              "</div><br><label><b>dtype:</b> int64</label>"
            ]
          },
          "metadata": {},
          "execution_count": 6
        }
      ]
    },
    {
      "cell_type": "code",
      "source": [
        "from sklearn.model_selection import train_test_split\n",
        "\n",
        "# Assuming `df` is your DataFrame\n",
        "# Drop the unique identifier and the target column from features\n",
        "X = df_binary_col.drop(columns=['num_binary'])\n",
        "\n",
        "# Separate the target\n",
        "y = df_binary_col['num_binary']\n",
        "\n",
        "# Split the data\n",
        "X_train, X_test, y_train, y_test = train_test_split(X, y, test_size=0.2, random_state=42, stratify=y)\n"
      ],
      "metadata": {
        "id": "accYblImzXIm"
      },
      "execution_count": 7,
      "outputs": []
    },
    {
      "cell_type": "code",
      "source": [
        "# Explore the training set\n",
        "print(\"DataFrame.info():\")\n",
        "X_train.info()\n",
        "\n",
        "print(\"\\nDataFrame.describe():\")\n",
        "print(X_train.describe())\n"
      ],
      "metadata": {
        "colab": {
          "base_uri": "https://localhost:8080/"
        },
        "id": "UgIURK8xzhIE",
        "outputId": "00b81859-aac1-42e0-d22d-192324be4f56"
      },
      "execution_count": 8,
      "outputs": [
        {
          "output_type": "stream",
          "name": "stdout",
          "text": [
            "DataFrame.info():\n",
            "<class 'pandas.core.frame.DataFrame'>\n",
            "Index: 237 entries, 56 to 269\n",
            "Data columns (total 13 columns):\n",
            " #   Column    Non-Null Count  Dtype  \n",
            "---  ------    --------------  -----  \n",
            " 0   age       237 non-null    float64\n",
            " 1   sex       237 non-null    float64\n",
            " 2   cp        237 non-null    float64\n",
            " 3   trestbps  237 non-null    float64\n",
            " 4   chol      237 non-null    float64\n",
            " 5   fbs       237 non-null    float64\n",
            " 6   restecg   237 non-null    float64\n",
            " 7   thalach   237 non-null    float64\n",
            " 8   exang     237 non-null    float64\n",
            " 9   oldpeak   237 non-null    float64\n",
            " 10  slope     237 non-null    float64\n",
            " 11  ca        237 non-null    object \n",
            " 12  thal      237 non-null    object \n",
            "dtypes: float64(11), object(2)\n",
            "memory usage: 25.9+ KB\n",
            "\n",
            "DataFrame.describe():\n",
            "              age         sex          cp    trestbps        chol         fbs  \\\n",
            "count  237.000000  237.000000  237.000000  237.000000  237.000000  237.000000   \n",
            "mean    54.772152    0.675105    3.185654  132.270042  249.409283    0.168776   \n",
            "std      9.032356    0.469327    0.956315   17.915848   53.162339    0.375347   \n",
            "min     34.000000    0.000000    1.000000   94.000000  126.000000    0.000000   \n",
            "25%     48.000000    0.000000    3.000000  120.000000  212.000000    0.000000   \n",
            "50%     56.000000    1.000000    3.000000  130.000000  243.000000    0.000000   \n",
            "75%     62.000000    1.000000    4.000000  140.000000  277.000000    0.000000   \n",
            "max     77.000000    1.000000    4.000000  200.000000  564.000000    1.000000   \n",
            "\n",
            "          restecg     thalach       exang     oldpeak       slope  \n",
            "count  237.000000  237.000000  237.000000  237.000000  237.000000  \n",
            "mean     0.983122  149.843882    0.345992    1.061603    1.586498  \n",
            "std      0.995610   22.397528    0.476697    1.179594    0.615743  \n",
            "min      0.000000   88.000000    0.000000    0.000000    1.000000  \n",
            "25%      0.000000  136.000000    0.000000    0.000000    1.000000  \n",
            "50%      0.000000  152.000000    0.000000    0.800000    2.000000  \n",
            "75%      2.000000  166.000000    1.000000    1.800000    2.000000  \n",
            "max      2.000000  195.000000    1.000000    6.200000    3.000000  \n"
          ]
        }
      ]
    },
    {
      "cell_type": "markdown",
      "source": [
        "<h1> Transformation Test 1 </h1>\n",
        "<br>\n",
        "Logarithmic Transformation of for Resting Blood Pressure and Cholesterol. Squared Transformation of Maximum Heart Rate"
      ],
      "metadata": {
        "id": "z0h2PaZNztS0"
      }
    },
    {
      "cell_type": "code",
      "source": [
        "from sklearn.base import BaseEstimator, TransformerMixin\n",
        "import numpy as np\n",
        "from sklearn.compose import ColumnTransformer\n",
        "from sklearn.preprocessing import StandardScaler, OneHotEncoder"
      ],
      "metadata": {
        "id": "3tM20tfIz6Rw"
      },
      "execution_count": 9,
      "outputs": []
    },
    {
      "cell_type": "code",
      "source": [
        "# Custom Transformer for Logarithmic Transformation\n",
        "class LogTransformer(BaseEstimator, TransformerMixin):\n",
        "    def __init__(self, columns):\n",
        "        self.columns = columns\n",
        "\n",
        "    def fit(self, X, y=None):\n",
        "        return self\n",
        "\n",
        "    def transform(self, X):\n",
        "        X_copy = X.copy()\n",
        "        X_copy[self.columns] = np.log1p(X_copy[self.columns])\n",
        "        return X_copy\n",
        "\n",
        "# Custom Transformer for Square Transformation\n",
        "class SquareTransformer(BaseEstimator, TransformerMixin):\n",
        "    def __init__(self, columns):\n",
        "        self.columns = columns\n",
        "\n",
        "    def fit(self, X, y=None):\n",
        "        return self\n",
        "\n",
        "    def transform(self, X):\n",
        "        X_copy = X.copy()\n",
        "        X_copy[self.columns] = X_copy[self.columns] ** 2\n",
        "        return X_copy\n",
        "\n",
        "# Define the columns for transformation\n",
        "log_transform_columns = ['trestbps', 'chol']\n",
        "square_transform_columns = ['thalach']\n",
        "\n",
        "# Define the preprocessing pipeline\n",
        "ct = ColumnTransformer(\n",
        "    transformers=[\n",
        "        (\"log_transform\", LogTransformer(log_transform_columns), log_transform_columns),\n",
        "        (\"square_transform\", SquareTransformer(square_transform_columns), square_transform_columns),\n",
        "        (\"scaling\", StandardScaler(), ['age', 'sex', 'cp', 'fbs', 'restecg', 'exang', 'oldpeak', 'slope']),\n",
        "        (\"onehot\", OneHotEncoder(sparse_output=False), ['ca', 'thal'])\n",
        "    ],\n",
        "    remainder='drop'  # Drop all other columns not specified\n",
        ")\n",
        "\n",
        "# Apply the transformations to training and testing data\n",
        "X_train_transformedtest = ct.fit_transform(X_train)\n",
        "X_test_transformedtest = ct.transform(X_test)"
      ],
      "metadata": {
        "id": "6VaUNHBazstc"
      },
      "execution_count": 10,
      "outputs": []
    },
    {
      "cell_type": "markdown",
      "source": [
        "<h1>Random Forrest Classifier on Transformation 1</h1>"
      ],
      "metadata": {
        "id": "MpllUky80F79"
      }
    },
    {
      "cell_type": "code",
      "source": [
        "from sklearn.ensemble import RandomForestClassifier\n",
        "from sklearn.metrics import accuracy_score, f1_score, confusion_matrix, ConfusionMatrixDisplay,precision_score, recall_score\n",
        "import matplotlib.pyplot as plt\n",
        "from sklearn.metrics import classification_report\n",
        "# Create a Random Forest classifier\n",
        "clf = RandomForestClassifier(n_estimators=25, random_state=42,max_depth=20)\n",
        "\n",
        "# Training the model on the training dataset\n",
        "clf.fit(X_train_transformedtest, y_train)\n",
        "\n",
        "# Performing predictions on the test dataset\n",
        "y_pred = clf.predict(X_test_transformedtest)\n",
        "\n",
        "# Calculate accuracy and F1 score\n",
        "accuracy = accuracy_score(y_test, y_pred)\n",
        "f1 = f1_score(y_test, y_pred, average='weighted')\n",
        "precision = precision_score(y_pred, y_test, average=\"weighted\")\n",
        "recall = recall_score(y_pred, y_test, average=\"weighted\")\n",
        "\n",
        "# Print accuracy and F1 score\n",
        "print(f\"Accuracy of the model: {accuracy}\")\n",
        "print(f\"F1 Score of the model: {f1}\")\n",
        "print(\"Precision:\", precision)\n",
        "print(\"Recall:\", recall)\n",
        "\n",
        "\n",
        "# Generate and plot the confusion matrix\n",
        "cm = confusion_matrix(y_test, y_pred)\n",
        "cmd = ConfusionMatrixDisplay(cm, display_labels=clf.classes_)\n",
        "cmd.plot()\n",
        "plt.show()\n",
        "\n",
        "print(classification_report(y_test, y_pred))"
      ],
      "metadata": {
        "colab": {
          "base_uri": "https://localhost:8080/",
          "height": 675
        },
        "id": "6qfNWEyl0AAS",
        "outputId": "2162dc38-a9d4-4154-b8ef-b4f3c37a23fe"
      },
      "execution_count": 13,
      "outputs": [
        {
          "output_type": "stream",
          "name": "stdout",
          "text": [
            "Accuracy of the model: 0.85\n",
            "F1 Score of the model: 0.849112925936356\n",
            "Precision: 0.8560267857142857\n",
            "Recall: 0.85\n"
          ]
        },
        {
          "output_type": "display_data",
          "data": {
            "text/plain": [
              "<Figure size 640x480 with 2 Axes>"
            ],
            "image/png": "[encoded data removed]"
          },
          "metadata": {}
        },
        {
          "output_type": "stream",
          "name": "stdout",
          "text": [
            "              precision    recall  f1-score   support\n",
            "\n",
            "           0       0.83      0.91      0.87        32\n",
            "           1       0.88      0.79      0.83        28\n",
            "\n",
            "    accuracy                           0.85        60\n",
            "   macro avg       0.85      0.85      0.85        60\n",
            "weighted avg       0.85      0.85      0.85        60\n",
            "\n"
          ]
        }
      ]
    },
    {
      "cell_type": "code",
      "source": [
        "### K-means Crossfold Validation\n"
      ],
      "metadata": {
        "id": "qxbvwjI0Sf3K"
      },
      "execution_count": null,
      "outputs": []
    },
    {
      "cell_type": "code",
      "source": [
        "from sklearn.model_selection import cross_val_score, KFold\n",
        "from sklearn.svm import SVC\n",
        "from sklearn.metrics import make_scorer\n",
        "\n",
        "# Create a Random Forest classifier\n",
        "clf = RandomForestClassifier(n_estimators=25, random_state=42,max_depth=20)\n",
        "clf_model = clf.fit(X_train_transformedtest, y_train)\n",
        "num_folds = 5\n",
        "kf = KFold(n_splits=num_folds, shuffle=True, random_state=42)\n",
        "cross_val_results_test = cross_val_score(clf_model, X_test_transformedtest, y_test, cv=kf)\n",
        "\n",
        "print(f'Cross-Validation Results (Accuracy): {cross_val_results_test}')\n",
        "print(f'Mean Accuracy: {cross_val_results_test.mean()}')\n",
        "# Custom scoring functions\n",
        "precision_test = cross_val_score(clf_model, X_test_transformedtest, y_test, cv=kf, scoring=make_scorer(precision_score, average='binary'))\n",
        "recall_test = cross_val_score(clf_model, X_test_transformedtest, y_test, cv=kf, scoring=make_scorer(recall_score, average='binary'))\n",
        "f1_test = cross_val_score(clf_model, X_test_transformedtest, y_test, cv=kf, scoring=make_scorer(f1_score, average='binary'))\n",
        "\n",
        "# Print the results\n",
        "print(f'Cross-Validation Results (Precision): {precision_test}')\n",
        "print(f'Mean Precision: {precision_test.mean()}')\n",
        "\n",
        "print(f'Cross-Validation Results (Recall): {recall_test}')\n",
        "print(f'Mean Recall: {recall_test.mean()}')\n",
        "\n",
        "print(f'Cross-Validation Results (F1 Score): {f1_test}')\n",
        "print(f'Mean F1 Score: {f1_test.mean()}')"
      ],
      "metadata": {
        "id": "DWNW1dfXSwq8",
        "outputId": "3a3cfa85-9936-4514-9438-83f958b9c086",
        "colab": {
          "base_uri": "https://localhost:8080/"
        }
      },
      "execution_count": 14,
      "outputs": [
        {
          "output_type": "stream",
          "name": "stdout",
          "text": [
            "Cross-Validation Results (Accuracy): [0.83333333 0.75       0.75       0.75       0.91666667]\n",
            "Mean Accuracy: 0.8\n",
            "Cross-Validation Results (Precision): [0.75       0.75       0.83333333 0.66666667 0.875     ]\n",
            "Mean Precision: 0.775\n",
            "Cross-Validation Results (Recall): [0.75       0.6        0.71428571 0.8        1.        ]\n",
            "Mean Recall: 0.7728571428571429\n",
            "Cross-Validation Results (F1 Score): [0.75       0.66666667 0.76923077 0.72727273 0.93333333]\n",
            "Mean F1 Score: 0.7693006993006992\n"
          ]
        }
      ]
    },
    {
      "cell_type": "markdown",
      "source": [
        "<h3> Parameter Grid Search </h3>"
      ],
      "metadata": {
        "id": "S9FS3S5cWpbT"
      }
    },
    {
      "cell_type": "code",
      "source": [
        "from sklearn.ensemble import RandomForestClassifier\n",
        "from sklearn.model_selection import GridSearchCV\n",
        "from sklearn.metrics import make_scorer, accuracy_score, precision_score, recall_score, f1_score\n",
        "\n",
        "# Create a Random Forest classifier\n",
        "clf = RandomForestClassifier()\n",
        "\n",
        "# Define the parameter grid, including random_state\n",
        "param_grid_rf = {\n",
        "    'n_estimators': [25, 50, 100, 200],\n",
        "    'max_depth': [2, 3, 5, 10, 20],\n",
        "    'random_state': [0, 42, 123, 2024]  # Different random states for testing reproducibility\n",
        "}\n",
        "\n",
        "# Define the scoring metrics\n",
        "scoring = {\n",
        "    'accuracy': make_scorer(accuracy_score),\n",
        "    'precision': make_scorer(precision_score, average='weighted', zero_division=0),\n",
        "    'recall': make_scorer(recall_score, average='weighted'),\n",
        "    'f1_weighted': make_scorer(f1_score, average='weighted')\n",
        "}\n",
        "\n",
        "# Perform grid search with multiple scoring metrics\n",
        "grid_search_rf = GridSearchCV(\n",
        "    estimator=clf,\n",
        "    param_grid=param_grid_rf,\n",
        "    scoring=scoring,\n",
        "    refit='f1_weighted',  # Select the best model based on F1-Weighted\n",
        "    cv=5,  # 5-fold cross-validation\n",
        "    verbose=1,  # To monitor progress\n",
        "    n_jobs=-1  # Use all available processors for faster computation\n",
        ")\n",
        "\n",
        "# Fit the grid search\n",
        "grid_search_rf.fit(X_train_transformedtest, y_train)\n",
        "\n",
        "# Get the best estimator\n",
        "best_rf = grid_search_rf.best_estimator_\n",
        "\n",
        "# Output the best parameters and cross-validated scores\n",
        "print(\"Best Parameters:\", grid_search_rf.best_params_)\n",
        "print(\"Best Cross-Validated F1-Weighted:\", grid_search_rf.best_score_)\n"
      ],
      "metadata": {
        "id": "YHmCtUU7XWXN",
        "outputId": "87fe2654-360f-4642-d3ae-7cc711b0ce59",
        "colab": {
          "base_uri": "https://localhost:8080/"
        }
      },
      "execution_count": 36,
      "outputs": [
        {
          "output_type": "stream",
          "name": "stdout",
          "text": [
            "Fitting 5 folds for each of 80 candidates, totalling 400 fits\n",
            "Best Parameters: {'max_depth': 3, 'n_estimators': 25, 'random_state': 123}\n",
            "Best Cross-Validated F1-Weighted: 0.8445035675474539\n"
          ]
        }
      ]
    },
    {
      "cell_type": "code",
      "source": [
        "# Create a Random Forest classifier\n",
        "clf = RandomForestClassifier(n_estimators=25, random_state=123, max_depth=3)\n",
        "\n",
        "# Training the model on the training dataset\n",
        "clf.fit(X_train_transformedtest, y_train)\n",
        "\n",
        "# Performing predictions on the test dataset\n",
        "y_pred = clf.predict(X_test_transformedtest)\n",
        "\n",
        "# Calculate accuracy and F1 score\n",
        "accuracy = accuracy_score(y_test, y_pred)\n",
        "f1 = f1_score(y_test, y_pred, average='weighted')\n",
        "precision = precision_score(y_pred, y_test, average=\"weighted\")\n",
        "recall = recall_score(y_pred, y_test, average=\"weighted\")\n",
        "\n",
        "# Print accuracy and F1 score\n",
        "print(f\"Accuracy of the model: {accuracy}\")\n",
        "print(f\"F1 Score of the model: {f1}\")\n",
        "print(\"Precision:\", precision)\n",
        "print(\"Recall:\", recall)\n",
        "\n",
        "\n",
        "# Generate and plot the confusion matrix\n",
        "cm = confusion_matrix(y_test, y_pred)\n",
        "cmd = ConfusionMatrixDisplay(cm, display_labels=clf.classes_)\n",
        "cmd.plot()\n",
        "plt.show()\n",
        "\n",
        "print(classification_report(y_test, y_pred))"
      ],
      "metadata": {
        "id": "osC3XlOhMaLh",
        "outputId": "c53aa817-a28a-4b51-dd2a-4499c868177d",
        "colab": {
          "base_uri": "https://localhost:8080/",
          "height": 681
        }
      },
      "execution_count": 37,
      "outputs": [
        {
          "output_type": "stream",
          "name": "stdout",
          "text": [
            "Accuracy of the model: 0.8333333333333334\n",
            "F1 Score of the model: 0.8304761904761905\n",
            "Precision: 0.855654761904762\n",
            "Recall: 0.8333333333333334\n"
          ]
        },
        {
          "output_type": "display_data",
          "data": {
            "text/plain": [
              "<Figure size 640x480 with 2 Axes>"
            ],
            "image/png": "[encoded data removed]"
          },
          "metadata": {}
        },
        {
          "output_type": "stream",
          "name": "stdout",
          "text": [
            "              precision    recall  f1-score   support\n",
            "\n",
            "           0       0.79      0.94      0.86        32\n",
            "           1       0.91      0.71      0.80        28\n",
            "\n",
            "    accuracy                           0.83        60\n",
            "   macro avg       0.85      0.83      0.83        60\n",
            "weighted avg       0.85      0.83      0.83        60\n",
            "\n"
          ]
        }
      ]
    },
    {
      "cell_type": "code",
      "source": [
        "from sklearn.model_selection import cross_val_score, KFold\n",
        "from sklearn.svm import SVC\n",
        "from sklearn.metrics import make_scorer\n",
        "\n",
        "# Create a Random Forest classifier\n",
        "clf = RandomForestClassifier(n_estimators=25, random_state=123, max_depth=3)\n",
        "clf_model = clf.fit(X_train_transformedtest, y_train)\n",
        "num_folds = 5\n",
        "kf = KFold(n_splits=num_folds, shuffle=True, random_state=42)\n",
        "cross_val_results_test = cross_val_score(clf_model, X_test_transformedtest, y_test, cv=kf)\n",
        "\n",
        "print(f'Cross-Validation Results (Accuracy): {cross_val_results_test}')\n",
        "print(f'Mean Accuracy: {cross_val_results_test.mean()}')\n",
        "# Custom scoring functions\n",
        "precision_test = cross_val_score(clf_model, X_test_transformedtest, y_test, cv=kf, scoring=make_scorer(precision_score, average='binary'))\n",
        "recall_test = cross_val_score(clf_model, X_test_transformedtest, y_test, cv=kf, scoring=make_scorer(recall_score, average='binary'))\n",
        "f1_test = cross_val_score(clf_model, X_test_transformedtest, y_test, cv=kf, scoring=make_scorer(f1_score, average='binary'))\n",
        "\n",
        "# Print the results\n",
        "print(f'Cross-Validation Results (Precision): {precision_test}')\n",
        "print(f'Mean Precision: {precision_test.mean()}')\n",
        "\n",
        "print(f'Cross-Validation Results (Recall): {recall_test}')\n",
        "print(f'Mean Recall: {recall_test.mean()}')\n",
        "\n",
        "print(f'Cross-Validation Results (F1 Score): {f1_test}')\n",
        "print(f'Mean F1 Score: {f1_test.mean()}')"
      ],
      "metadata": {
        "id": "pZ8fS61eMj3_",
        "outputId": "208f2202-3654-4eb6-8aa2-673e68f7ac06",
        "colab": {
          "base_uri": "https://localhost:8080/"
        }
      },
      "execution_count": 38,
      "outputs": [
        {
          "output_type": "stream",
          "name": "stdout",
          "text": [
            "Cross-Validation Results (Accuracy): [0.75       0.75       0.83333333 0.75       0.91666667]\n",
            "Mean Accuracy: 0.8\n",
            "Cross-Validation Results (Precision): [0.66666667 0.75       0.85714286 0.66666667 0.875     ]\n",
            "Mean Precision: 0.763095238095238\n",
            "Cross-Validation Results (Recall): [0.5        0.6        0.85714286 0.8        1.        ]\n",
            "Mean Recall: 0.7514285714285714\n",
            "Cross-Validation Results (F1 Score): [0.57142857 0.66666667 0.85714286 0.72727273 0.93333333]\n",
            "Mean F1 Score: 0.7511688311688312\n"
          ]
        }
      ]
    },
    {
      "cell_type": "code",
      "source": [
        "from sklearn.ensemble import RandomForestClassifier\n",
        "from sklearn.model_selection import GridSearchCV\n",
        "from sklearn.metrics import make_scorer, accuracy_score, precision_score, recall_score, f1_score\n",
        "\n",
        "# Create a Random Forest classifier\n",
        "clf = RandomForestClassifier()\n",
        "\n",
        "# Define the parameter grid, including random_state\n",
        "param_grid_rf = {\n",
        "    'n_estimators': [25, 50, 100, 200],\n",
        "    'max_depth': [2, 3, 5, 10, 20],\n",
        "    'random_state': [0, 42, 123, 2024]  # Different random states for testing reproducibility\n",
        "}\n",
        "\n",
        "# Define the scoring metrics\n",
        "scoring = {\n",
        "    'accuracy': make_scorer(accuracy_score),\n",
        "    'precision': make_scorer(precision_score, average='weighted', zero_division=0),\n",
        "    'recall': make_scorer(recall_score, average='weighted'),\n",
        "    'f1_weighted': make_scorer(f1_score, average='weighted')\n",
        "}\n",
        "\n",
        "# Perform grid search with multiple scoring metrics\n",
        "grid_search_rf = GridSearchCV(\n",
        "    estimator=clf,\n",
        "    param_grid=param_grid_rf,\n",
        "    scoring=scoring,\n",
        "    refit='f1_weighted',  # Select the best model based on F1-Weighted\n",
        "    cv=3,  # 3-fold cross-validation\n",
        "    verbose=1,  # To monitor progress\n",
        "    n_jobs=-1  # Use all available processors for faster computation\n",
        ")\n",
        "\n",
        "# Fit the grid search\n",
        "grid_search_rf.fit(X_train_transformedtest, y_train)\n",
        "\n",
        "# Get the best estimator\n",
        "best_rf = grid_search_rf.best_estimator_\n",
        "\n",
        "# Output the best parameters and cross-validated scores\n",
        "print(\"Best Parameters:\", grid_search_rf.best_params_)\n",
        "print(\"Best Cross-Validated F1-Weighted:\", grid_search_rf.best_score_)"
      ],
      "metadata": {
        "id": "ahCgHcBbNiGc",
        "outputId": "fd521d78-8318-4325-a8bb-fa6e61968f47",
        "colab": {
          "base_uri": "https://localhost:8080/"
        }
      },
      "execution_count": 39,
      "outputs": [
        {
          "output_type": "stream",
          "name": "stdout",
          "text": [
            "Fitting 3 folds for each of 80 candidates, totalling 240 fits\n",
            "Best Parameters: {'max_depth': 2, 'n_estimators': 50, 'random_state': 123}\n",
            "Best Cross-Validated F1-Weighted: 0.8375861986504232\n"
          ]
        }
      ]
    },
    {
      "cell_type": "code",
      "source": [
        "# Create a Random Forest classifier\n",
        "clf = RandomForestClassifier(n_estimators=50, random_state=123, max_depth=2)\n",
        "\n",
        "# Training the model on the training dataset\n",
        "clf.fit(X_train_transformedtest, y_train)\n",
        "\n",
        "# Performing predictions on the test dataset\n",
        "y_pred = clf.predict(X_test_transformedtest)\n",
        "\n",
        "# Calculate accuracy and F1 score\n",
        "accuracy = accuracy_score(y_test, y_pred)\n",
        "f1 = f1_score(y_test, y_pred, average='weighted')\n",
        "precision = precision_score(y_pred, y_test, average=\"weighted\")\n",
        "recall = recall_score(y_pred, y_test, average=\"weighted\")\n",
        "\n",
        "# Print accuracy and F1 score\n",
        "print(f\"Accuracy of the model: {accuracy}\")\n",
        "print(f\"F1 Score of the model: {f1}\")\n",
        "print(\"Precision:\", precision)\n",
        "print(\"Recall:\", recall)\n",
        "\n",
        "\n",
        "# Generate and plot the confusion matrix\n",
        "cm = confusion_matrix(y_test, y_pred)\n",
        "cmd = ConfusionMatrixDisplay(cm, display_labels=clf.classes_)\n",
        "cmd.plot()\n",
        "plt.show()\n",
        "\n",
        "print(classification_report(y_test, y_pred))"
      ],
      "metadata": {
        "id": "rRMTw4j-Xylh",
        "outputId": "c5e8655f-13b5-41cc-e28d-8202c824d3f3",
        "colab": {
          "base_uri": "https://localhost:8080/",
          "height": 675
        }
      },
      "execution_count": 21,
      "outputs": [
        {
          "output_type": "stream",
          "name": "stdout",
          "text": [
            "Accuracy of the model: 0.8333333333333334\n",
            "F1 Score of the model: 0.8318250377073907\n",
            "Precision: 0.84375\n",
            "Recall: 0.8333333333333334\n"
          ]
        },
        {
          "output_type": "display_data",
          "data": {
            "text/plain": [
              "<Figure size 640x480 with 2 Axes>"
            ],
            "image/png": "[encoded data removed]"
          },
          "metadata": {}
        },
        {
          "output_type": "stream",
          "name": "stdout",
          "text": [
            "              precision    recall  f1-score   support\n",
            "\n",
            "           0       0.81      0.91      0.85        32\n",
            "           1       0.88      0.75      0.81        28\n",
            "\n",
            "    accuracy                           0.83        60\n",
            "   macro avg       0.84      0.83      0.83        60\n",
            "weighted avg       0.84      0.83      0.83        60\n",
            "\n"
          ]
        }
      ]
    },
    {
      "cell_type": "code",
      "source": [
        "from sklearn.model_selection import cross_val_score, KFold\n",
        "from sklearn.svm import SVC\n",
        "from sklearn.metrics import make_scorer\n",
        "\n",
        "# Create a Random Forest classifier\n",
        "clf = RandomForestClassifier(n_estimators=50, random_state=123,max_depth=2)\n",
        "clf_model = clf.fit(X_train_transformedtest, y_train)\n",
        "num_folds = 5\n",
        "kf = KFold(n_splits=num_folds, shuffle=True, random_state=42)\n",
        "cross_val_results_test = cross_val_score(clf_model, X_test_transformedtest, y_test, cv=kf)\n",
        "\n",
        "print(f'Cross-Validation Results (Accuracy): {cross_val_results_test}')\n",
        "print(f'Mean Accuracy: {cross_val_results_test.mean()}')\n",
        "# Custom scoring functions\n",
        "precision_test = cross_val_score(clf_model, X_test_transformedtest, y_test, cv=kf, scoring=make_scorer(precision_score, average='binary'))\n",
        "recall_test = cross_val_score(clf_model, X_test_transformedtest, y_test, cv=kf, scoring=make_scorer(recall_score, average='binary'))\n",
        "f1_test = cross_val_score(clf_model, X_test_transformedtest, y_test, cv=kf, scoring=make_scorer(f1_score, average='binary'))\n",
        "\n",
        "# Print the results\n",
        "print(f'Cross-Validation Results (Precision): {precision_test}')\n",
        "print(f'Mean Precision: {precision_test.mean()}')\n",
        "\n",
        "print(f'Cross-Validation Results (Recall): {recall_test}')\n",
        "print(f'Mean Recall: {recall_test.mean()}')\n",
        "\n",
        "print(f'Cross-Validation Results (F1 Score): {f1_test}')\n",
        "print(f'Mean F1 Score: {f1_test.mean()}')"
      ],
      "metadata": {
        "id": "NFIM_yh4YTVy",
        "outputId": "0e4c7c71-dea5-41c8-cf67-f6b4a9fe4f7f",
        "colab": {
          "base_uri": "https://localhost:8080/"
        }
      },
      "execution_count": 23,
      "outputs": [
        {
          "output_type": "stream",
          "name": "stdout",
          "text": [
            "Cross-Validation Results (Accuracy): [0.75       0.75       0.75       0.91666667 0.91666667]\n",
            "Mean Accuracy: 0.8166666666666667\n",
            "Cross-Validation Results (Precision): [0.66666667 0.75       0.75       0.83333333 0.875     ]\n",
            "Mean Precision: 0.775\n",
            "Cross-Validation Results (Recall): [0.5        0.6        0.85714286 1.         1.        ]\n",
            "Mean Recall: 0.7914285714285715\n",
            "Cross-Validation Results (F1 Score): [0.57142857 0.66666667 0.8        0.90909091 0.93333333]\n",
            "Mean F1 Score: 0.7761038961038962\n"
          ]
        }
      ]
    },
    {
      "cell_type": "markdown",
      "source": [
        "<h1>XGB Classifier on Transformation 1</h1>"
      ],
      "metadata": {
        "id": "CMaIWezV0aED"
      }
    },
    {
      "cell_type": "code",
      "source": [
        "# Import the necessary library\n",
        "#!pip install xgboost\n",
        "from xgboost import XGBClassifier\n",
        "from sklearn.metrics import classification_report, accuracy_score\n",
        "\n",
        "# Initialize the XGBoost classifier\n",
        "xgb_classifier = XGBClassifier(random_state=42)\n",
        "\n",
        "# Train the model\n",
        "xgb_classifier.fit(X_train_transformedtest, y_train)\n",
        "\n",
        "# Make predictions on the test set\n",
        "y_pred = xgb_classifier.predict(X_test_transformedtest)\n",
        "\n",
        "# Evaluate the model\n",
        "accuracy = accuracy_score(y_test, y_pred)\n",
        "print(\"Accuracy:\", accuracy)\n",
        "print(classification_report(y_test, y_pred))"
      ],
      "metadata": {
        "colab": {
          "base_uri": "https://localhost:8080/"
        },
        "id": "9bs3mEPJ0VxP",
        "outputId": "3777b02d-bc1a-4241-9c98-fe33ced9375d"
      },
      "execution_count": 24,
      "outputs": [
        {
          "output_type": "stream",
          "name": "stdout",
          "text": [
            "Accuracy: 0.85\n",
            "              precision    recall  f1-score   support\n",
            "\n",
            "           0       0.83      0.91      0.87        32\n",
            "           1       0.88      0.79      0.83        28\n",
            "\n",
            "    accuracy                           0.85        60\n",
            "   macro avg       0.85      0.85      0.85        60\n",
            "weighted avg       0.85      0.85      0.85        60\n",
            "\n"
          ]
        }
      ]
    },
    {
      "cell_type": "code",
      "source": [
        "from sklearn.model_selection import cross_val_score, KFold\n",
        "from sklearn.svm import SVC\n",
        "num_folds = 5\n",
        "xgb_classifier_model = xgb_classifier.fit(X_train_transformedtest, y_train)\n",
        "cross_val_results_xgb = cross_val_score(xgb_classifier_model, X_test_transformedtest, y_test, cv=kf)\n",
        "\n",
        "print(f'Cross-Validation Results (Accuracy): {cross_val_results_xgb}')\n",
        "print(f'Mean Accuracy: {cross_val_results_xgb.mean()}')\n",
        "\n",
        "# Custom scoring functions\n",
        "precision_test_xgb = cross_val_score(xgb_classifier_model, X_test_transformedtest, y_test, cv=kf, scoring=make_scorer(precision_score, average='binary'))\n",
        "recall_test_xgb = cross_val_score(xgb_classifier_model, X_test_transformedtest, y_test, cv=kf, scoring=make_scorer(recall_score, average='binary'))\n",
        "f1_test_xgb = cross_val_score(xgb_classifier_model, X_test_transformedtest, y_test, cv=kf, scoring=make_scorer(f1_score, average='binary'))\n",
        "\n",
        "# Print the results\n",
        "print(f'Cross-Validation Results (Precision): {precision_test_xgb}')\n",
        "print(f'Mean Precision: {precision_test_xgb.mean()}')\n",
        "\n",
        "print(f'Cross-Validation Results (Recall): {recall_test_xgb}')\n",
        "print(f'Mean Recall: {recall_test_xgb.mean()}')\n",
        "\n",
        "print(f'Cross-Validation Results (F1 Score): {f1_test_xgb}')\n",
        "print(f'Mean F1 Score: {f1_test_xgb.mean()}')"
      ],
      "metadata": {
        "id": "b_nFuoAf2AwQ",
        "outputId": "c20786c5-c769-405f-9a2a-9392067355fc",
        "colab": {
          "base_uri": "https://localhost:8080/"
        }
      },
      "execution_count": 25,
      "outputs": [
        {
          "output_type": "stream",
          "name": "stdout",
          "text": [
            "Cross-Validation Results (Accuracy): [0.83333333 0.66666667 0.58333333 0.75       0.91666667]\n",
            "Mean Accuracy: 0.75\n",
            "Cross-Validation Results (Precision): [0.75       0.66666667 0.625      0.66666667 0.875     ]\n",
            "Mean Precision: 0.7166666666666666\n",
            "Cross-Validation Results (Recall): [0.75       0.4        0.71428571 0.8        1.        ]\n",
            "Mean Recall: 0.7328571428571429\n",
            "Cross-Validation Results (F1 Score): [0.75       0.5        0.66666667 0.72727273 0.93333333]\n",
            "Mean F1 Score: 0.7154545454545455\n"
          ]
        }
      ]
    },
    {
      "cell_type": "markdown",
      "source": [
        "<h3> Parameter Grid Search </h3>\n"
      ],
      "metadata": {
        "id": "rx-6hJ1Q5rzO"
      }
    },
    {
      "cell_type": "code",
      "source": [
        "# Import necessary libraries\n",
        "from xgboost import XGBClassifier\n",
        "from sklearn.model_selection import GridSearchCV, KFold, cross_val_score\n",
        "from sklearn.metrics import make_scorer, precision_score, recall_score, f1_score, classification_report, accuracy_score\n",
        "\n",
        "# Define cross-validation\n",
        "kf = KFold(n_splits=5, shuffle=True, random_state=42)\n",
        "\n",
        "# Initialize the XGBClassifier\n",
        "xgb_classifier = XGBClassifier(random_state=42)\n",
        "\n",
        "# Define the parameter grid for hyperparameter tuning\n",
        "param_grid = {\n",
        "    'n_estimators': [50, 100, 150],          # Number of boosting rounds\n",
        "    'max_depth': [2, 4, 6],                  # Maximum tree depth\n",
        "    'learning_rate': [0.01, 0.1, 0.2],       # Learning rate (step size)\n",
        "    'subsample': [0.8, 1.0],                 # Fraction of samples for each boosting round\n",
        "    'colsample_bytree': [0.8, 1.0]           # Fraction of features for each boosting round\n",
        "}\n",
        "\n",
        "# Perform Grid Search using GridSearchCV\n",
        "grid_search = GridSearchCV(\n",
        "    estimator=xgb_classifier,\n",
        "    param_grid=param_grid,\n",
        "    scoring='accuracy',\n",
        "    cv=3,\n",
        "    verbose=1,\n",
        "    n_jobs=-1\n",
        ")\n",
        "\n",
        "# Fit GridSearchCV to the training data\n",
        "grid_search.fit(X_train_transformedtest, y_train)\n",
        "\n",
        "# Print the best parameters and the corresponding accuracy\n",
        "print(\"Best Parameters:\", grid_search.best_params_)\n",
        "print(\"Best Cross-Validation Accuracy:\", grid_search.best_score_)\n",
        "\n",
        "# Train the final model with the best parameters\n",
        "best_xgb = grid_search.best_estimator_\n",
        "best_xgb.fit(X_train_transformedtest, y_train)\n",
        "\n",
        "# Make predictions on the test set\n",
        "y_pred = best_xgb.predict(X_test_transformedtest)\n",
        "\n",
        "# Evaluate the final model on the test set\n",
        "accuracy = accuracy_score(y_test, y_pred)\n",
        "print(\"\\nFinal Model Performance on Test Set:\")\n",
        "print(\"Accuracy:\", accuracy)\n",
        "print(classification_report(y_test, y_pred))\n",
        "\n",
        "# Cross-validation metrics for the final model\n",
        "precision = cross_val_score(best_xgb, X_test_transformedtest, y_test, cv=kf, scoring=make_scorer(precision_score, average='binary'))\n",
        "recall = cross_val_score(best_xgb, X_test_transformedtest, y_test, cv=kf, scoring=make_scorer(recall_score, average='binary'))\n",
        "f1 = cross_val_score(best_xgb, X_test_transformedtest, y_test, cv=kf, scoring=make_scorer(f1_score, average='binary'))\n",
        "\n",
        "print(\"\\nCross-Validation Results (Precision):\", precision)\n",
        "print(\"Mean Precision:\", precision.mean())\n",
        "\n",
        "print(\"Cross-Validation Results (Recall):\", recall)\n",
        "print(\"Mean Recall:\", recall.mean())\n",
        "\n",
        "print(\"Cross-Validation Results (F1 Score):\", f1)\n",
        "print(\"Mean F1 Score:\", f1.mean())\n"
      ],
      "metadata": {
        "id": "hL2D7q0o3Rue",
        "outputId": "ca0ffdd7-ae88-43ec-8d3c-8bbb8b478290",
        "colab": {
          "base_uri": "https://localhost:8080/"
        }
      },
      "execution_count": 40,
      "outputs": [
        {
          "output_type": "stream",
          "name": "stdout",
          "text": [
            "Fitting 3 folds for each of 108 candidates, totalling 324 fits\n",
            "Best Parameters: {'colsample_bytree': 1.0, 'learning_rate': 0.2, 'max_depth': 2, 'n_estimators': 50, 'subsample': 0.8}\n",
            "Best Cross-Validation Accuracy: 0.8270042194092827\n",
            "\n",
            "Final Model Performance on Test Set:\n",
            "Accuracy: 0.8333333333333334\n",
            "              precision    recall  f1-score   support\n",
            "\n",
            "           0       0.81      0.91      0.85        32\n",
            "           1       0.88      0.75      0.81        28\n",
            "\n",
            "    accuracy                           0.83        60\n",
            "   macro avg       0.84      0.83      0.83        60\n",
            "weighted avg       0.84      0.83      0.83        60\n",
            "\n",
            "\n",
            "Cross-Validation Results (Precision): [0.75       0.66666667 0.66666667 0.66666667 0.875     ]\n",
            "Mean Precision: 0.7249999999999999\n",
            "Cross-Validation Results (Recall): [0.75       0.4        0.57142857 0.8        1.        ]\n",
            "Mean Recall: 0.7042857142857143\n",
            "Cross-Validation Results (F1 Score): [0.75       0.5        0.61538462 0.72727273 0.93333333]\n",
            "Mean F1 Score: 0.7051981351981352\n"
          ]
        }
      ]
    },
    {
      "cell_type": "code",
      "source": [
        "# Initialize the XGBoost classifier\n",
        "xgb_classifier = XGBClassifier(random_state=42, colsample_bytree=1.0, learning_rate=0.1, max_depth=2, n_estimators=50, subsample=0.8)\n",
        "\n",
        "# Train the model\n",
        "xgb_classifier.fit(X_train_transformedtest, y_train)\n",
        "\n",
        "# Make predictions on the test set\n",
        "y_pred = xgb_classifier.predict(X_test_transformedtest)\n",
        "\n",
        "# Evaluate the model\n",
        "accuracy = accuracy_score(y_test, y_pred)\n",
        "print(\"Accuracy:\", accuracy)\n",
        "print(classification_report(y_test, y_pred))\n",
        "\n",
        "\n"
      ],
      "metadata": {
        "id": "7hNOJ2Kx4k1T",
        "outputId": "5e5430e3-8f73-4cf3-979b-915d4aac469b",
        "colab": {
          "base_uri": "https://localhost:8080/"
        }
      },
      "execution_count": 34,
      "outputs": [
        {
          "output_type": "stream",
          "name": "stdout",
          "text": [
            "Accuracy: 0.8\n",
            "              precision    recall  f1-score   support\n",
            "\n",
            "           0       0.76      0.91      0.83        32\n",
            "           1       0.86      0.68      0.76        28\n",
            "\n",
            "    accuracy                           0.80        60\n",
            "   macro avg       0.81      0.79      0.79        60\n",
            "weighted avg       0.81      0.80      0.80        60\n",
            "\n"
          ]
        }
      ]
    },
    {
      "cell_type": "code",
      "source": [
        "from sklearn.model_selection import cross_val_score, KFold\n",
        "from sklearn.svm import SVC\n",
        "num_folds = 5\n",
        "xgb_classifier_model = xgb_classifier.fit(X_train_transformedtest, y_train)\n",
        "cross_val_results_xgb = cross_val_score(xgb_classifier_model, X_test_transformedtest, y_test, cv=kf)\n",
        "\n",
        "print(f'Cross-Validation Results (Accuracy): {cross_val_results_xgb}')\n",
        "print(f'Mean Accuracy: {cross_val_results_xgb.mean()}')\n",
        "\n",
        "# Custom scoring functions\n",
        "precision_test_xgb = cross_val_score(xgb_classifier_model, X_test_transformedtest, y_test, cv=kf, scoring=make_scorer(precision_score, average='binary'))\n",
        "recall_test_xgb = cross_val_score(xgb_classifier_model, X_test_transformedtest, y_test, cv=kf, scoring=make_scorer(recall_score, average='binary'))\n",
        "f1_test_xgb = cross_val_score(xgb_classifier_model, X_test_transformedtest, y_test, cv=kf, scoring=make_scorer(f1_score, average='binary'))\n",
        "\n",
        "# Print the results\n",
        "print(f'Cross-Validation Results (Precision): {precision_test_xgb}')\n",
        "print(f'Mean Precision: {precision_test_xgb.mean()}')\n",
        "\n",
        "print(f'Cross-Validation Results (Recall): {recall_test_xgb}')\n",
        "print(f'Mean Recall: {recall_test_xgb.mean()}')\n",
        "\n",
        "print(f'Cross-Validation Results (F1 Score): {f1_test_xgb}')\n",
        "print(f'Mean F1 Score: {f1_test_xgb.mean()}')"
      ],
      "metadata": {
        "id": "Fj6H60ar5Mmb",
        "outputId": "c684dd2d-b30e-4a8b-d52f-58fbfc6a9263",
        "colab": {
          "base_uri": "https://localhost:8080/"
        }
      },
      "execution_count": 35,
      "outputs": [
        {
          "output_type": "stream",
          "name": "stdout",
          "text": [
            "Cross-Validation Results (Accuracy): [0.83333333 0.75       0.75       0.75       0.91666667]\n",
            "Mean Accuracy: 0.8\n",
            "Cross-Validation Results (Precision): [0.75       0.75       0.75       0.66666667 0.875     ]\n",
            "Mean Precision: 0.7583333333333333\n",
            "Cross-Validation Results (Recall): [0.75       0.6        0.85714286 0.8        1.        ]\n",
            "Mean Recall: 0.8014285714285714\n",
            "Cross-Validation Results (F1 Score): [0.75       0.66666667 0.8        0.72727273 0.93333333]\n",
            "Mean F1 Score: 0.7754545454545456\n"
          ]
        }
      ]
    },
    {
      "cell_type": "markdown",
      "source": [
        "<h2>Ensemble Method</h2>\n"
      ],
      "metadata": {
        "id": "joGbzJ6CW0s3"
      }
    },
    {
      "cell_type": "code",
      "source": [
        "from sklearn.ensemble import VotingClassifier\n",
        "from sklearn.linear_model import LogisticRegression\n"
      ],
      "metadata": {
        "id": "txOSDk0GXDJV"
      },
      "execution_count": 42,
      "outputs": []
    },
    {
      "cell_type": "code",
      "source": [
        "# Random Forest\n",
        "#rf_clf = RandomForestClassifier(class_weight='balanced', random_state=42)\n",
        "rf_clf = RandomForestClassifier(n_estimators=50, random_state=123,max_depth=2)\n",
        "# XGBoost\n",
        "xgb_clf = XGBClassifier(\n",
        "random_state=42, colsample_bytree=1.0, learning_rate=0.1, max_depth=2, n_estimators=50, subsample=0.8\n",
        ")\n",
        "\n",
        "# Logistic Regression\n",
        "lr_clf = LogisticRegression(\n",
        "    random_state=42,\n",
        "    max_iter=10000,\n",
        "    solver='saga',\n",
        "    penalty='l2'\n",
        ")\n",
        "\n",
        "# ==========================\n",
        "# Define Ensemble Model\n",
        "# ==========================\n",
        "\n",
        "ensemble_clf = VotingClassifier(\n",
        "    estimators=[\n",
        "        ('rf', rf_clf),\n",
        "        ('xgb', xgb_clf),\n",
        "        ('lr', lr_clf)\n",
        "    ],\n",
        "    voting='soft'  # Soft voting for probability-based decisions\n",
        ")"
      ],
      "metadata": {
        "id": "9nopheQyXVJm"
      },
      "execution_count": 43,
      "outputs": []
    },
    {
      "cell_type": "code",
      "source": [
        "# Fit the ensemble model with data\n",
        "ensemble_clf.fit(X_train_transformedtest, y_train)\n",
        "\n",
        "# Predict on the test data\n",
        "y_pred_ensemble = ensemble_clf.predict(X_test_transformedtest)\n",
        "\n",
        "# ==========================\n",
        "# Evaluate the Model\n",
        "# ==========================\n",
        "\n",
        "# Accuracy\n",
        "accuracy = accuracy_score(y_test, y_pred_ensemble)\n",
        "\n",
        "# F1 Score\n",
        "f1 = f1_score(y_test, y_pred_ensemble, average='weighted')\n",
        "\n",
        "# Precision\n",
        "precision = precision_score(y_test, y_pred_ensemble, average='weighted', zero_division=0)\n",
        "\n",
        "# Recall\n",
        "recall = recall_score(y_test, y_pred_ensemble, average='weighted')\n",
        "\n",
        "# Classification Report\n",
        "report = classification_report(y_test, y_pred_ensemble)\n",
        "\n",
        "# Output Results\n",
        "print(f\"Accuracy: {accuracy}\")\n",
        "print(f\"F1 Score: {f1}\")\n",
        "print(f\"Precision: {precision}\")\n",
        "print(f\"Recall: {recall}\")\n",
        "print(\"\\nClassification Report:\")\n",
        "print(report)"
      ],
      "metadata": {
        "id": "DvrWx2SEX4OW",
        "outputId": "21d97d28-32b9-487a-f03a-a6fd6a18066b",
        "colab": {
          "base_uri": "https://localhost:8080/"
        }
      },
      "execution_count": 44,
      "outputs": [
        {
          "output_type": "stream",
          "name": "stdout",
          "text": [
            "Accuracy: 0.8\n",
            "F1 Score: 0.7965714285714287\n",
            "Precision: 0.8100478468899522\n",
            "Recall: 0.8\n",
            "\n",
            "Classification Report:\n",
            "              precision    recall  f1-score   support\n",
            "\n",
            "           0       0.76      0.91      0.83        32\n",
            "           1       0.86      0.68      0.76        28\n",
            "\n",
            "    accuracy                           0.80        60\n",
            "   macro avg       0.81      0.79      0.79        60\n",
            "weighted avg       0.81      0.80      0.80        60\n",
            "\n"
          ]
        }
      ]
    },
    {
      "cell_type": "code",
      "source": [
        "from sklearn.model_selection import cross_validate, KFold\n",
        "from sklearn.metrics import make_scorer, accuracy_score, precision_score, recall_score, f1_score, classification_report\n",
        "\n",
        "# Define cross-validation strategy\n",
        "kf = KFold(n_splits=5, shuffle=True, random_state=42)\n",
        "\n",
        "# Define scoring metrics\n",
        "scoring = {\n",
        "    'accuracy': make_scorer(accuracy_score),\n",
        "    'precision': make_scorer(precision_score, average='weighted', zero_division=0),\n",
        "    'recall': make_scorer(recall_score, average='weighted'),\n",
        "    'f1': make_scorer(f1_score, average='weighted')\n",
        "}\n",
        "\n",
        "# Perform Cross-Validation\n",
        "cv_results = cross_validate(\n",
        "    ensemble_clf,\n",
        "    X_test_transformedtest,\n",
        "    y_test,\n",
        "    cv=kf,\n",
        "    scoring=scoring,\n",
        "    return_train_score=False\n",
        ")\n",
        "\n",
        "# Output Cross-Validation Results\n",
        "print(\"Cross-Validation Results:\")\n",
        "print(f\"Mean Accuracy: {cv_results['test_accuracy'].mean():.4f}\")\n",
        "print(f\"Mean Precision: {cv_results['test_precision'].mean():.4f}\")\n",
        "print(f\"Mean Recall: {cv_results['test_recall'].mean():.4f}\")\n",
        "print(f\"Mean F1 Score: {cv_results['test_f1'].mean():.4f}\")\n",
        "\n",
        "# Fit the model on the full training set\n",
        "ensemble_clf.fit(X_train_transformedtest, y_train)\n",
        "\n",
        "# Predict on the test data\n",
        "y_pred_ensemble = ensemble_clf.predict(X_test_transformedtest)\n",
        "\n",
        "# Evaluate on Test Set\n",
        "accuracy = accuracy_score(y_test, y_pred_ensemble)\n",
        "f1 = f1_score(y_test, y_pred_ensemble, average='weighted')\n",
        "precision = precision_score(y_test, y_pred_ensemble, average='weighted', zero_division=0)\n",
        "recall = recall_score(y_test, y_pred_ensemble, average='weighted')\n",
        "report = classification_report(y_test, y_pred_ensemble)\n",
        "\n",
        "# Output Test Set Results\n",
        "print(\"\\nTest Set Results:\")\n",
        "print(f\"Accuracy: {accuracy:.4f}\")\n",
        "print(f\"F1 Score: {f1:.4f}\")\n",
        "print(f\"Precision: {precision:.4f}\")\n",
        "print(f\"Recall: {recall:.4f}\")\n",
        "print(\"\\nClassification Report:\")\n",
        "print(report)"
      ],
      "metadata": {
        "id": "UpgtmbfkYeHg",
        "outputId": "d3f6879b-4833-4b9a-8fe7-a23c21b6fa1e",
        "colab": {
          "base_uri": "https://localhost:8080/"
        }
      },
      "execution_count": 70,
      "outputs": [
        {
          "output_type": "stream",
          "name": "stdout",
          "text": [
            "Cross-Validation Results:\n",
            "Mean Accuracy: 0.8000\n",
            "Mean Precision: 0.8226\n",
            "Mean Recall: 0.8000\n",
            "Mean F1 Score: 0.7940\n",
            "\n",
            "Test Set Results:\n",
            "Accuracy: 0.8000\n",
            "F1 Score: 0.7966\n",
            "Precision: 0.8100\n",
            "Recall: 0.8000\n",
            "\n",
            "Classification Report:\n",
            "              precision    recall  f1-score   support\n",
            "\n",
            "           0       0.76      0.91      0.83        32\n",
            "           1       0.86      0.68      0.76        28\n",
            "\n",
            "    accuracy                           0.80        60\n",
            "   macro avg       0.81      0.79      0.79        60\n",
            "weighted avg       0.81      0.80      0.80        60\n",
            "\n"
          ]
        }
      ]
    },
    {
      "cell_type": "code",
      "source": [
        "from sklearn.model_selection import cross_val_score, KFold\n",
        "from sklearn.metrics import make_scorer, precision_score, recall_score, f1_score, accuracy_score\n",
        "\n",
        "# Define cross-validation\n",
        "kf = KFold(n_splits=5, shuffle=True, random_state=42)\n",
        "\n",
        "# Accuracy\n",
        "cross_val_results_accuracy = cross_val_score(ensemble_clf, X_test_transformedtest, y_test, cv=kf, scoring='accuracy')\n",
        "print(f'Cross-Validation Results (Accuracy): {cross_val_results_accuracy}')\n",
        "print(f'Mean Accuracy: {cross_val_results_accuracy.mean()}')\n",
        "\n",
        "# Precision\n",
        "precision_results = cross_val_score(ensemble_clf, X_test_transformedtest, y_test, cv=kf, scoring=make_scorer(precision_score, average='weighted', zero_division=0))\n",
        "print(f'Cross-Validation Results (Precision): {precision_results}')\n",
        "print(f'Mean Precision: {precision_results.mean()}')\n",
        "\n",
        "# Recall\n",
        "recall_results = cross_val_score(ensemble_clf, X_test_transformedtest, y_test, cv=kf, scoring=make_scorer(recall_score, average='weighted'))\n",
        "print(f'Cross-Validation Results (Recall): {recall_results}')\n",
        "print(f'Mean Recall: {recall_results.mean()}')\n",
        "\n",
        "# F1 Score\n",
        "f1_results = cross_val_score(ensemble_clf, X_test_transformedtest, y_test, cv=kf, scoring=make_scorer(f1_score, average='weighted'))\n",
        "print(f'Cross-Validation Results (F1 Score): {f1_results}')\n",
        "print(f'Mean F1 Score: {f1_results.mean()}')\n"
      ],
      "metadata": {
        "id": "fGrrPnR6ZD3o",
        "outputId": "365ea0f2-6e77-4940-869f-06535be3d957",
        "colab": {
          "base_uri": "https://localhost:8080/"
        }
      },
      "execution_count": 68,
      "outputs": [
        {
          "output_type": "stream",
          "name": "stdout",
          "text": [
            "Cross-Validation Results (Accuracy): [0.83333333 0.75       0.75       0.75       0.91666667]\n",
            "Mean Accuracy: 0.8\n",
            "Cross-Validation Results (Precision): [0.83333333 0.825      0.76388889 0.76388889 0.92708333]\n",
            "Mean Precision: 0.8226388888888888\n",
            "Cross-Validation Results (Recall): [0.83333333 0.75       0.75       0.75       0.91666667]\n",
            "Mean Recall: 0.8\n",
            "Cross-Validation Results (F1 Score): [0.83333333 0.71848739 0.75174825 0.75174825 0.91481481]\n",
            "Mean F1 Score: 0.794026409320527\n"
          ]
        }
      ]
    },
    {
      "cell_type": "markdown",
      "source": [
        "<h1><strong> Transformation Test 2 </strong></h1>\n",
        "<ol>\n",
        "<li>Logarithmic Transformation for Resting Blood Pressure and Cholesterol.</li>\n",
        "<li>Squared Transformation of Maximum Heart Rate</li>\n",
        "<li> <strong>combination of oldpeak and slope </strong></li> </ol>"
      ],
      "metadata": {
        "id": "mMYwMvir0r-t"
      }
    },
    {
      "cell_type": "code",
      "source": [
        "from sklearn.base import BaseEstimator, TransformerMixin\n",
        "from sklearn.compose import ColumnTransformer\n",
        "from sklearn.preprocessing import StandardScaler, OneHotEncoder\n",
        "import numpy as np\n",
        "\n",
        "# Custom Transformer for Logarithmic Transformation\n",
        "class LogTransformer(BaseEstimator, TransformerMixin):\n",
        "    def __init__(self, columns):\n",
        "        self.columns = columns\n",
        "\n",
        "    def fit(self, X, y=None):\n",
        "        return self\n",
        "\n",
        "    def transform(self, X):\n",
        "        X_copy = X.copy()\n",
        "        X_copy[self.columns] = np.log1p(X_copy[self.columns])\n",
        "        return X_copy\n",
        "\n",
        "# Custom Transformer for Square Transformation\n",
        "class SquareTransformer(BaseEstimator, TransformerMixin):\n",
        "    def __init__(self, columns):\n",
        "        self.columns = columns\n",
        "\n",
        "    def fit(self, X, y=None):\n",
        "        return self\n",
        "\n",
        "    def transform(self, X):\n",
        "        X_copy = X.copy()\n",
        "        X_copy[self.columns] = X_copy[self.columns] ** 2\n",
        "        return X_copy\n",
        "\n",
        "# Custom Transformer for Combining 'oldpeak' and 'slope'\n",
        "class CombineOldpeakSlope(BaseEstimator, TransformerMixin):\n",
        "    def __init__(self, method='add'):  # Choose method: 'add', 'multiply', 'weighted'\n",
        "        self.method = method\n",
        "\n",
        "    def fit(self, X, y=None):\n",
        "        return self\n",
        "\n",
        "    def transform(self, X):\n",
        "        X_copy = X.copy()\n",
        "        if self.method == 'add':\n",
        "            X_copy['oldpeak_slope_combined'] = X_copy['oldpeak'] + X_copy['slope']\n",
        "        elif self.method == 'multiply':\n",
        "            X_copy['oldpeak_slope_combined'] = X_copy['oldpeak'] * X_copy['slope']\n",
        "        elif self.method == 'weighted':\n",
        "            X_copy['oldpeak_slope_combined'] = 0.6 * X_copy['oldpeak'] + 0.4 * X_copy['slope']\n",
        "        return X_copy.drop(columns=['oldpeak', 'slope'])\n",
        "\n",
        "# Define the columns for transformation\n",
        "log_transform_columns = ['trestbps', 'chol']\n",
        "square_transform_columns = ['thalach']\n",
        "combine_columns = ['oldpeak', 'slope']\n",
        "\n",
        "# Define the preprocessing pipeline\n",
        "ct = ColumnTransformer(\n",
        "    transformers=[\n",
        "        (\"log_transform\", LogTransformer(log_transform_columns), log_transform_columns),\n",
        "        (\"square_transform\", SquareTransformer(square_transform_columns), square_transform_columns),\n",
        "        (\"combine_oldpeak_slope\", CombineOldpeakSlope(method='add'), combine_columns),\n",
        "        (\"scaling\", StandardScaler(), ['age', 'sex', 'fbs', 'restecg', 'exang']),\n",
        "        (\"onehot\", OneHotEncoder(sparse_output=False), ['ca', 'thal', 'cp'])\n",
        "    ],\n",
        "    remainder='drop'  # Drop all other columns not specified\n",
        ")\n",
        "\n",
        "# Apply the transformations to training and testing data\n",
        "X_train_transformed = ct.fit_transform(X_train)\n",
        "X_test_transformed = ct.transform(X_test)"
      ],
      "metadata": {
        "id": "zt3jwGSo0kcs"
      },
      "execution_count": 48,
      "outputs": []
    },
    {
      "cell_type": "markdown",
      "source": [
        "<h2> Random Forrest Classifier on Transformation 2 </h2>"
      ],
      "metadata": {
        "id": "1-j4XEGm03SB"
      }
    },
    {
      "cell_type": "code",
      "source": [
        "from sklearn.ensemble import RandomForestClassifier\n",
        "from sklearn.metrics import accuracy_score, f1_score, confusion_matrix, ConfusionMatrixDisplay,precision_score, recall_score\n",
        "import matplotlib.pyplot as plt\n",
        "\n",
        "# Create a Random Forest classifier\n",
        "clf = RandomForestClassifier(n_estimators=25, random_state=1,max_depth=20)\n",
        "\n",
        "# Training the model on the training dataset\n",
        "clf.fit(X_train_transformed, y_train)\n",
        "\n",
        "# Performing predictions on the test dataset\n",
        "y_pred = clf.predict(X_test_transformed)\n",
        "\n",
        "# Calculate accuracy and F1 score\n",
        "accuracy = accuracy_score(y_test, y_pred)\n",
        "f1 = f1_score(y_test, y_pred, average='weighted')\n",
        "precision = precision_score(y_pred, y_test, average=\"weighted\")\n",
        "recall = recall_score(y_pred, y_test, average=\"weighted\")\n",
        "\n",
        "# Print accuracy and F1 score\n",
        "print(f\"Accuracy of the model: {accuracy}\")\n",
        "print(f\"F1 Score of the model: {f1}\")\n",
        "print(\"Precision:\", precision)\n",
        "print(\"Recall:\", recall)\n",
        "\n",
        "\n",
        "# Generate and plot the confusion matrix\n",
        "cm = confusion_matrix(y_test, y_pred)\n",
        "cmd = ConfusionMatrixDisplay(cm, display_labels=clf.classes_)\n",
        "cmd.plot()\n",
        "plt.show()"
      ],
      "metadata": {
        "colab": {
          "base_uri": "https://localhost:8080/",
          "height": 518
        },
        "id": "FuE77Iq90yLi",
        "outputId": "0d5c9f20-9630-42c9-8162-7aeb49f88241"
      },
      "execution_count": 49,
      "outputs": [
        {
          "output_type": "stream",
          "name": "stdout",
          "text": [
            "Accuracy of the model: 0.8333333333333334\n",
            "F1 Score of the model: 0.8318250377073907\n",
            "Precision: 0.84375\n",
            "Recall: 0.8333333333333334\n"
          ]
        },
        {
          "output_type": "display_data",
          "data": {
            "text/plain": [
              "<Figure size 640x480 with 2 Axes>"
            ],
            "image/png": "[encoded data removed]"
          },
          "metadata": {}
        }
      ]
    },
    {
      "cell_type": "code",
      "source": [
        "from sklearn.model_selection import cross_val_score, KFold\n",
        "from sklearn.svm import SVC\n",
        "from sklearn.metrics import make_scorer\n",
        "\n",
        "# Create a Random Forest classifier\n",
        "clf = RandomForestClassifier(n_estimators=25, random_state=123, max_depth=3)\n",
        "clf_model = clf.fit(X_train_transformed, y_train)\n",
        "num_folds = 5\n",
        "kf = KFold(n_splits=num_folds, shuffle=True, random_state=42)\n",
        "cross_val_results_test = cross_val_score(clf_model, X_test_transformed, y_test, cv=kf)\n",
        "\n",
        "print(f'Cross-Validation Results (Accuracy): {cross_val_results_test}')\n",
        "print(f'Mean Accuracy: {cross_val_results_test.mean()}')\n",
        "# Custom scoring functions\n",
        "precision_test = cross_val_score(clf_model, X_test_transformed, y_test, cv=kf, scoring=make_scorer(precision_score, average='binary'))\n",
        "recall_test = cross_val_score(clf_model, X_test_transformed, y_test, cv=kf, scoring=make_scorer(recall_score, average='binary'))\n",
        "f1_test = cross_val_score(clf_model, X_test_transformed, y_test, cv=kf, scoring=make_scorer(f1_score, average='binary'))\n",
        "\n",
        "# Print the results\n",
        "print(f'Cross-Validation Results (Precision): {precision_test}')\n",
        "print(f'Mean Precision: {precision_test.mean()}')\n",
        "\n",
        "print(f'Cross-Validation Results (Recall): {recall_test}')\n",
        "print(f'Mean Recall: {recall_test.mean()}')\n",
        "\n",
        "print(f'Cross-Validation Results (F1 Score): {f1_test}')\n",
        "print(f'Mean F1 Score: {f1_test.mean()}')"
      ],
      "metadata": {
        "id": "1s49PxfKmMVn",
        "outputId": "bc27219f-2cb3-4482-e73b-0545e579f217",
        "colab": {
          "base_uri": "https://localhost:8080/"
        }
      },
      "execution_count": 50,
      "outputs": [
        {
          "output_type": "stream",
          "name": "stdout",
          "text": [
            "Cross-Validation Results (Accuracy): [0.83333333 0.66666667 0.75       0.91666667 0.91666667]\n",
            "Mean Accuracy: 0.8166666666666667\n",
            "Cross-Validation Results (Precision): [0.75       0.66666667 0.75       1.         0.875     ]\n",
            "Mean Precision: 0.8083333333333332\n",
            "Cross-Validation Results (Recall): [0.75       0.4        0.85714286 0.8        1.        ]\n",
            "Mean Recall: 0.7614285714285713\n",
            "Cross-Validation Results (F1 Score): [0.75       0.5        0.8        0.88888889 0.93333333]\n",
            "Mean F1 Score: 0.7744444444444444\n"
          ]
        }
      ]
    },
    {
      "cell_type": "markdown",
      "source": [
        "<h3> Parameter Grid Search </h3>"
      ],
      "metadata": {
        "id": "_dTXiaryoezA"
      }
    },
    {
      "cell_type": "code",
      "source": [
        "from sklearn.ensemble import RandomForestClassifier\n",
        "from sklearn.model_selection import GridSearchCV\n",
        "from sklearn.metrics import make_scorer, accuracy_score, precision_score, recall_score, f1_score\n",
        "\n",
        "# Create a Random Forest classifier\n",
        "clf = RandomForestClassifier()\n",
        "\n",
        "# Define the parameter grid, including random_state\n",
        "param_grid_rf = {\n",
        "    'n_estimators': [25, 50, 100, 200],\n",
        "    'max_depth': [2, 3, 5, 10, 20],\n",
        "    'random_state': [0, 42, 123, 2024]  # Different random states for testing reproducibility\n",
        "}\n",
        "\n",
        "# Define the scoring metrics\n",
        "scoring = {\n",
        "    'accuracy': make_scorer(accuracy_score),\n",
        "    'precision': make_scorer(precision_score, average='weighted', zero_division=0),\n",
        "    'recall': make_scorer(recall_score, average='weighted'),\n",
        "    'f1_weighted': make_scorer(f1_score, average='weighted')\n",
        "}\n",
        "\n",
        "# Perform grid search with multiple scoring metrics\n",
        "grid_search_rf = GridSearchCV(\n",
        "    estimator=clf,\n",
        "    param_grid=param_grid_rf,\n",
        "    scoring=scoring,\n",
        "    refit='f1_weighted',  # Select the best model based on F1-Weighted\n",
        "    cv=3,  # 3-fold cross-validation\n",
        "    verbose=1,  # To monitor progress\n",
        "    n_jobs=-1  # Use all available processors for faster computation\n",
        ")\n",
        "\n",
        "# Fit the grid search\n",
        "grid_search_rf.fit(X_train_transformed, y_train)\n",
        "\n",
        "# Get the best estimator\n",
        "best_rf = grid_search_rf.best_estimator_\n",
        "\n",
        "# Output the best parameters and cross-validated scores\n",
        "print(\"Best Parameters:\", grid_search_rf.best_params_)\n",
        "print(\"Best Cross-Validated F1-Weighted:\", grid_search_rf.best_score_)"
      ],
      "metadata": {
        "id": "YMdYujGMoiqd",
        "outputId": "041efc47-8014-4bd7-e538-99ad296d2c73",
        "colab": {
          "base_uri": "https://localhost:8080/"
        }
      },
      "execution_count": 51,
      "outputs": [
        {
          "output_type": "stream",
          "name": "stdout",
          "text": [
            "Fitting 3 folds for each of 80 candidates, totalling 240 fits\n",
            "Best Parameters: {'max_depth': 2, 'n_estimators': 200, 'random_state': 42}\n",
            "Best Cross-Validated F1-Weighted: 0.8342253925725879\n"
          ]
        }
      ]
    },
    {
      "cell_type": "code",
      "source": [
        "# Create a Random Forest classifier\n",
        "clf = RandomForestClassifier(n_estimators=200, random_state=42,max_depth=2)\n",
        "\n",
        "# Training the model on the training dataset\n",
        "clf.fit(X_train_transformed, y_train)\n",
        "\n",
        "# Performing predictions on the test dataset\n",
        "y_pred = clf.predict(X_test_transformed)\n",
        "\n",
        "# Calculate accuracy and F1 score\n",
        "accuracy = accuracy_score(y_test, y_pred)\n",
        "f1 = f1_score(y_test, y_pred, average='weighted')\n",
        "precision = precision_score(y_pred, y_test, average=\"weighted\")\n",
        "recall = recall_score(y_pred, y_test, average=\"weighted\")\n",
        "\n",
        "# Print accuracy and F1 score\n",
        "print(f\"Accuracy of the model: {accuracy}\")\n",
        "print(f\"F1 Score of the model: {f1}\")\n",
        "print(\"Precision:\", precision)\n",
        "print(\"Recall:\", recall)\n",
        "\n",
        "\n",
        "# Generate and plot the confusion matrix\n",
        "cm = confusion_matrix(y_test, y_pred)\n",
        "cmd = ConfusionMatrixDisplay(cm, display_labels=clf.classes_)\n",
        "cmd.plot()\n",
        "plt.show()"
      ],
      "metadata": {
        "id": "mqVMhg4DpNIX",
        "outputId": "a5c0fe45-a94f-48a8-ce37-ee32b6a6933a",
        "colab": {
          "base_uri": "https://localhost:8080/",
          "height": 524
        }
      },
      "execution_count": 52,
      "outputs": [
        {
          "output_type": "stream",
          "name": "stdout",
          "text": [
            "Accuracy of the model: 0.8333333333333334\n",
            "F1 Score of the model: 0.8304761904761905\n",
            "Precision: 0.855654761904762\n",
            "Recall: 0.8333333333333334\n"
          ]
        },
        {
          "output_type": "display_data",
          "data": {
            "text/plain": [
              "<Figure size 640x480 with 2 Axes>"
            ],
            "image/png": "[encoded data removed]"
          },
          "metadata": {}
        }
      ]
    },
    {
      "cell_type": "code",
      "source": [
        "# Create a Random Forest classifier\n",
        "clf = RandomForestClassifier(n_estimators=200, random_state=42, max_depth=2)\n",
        "clf_model = clf.fit(X_train_transformed, y_train)\n",
        "num_folds = 5\n",
        "kf = KFold(n_splits=num_folds, shuffle=True, random_state=42)\n",
        "cross_val_results_test = cross_val_score(clf_model, X_test_transformed, y_test, cv=kf)\n",
        "\n",
        "print(f'Cross-Validation Results (Accuracy): {cross_val_results_test}')\n",
        "print(f'Mean Accuracy: {cross_val_results_test.mean()}')\n",
        "# Custom scoring functions\n",
        "precision_test = cross_val_score(clf_model, X_test_transformed, y_test, cv=kf, scoring=make_scorer(precision_score, average='binary'))\n",
        "recall_test = cross_val_score(clf_model, X_test_transformed, y_test, cv=kf, scoring=make_scorer(recall_score, average='binary'))\n",
        "f1_test = cross_val_score(clf_model, X_test_transformed, y_test, cv=kf, scoring=make_scorer(f1_score, average='binary'))\n",
        "\n",
        "# Print the results\n",
        "print(f'Cross-Validation Results (Precision): {precision_test}')\n",
        "print(f'Mean Precision: {precision_test.mean()}')\n",
        "\n",
        "print(f'Cross-Validation Results (Recall): {recall_test}')\n",
        "print(f'Mean Recall: {recall_test.mean()}')\n",
        "\n",
        "print(f'Cross-Validation Results (F1 Score): {f1_test}')\n",
        "print(f'Mean F1 Score: {f1_test.mean()}')"
      ],
      "metadata": {
        "id": "Q3exUOzapcnB",
        "outputId": "fa6aa8da-953c-4a3f-ced7-faf32d57dea6",
        "colab": {
          "base_uri": "https://localhost:8080/"
        }
      },
      "execution_count": 53,
      "outputs": [
        {
          "output_type": "stream",
          "name": "stdout",
          "text": [
            "Cross-Validation Results (Accuracy): [0.83333333 0.83333333 1.         0.83333333 0.91666667]\n",
            "Mean Accuracy: 0.8833333333333334\n",
            "Cross-Validation Results (Precision): [1.         1.         1.         0.71428571 0.875     ]\n",
            "Mean Precision: 0.9178571428571429\n",
            "Cross-Validation Results (Recall): [0.5 0.6 1.  1.  1. ]\n",
            "Mean Recall: 0.82\n",
            "Cross-Validation Results (F1 Score): [0.66666667 0.75       1.         0.83333333 0.93333333]\n",
            "Mean F1 Score: 0.8366666666666667\n"
          ]
        }
      ]
    },
    {
      "cell_type": "markdown",
      "source": [
        "<h2>XGB Forrest Classifier on Transformation 2</h2>"
      ],
      "metadata": {
        "id": "HLtsjir81TX1"
      }
    },
    {
      "cell_type": "code",
      "source": [
        "# Import the necessary library\n",
        "#!pip install xgboost\n",
        "from xgboost import XGBClassifier\n",
        "from sklearn.metrics import classification_report, accuracy_score\n",
        "\n",
        "# Initialize the XGBoost classifier\n",
        "xgb_classifier = XGBClassifier(random_state=42)\n",
        "\n",
        "# Train the model\n",
        "xgb_classifier.fit(X_train_transformed, y_train)\n",
        "\n",
        "# Make predictions on the test set\n",
        "y_pred = xgb_classifier.predict(X_test_transformed)\n",
        "\n",
        "# Evaluate the model\n",
        "accuracy = accuracy_score(y_test, y_pred)\n",
        "print(\"Accuracy:\", accuracy)\n",
        "print(classification_report(y_test, y_pred))"
      ],
      "metadata": {
        "colab": {
          "base_uri": "https://localhost:8080/"
        },
        "id": "dyP5-xo91Sis",
        "outputId": "ea8c06e6-b211-4ccd-f188-785cf33f96a0"
      },
      "execution_count": 54,
      "outputs": [
        {
          "output_type": "stream",
          "name": "stdout",
          "text": [
            "Accuracy: 0.8666666666666667\n",
            "              precision    recall  f1-score   support\n",
            "\n",
            "           0       0.85      0.91      0.88        32\n",
            "           1       0.88      0.82      0.85        28\n",
            "\n",
            "    accuracy                           0.87        60\n",
            "   macro avg       0.87      0.86      0.87        60\n",
            "weighted avg       0.87      0.87      0.87        60\n",
            "\n"
          ]
        }
      ]
    },
    {
      "cell_type": "code",
      "source": [
        "num_folds = 5\n",
        "xgb_classifier_model = xgb_classifier.fit(X_train_transformed, y_train)\n",
        "cross_val_results_xgb = cross_val_score(xgb_classifier_model, X_test_transformed, y_test, cv=kf)\n",
        "\n",
        "print(f'Cross-Validation Results (Accuracy): {cross_val_results_xgb}')\n",
        "print(f'Mean Accuracy: {cross_val_results_xgb.mean()}')\n",
        "\n",
        "# Custom scoring functions\n",
        "precision_test_xgb = cross_val_score(xgb_classifier_model, X_test_transformed, y_test, cv=kf, scoring=make_scorer(precision_score, average='binary'))\n",
        "recall_test_xgb = cross_val_score(xgb_classifier_model, X_test_transformed, y_test, cv=kf, scoring=make_scorer(recall_score, average='binary'))\n",
        "f1_test_xgb = cross_val_score(xgb_classifier_model, X_test_transformed, y_test, cv=kf, scoring=make_scorer(f1_score, average='binary'))\n",
        "\n",
        "# Print the results\n",
        "print(f'Cross-Validation Results (Precision): {precision_test_xgb}')\n",
        "print(f'Mean Precision: {precision_test_xgb.mean()}')\n",
        "\n",
        "print(f'Cross-Validation Results (Recall): {recall_test_xgb}')\n",
        "print(f'Mean Recall: {recall_test_xgb.mean()}')\n",
        "\n",
        "print(f'Cross-Validation Results (F1 Score): {f1_test_xgb}')\n",
        "print(f'Mean F1 Score: {f1_test_xgb.mean()}')"
      ],
      "metadata": {
        "id": "XCWfq3-GvfO-",
        "outputId": "10b1f7a9-ade2-4a99-dd3d-7cd749d41c12",
        "colab": {
          "base_uri": "https://localhost:8080/"
        }
      },
      "execution_count": 56,
      "outputs": [
        {
          "output_type": "stream",
          "name": "stdout",
          "text": [
            "Cross-Validation Results (Accuracy): [0.83333333 0.66666667 0.66666667 0.75       0.91666667]\n",
            "Mean Accuracy: 0.7666666666666666\n",
            "Cross-Validation Results (Precision): [0.75       0.66666667 0.8        0.66666667 0.875     ]\n",
            "Mean Precision: 0.7516666666666667\n",
            "Cross-Validation Results (Recall): [0.75       0.4        0.57142857 0.8        1.        ]\n",
            "Mean Recall: 0.7042857142857143\n",
            "Cross-Validation Results (F1 Score): [0.75       0.5        0.66666667 0.72727273 0.93333333]\n",
            "Mean F1 Score: 0.7154545454545455\n"
          ]
        }
      ]
    },
    {
      "cell_type": "markdown",
      "source": [
        "<h3> Parameter Grid Search </h3>"
      ],
      "metadata": {
        "id": "LBOajBSTwNTG"
      }
    },
    {
      "cell_type": "code",
      "source": [
        "# Import necessary libraries\n",
        "from xgboost import XGBClassifier\n",
        "from sklearn.model_selection import GridSearchCV, KFold, cross_val_score\n",
        "from sklearn.metrics import make_scorer, precision_score, recall_score, f1_score, classification_report, accuracy_score\n",
        "\n",
        "# Define cross-validation\n",
        "kf = KFold(n_splits=5, shuffle=True, random_state=42)\n",
        "\n",
        "# Initialize the XGBClassifier\n",
        "xgb_classifier = XGBClassifier(random_state=42)\n",
        "\n",
        "# Define the parameter grid for hyperparameter tuning\n",
        "param_grid = {\n",
        "    'n_estimators': [50, 100, 150],          # Number of boosting rounds\n",
        "    'max_depth': [2, 4, 6],                  # Maximum tree depth\n",
        "    'learning_rate': [0.01, 0.1, 0.2],       # Learning rate (step size)\n",
        "    'subsample': [0.8, 1.0],                 # Fraction of samples for each boosting round\n",
        "    'colsample_bytree': [0.8, 1.0]           # Fraction of features for each boosting round\n",
        "}\n",
        "\n",
        "# Perform Grid Search using GridSearchCV\n",
        "grid_search = GridSearchCV(\n",
        "    estimator=xgb_classifier,\n",
        "    param_grid=param_grid,\n",
        "    scoring='accuracy',\n",
        "    cv=3,\n",
        "    verbose=1,\n",
        "    n_jobs=-1\n",
        ")\n",
        "\n",
        "# Fit GridSearchCV to the training data\n",
        "grid_search.fit(X_train_transformed, y_train)\n",
        "\n",
        "# Print the best parameters and the corresponding accuracy\n",
        "print(\"Best Parameters:\", grid_search.best_params_)\n",
        "print(\"Best Cross-Validation Accuracy:\", grid_search.best_score_)\n",
        "\n",
        "# Train the final model with the best parameters\n",
        "best_xgb = grid_search.best_estimator_\n",
        "best_xgb.fit(X_train_transformed, y_train)\n",
        "\n",
        "# Make predictions on the test set\n",
        "y_pred = best_xgb.predict(X_test_transformed)\n",
        "\n",
        "# Evaluate the final model on the test set\n",
        "accuracy = accuracy_score(y_test, y_pred)\n",
        "print(\"\\nFinal Model Performance on Test Set:\")\n",
        "print(\"Accuracy:\", accuracy)\n",
        "print(classification_report(y_test, y_pred))\n",
        "\n",
        "# Cross-validation metrics for the final model\n",
        "precision = cross_val_score(best_xgb, X_test_transformed, y_test, cv=kf, scoring=make_scorer(precision_score, average='binary'))\n",
        "recall = cross_val_score(best_xgb, X_test_transformed, y_test, cv=kf, scoring=make_scorer(recall_score, average='binary'))\n",
        "f1 = cross_val_score(best_xgb, X_test_transformed, y_test, cv=kf, scoring=make_scorer(f1_score, average='binary'))\n",
        "\n",
        "print(\"\\nCross-Validation Results (Precision):\", precision)\n",
        "print(\"Mean Precision:\", precision.mean())\n",
        "\n",
        "print(\"Cross-Validation Results (Recall):\", recall)\n",
        "print(\"Mean Recall:\", recall.mean())\n",
        "\n",
        "print(\"Cross-Validation Results (F1 Score):\", f1)\n",
        "print(\"Mean F1 Score:\", f1.mean())"
      ],
      "metadata": {
        "id": "SvEG3SJnwMV7",
        "outputId": "d9ac4e32-bff5-4837-e61f-6f1eb25853e9",
        "colab": {
          "base_uri": "https://localhost:8080/"
        }
      },
      "execution_count": 57,
      "outputs": [
        {
          "output_type": "stream",
          "name": "stdout",
          "text": [
            "Fitting 3 folds for each of 108 candidates, totalling 324 fits\n",
            "Best Parameters: {'colsample_bytree': 1.0, 'learning_rate': 0.1, 'max_depth': 2, 'n_estimators': 50, 'subsample': 0.8}\n",
            "Best Cross-Validation Accuracy: 0.8354430379746836\n",
            "\n",
            "Final Model Performance on Test Set:\n",
            "Accuracy: 0.8166666666666667\n",
            "              precision    recall  f1-score   support\n",
            "\n",
            "           0       0.78      0.91      0.84        32\n",
            "           1       0.87      0.71      0.78        28\n",
            "\n",
            "    accuracy                           0.82        60\n",
            "   macro avg       0.83      0.81      0.81        60\n",
            "weighted avg       0.82      0.82      0.81        60\n",
            "\n",
            "\n",
            "Cross-Validation Results (Precision): [0.75       0.75       0.75       0.66666667 0.875     ]\n",
            "Mean Precision: 0.7583333333333333\n",
            "Cross-Validation Results (Recall): [0.75       0.6        0.85714286 0.8        1.        ]\n",
            "Mean Recall: 0.8014285714285714\n",
            "Cross-Validation Results (F1 Score): [0.75       0.66666667 0.8        0.72727273 0.93333333]\n",
            "Mean F1 Score: 0.7754545454545456\n"
          ]
        }
      ]
    },
    {
      "cell_type": "code",
      "source": [
        "# Initialize the XGBoost classifier\n",
        "xgb_classifier = XGBClassifier(random_state=42, colsample_bytree=1.0, learning_rate=0.1, max_depth=2, n_estimators=50, subsample=0.8)\n",
        "\n",
        "# Train the model\n",
        "xgb_classifier.fit(X_train_transformedtest, y_train)\n",
        "\n",
        "# Make predictions on the test set\n",
        "y_pred = xgb_classifier.predict(X_test_transformedtest)\n",
        "\n",
        "# Evaluate the model\n",
        "accuracy = accuracy_score(y_test, y_pred)\n",
        "print(\"Accuracy:\", accuracy)\n",
        "print(classification_report(y_test, y_pred))"
      ],
      "metadata": {
        "id": "J2R4C-j8wvoV",
        "outputId": "0c52b85d-825d-4a2a-862a-5d0cd86e278c",
        "colab": {
          "base_uri": "https://localhost:8080/"
        }
      },
      "execution_count": 58,
      "outputs": [
        {
          "output_type": "stream",
          "name": "stdout",
          "text": [
            "Accuracy: 0.8\n",
            "              precision    recall  f1-score   support\n",
            "\n",
            "           0       0.76      0.91      0.83        32\n",
            "           1       0.86      0.68      0.76        28\n",
            "\n",
            "    accuracy                           0.80        60\n",
            "   macro avg       0.81      0.79      0.79        60\n",
            "weighted avg       0.81      0.80      0.80        60\n",
            "\n"
          ]
        }
      ]
    },
    {
      "cell_type": "code",
      "source": [
        "num_folds = 5\n",
        "xgb_classifier_model = xgb_classifier.fit(X_train_transformed, y_train)\n",
        "cross_val_results_xgb = cross_val_score(xgb_classifier_model, X_test_transformed, y_test, cv=kf)\n",
        "\n",
        "print(f'Cross-Validation Results (Accuracy): {cross_val_results_xgb}')\n",
        "print(f'Mean Accuracy: {cross_val_results_xgb.mean()}')\n",
        "\n",
        "# Custom scoring functions\n",
        "precision_test_xgb = cross_val_score(xgb_classifier_model, X_test_transformed, y_test, cv=kf, scoring=make_scorer(precision_score, average='binary'))\n",
        "recall_test_xgb = cross_val_score(xgb_classifier_model, X_test_transformed, y_test, cv=kf, scoring=make_scorer(recall_score, average='binary'))\n",
        "f1_test_xgb = cross_val_score(xgb_classifier_model, X_test_transformed, y_test, cv=kf, scoring=make_scorer(f1_score, average='binary'))\n",
        "\n",
        "# Print the results\n",
        "print(f'Cross-Validation Results (Precision): {precision_test_xgb}')\n",
        "print(f'Mean Precision: {precision_test_xgb.mean()}')\n",
        "\n",
        "print(f'Cross-Validation Results (Recall): {recall_test_xgb}')\n",
        "print(f'Mean Recall: {recall_test_xgb.mean()}')\n",
        "\n",
        "print(f'Cross-Validation Results (F1 Score): {f1_test_xgb}')\n",
        "print(f'Mean F1 Score: {f1_test_xgb.mean()}')"
      ],
      "metadata": {
        "id": "2Y53nBeLw_Op",
        "outputId": "299beec8-2175-4423-b5db-ed20c5ae3ec7",
        "colab": {
          "base_uri": "https://localhost:8080/"
        }
      },
      "execution_count": 59,
      "outputs": [
        {
          "output_type": "stream",
          "name": "stdout",
          "text": [
            "Cross-Validation Results (Accuracy): [0.83333333 0.75       0.75       0.75       0.91666667]\n",
            "Mean Accuracy: 0.8\n",
            "Cross-Validation Results (Precision): [0.75       0.75       0.75       0.66666667 0.875     ]\n",
            "Mean Precision: 0.7583333333333333\n",
            "Cross-Validation Results (Recall): [0.75       0.6        0.85714286 0.8        1.        ]\n",
            "Mean Recall: 0.8014285714285714\n",
            "Cross-Validation Results (F1 Score): [0.75       0.66666667 0.8        0.72727273 0.93333333]\n",
            "Mean F1 Score: 0.7754545454545456\n"
          ]
        }
      ]
    },
    {
      "cell_type": "markdown",
      "source": [
        "<h3> Ensemble Method </h3>"
      ],
      "metadata": {
        "id": "-k0iiD1y1tuQ"
      }
    },
    {
      "cell_type": "code",
      "source": [
        "# Random Forest\n",
        "#rf_clf = RandomForestClassifier(class_weight='balanced', random_state=42)\n",
        "rf_clf = RandomForestClassifier(n_estimators=200, random_state=42,max_depth=2)\n",
        "# XGBoost\n",
        "xgb_clf = XGBClassifier(\n",
        "random_state=42, colsample_bytree=1.0, learning_rate=0.1, max_depth=2, n_estimators=50, subsample=0.8\n",
        ")\n",
        "\n",
        "# Logistic Regression\n",
        "lr_clf = LogisticRegression(\n",
        "    random_state=42,\n",
        "    max_iter=10000,\n",
        "    solver='saga',\n",
        "    penalty='l2'\n",
        ")\n",
        "\n",
        "# ==========================\n",
        "# Define Ensemble Model\n",
        "# ==========================\n",
        "\n",
        "ensemble_clf = VotingClassifier(\n",
        "    estimators=[\n",
        "        ('rf', rf_clf),\n",
        "        ('xgb', xgb_clf),\n",
        "        ('lr', lr_clf)\n",
        "    ],\n",
        "    voting='soft'  # Soft voting for probability-based decisions\n",
        ")"
      ],
      "metadata": {
        "id": "x9gzOTQA1w2X"
      },
      "execution_count": 60,
      "outputs": []
    },
    {
      "cell_type": "code",
      "source": [
        "# Fit the ensemble model with data\n",
        "ensemble_clf.fit(X_train_transformed, y_train)\n",
        "\n",
        "# Predict on the test data\n",
        "y_pred_ensemble = ensemble_clf.predict(X_test_transformed)\n",
        "\n",
        "# ==========================\n",
        "# Evaluate the Model\n",
        "# ==========================\n",
        "\n",
        "# Accuracy\n",
        "accuracy = accuracy_score(y_test, y_pred_ensemble)\n",
        "\n",
        "# F1 Score\n",
        "f1 = f1_score(y_test, y_pred_ensemble, average='weighted')\n",
        "\n",
        "# Precision\n",
        "precision = precision_score(y_test, y_pred_ensemble, average='weighted', zero_division=0)\n",
        "\n",
        "# Recall\n",
        "recall = recall_score(y_test, y_pred_ensemble, average='weighted')\n",
        "\n",
        "# Classification Report\n",
        "report = classification_report(y_test, y_pred_ensemble)\n",
        "\n",
        "# Output Results\n",
        "print(f\"Accuracy: {accuracy}\")\n",
        "print(f\"Precision: {precision}\")\n",
        "print(f\"Recall: {recall}\")\n",
        "print(f\"F1 Score: {f1}\")\n",
        "print(\"\\nClassification Report:\")\n",
        "print(report)"
      ],
      "metadata": {
        "id": "ox18g9Wb2RHj",
        "outputId": "ae605be7-11b8-4d24-dbb2-aa20b3cb278e",
        "colab": {
          "base_uri": "https://localhost:8080/"
        }
      },
      "execution_count": 72,
      "outputs": [
        {
          "output_type": "stream",
          "name": "stdout",
          "text": [
            "Accuracy: 0.8\n",
            "Precision: 0.8100478468899522\n",
            "Recall: 0.8\n",
            "F1 Score: 0.7965714285714287\n",
            "\n",
            "Classification Report:\n",
            "              precision    recall  f1-score   support\n",
            "\n",
            "           0       0.76      0.91      0.83        32\n",
            "           1       0.86      0.68      0.76        28\n",
            "\n",
            "    accuracy                           0.80        60\n",
            "   macro avg       0.81      0.79      0.79        60\n",
            "weighted avg       0.81      0.80      0.80        60\n",
            "\n"
          ]
        }
      ]
    },
    {
      "cell_type": "code",
      "source": [
        "from sklearn.model_selection import cross_validate, KFold\n",
        "from sklearn.metrics import make_scorer, accuracy_score, precision_score, recall_score, f1_score, classification_report\n",
        "\n",
        "# Define cross-validation strategy\n",
        "kf = KFold(n_splits=5, shuffle=True, random_state=42)\n",
        "\n",
        "# Define scoring metrics\n",
        "scoring = {\n",
        "    'accuracy': make_scorer(accuracy_score),\n",
        "    'precision': make_scorer(precision_score, average='weighted', zero_division=0),\n",
        "    'recall': make_scorer(recall_score, average='weighted'),\n",
        "    'f1': make_scorer(f1_score, average='weighted')\n",
        "}\n",
        "\n",
        "# Perform Cross-Validation\n",
        "cv_results = cross_validate(\n",
        "    ensemble_clf,\n",
        "    X_test_transformed,\n",
        "    y_test,\n",
        "    cv=kf,\n",
        "    scoring=scoring,\n",
        "    return_train_score=False\n",
        ")\n",
        "\n",
        "# Output Cross-Validation Results\n",
        "print(\"Cross-Validation Results:\")\n",
        "print(f\"Mean Accuracy: {cv_results['test_accuracy'].mean():.4f}\")\n",
        "print(f\"Mean Precision: {cv_results['test_precision'].mean():.4f}\")\n",
        "print(f\"Mean Recall: {cv_results['test_recall'].mean():.4f}\")\n",
        "print(f\"Mean F1 Score: {cv_results['test_f1'].mean():.4f}\")\n",
        "\n",
        "# Fit the model on the full training set\n",
        "ensemble_clf.fit(X_train_transformed, y_train)\n",
        "\n",
        "# Predict on the test data\n",
        "y_pred_ensemble = ensemble_clf.predict(X_test_transformed)\n",
        "\n",
        "# Evaluate on Test Set\n",
        "accuracy = accuracy_score(y_test, y_pred_ensemble)\n",
        "f1 = f1_score(y_test, y_pred_ensemble, average='weighted')\n",
        "precision = precision_score(y_test, y_pred_ensemble, average='weighted', zero_division=0)\n",
        "recall = recall_score(y_test, y_pred_ensemble, average='weighted')\n",
        "report = classification_report(y_test, y_pred_ensemble)\n",
        "\n",
        "# Output Test Set Results\n",
        "print(\"\\nTest Set Results:\")\n",
        "print(f\"Accuracy: {accuracy:.4f}\")\n",
        "print(f\"F1 Score: {f1:.4f}\")\n",
        "print(f\"Precision: {precision:.4f}\")\n",
        "print(f\"Recall: {recall:.4f}\")\n",
        "print(\"\\nClassification Report:\")\n",
        "print(report)"
      ],
      "metadata": {
        "id": "0DtAxfH02Zys",
        "outputId": "b8fdc024-6c96-4531-b796-30abc3cda7f5",
        "colab": {
          "base_uri": "https://localhost:8080/"
        }
      },
      "execution_count": 73,
      "outputs": [
        {
          "output_type": "stream",
          "name": "stdout",
          "text": [
            "Cross-Validation Results:\n",
            "Mean Accuracy: 0.8167\n",
            "Mean Precision: 0.8365\n",
            "Mean Recall: 0.8167\n",
            "Mean F1 Score: 0.8103\n",
            "\n",
            "Test Set Results:\n",
            "Accuracy: 0.8000\n",
            "F1 Score: 0.7966\n",
            "Precision: 0.8100\n",
            "Recall: 0.8000\n",
            "\n",
            "Classification Report:\n",
            "              precision    recall  f1-score   support\n",
            "\n",
            "           0       0.76      0.91      0.83        32\n",
            "           1       0.86      0.68      0.76        28\n",
            "\n",
            "    accuracy                           0.80        60\n",
            "   macro avg       0.81      0.79      0.79        60\n",
            "weighted avg       0.81      0.80      0.80        60\n",
            "\n"
          ]
        }
      ]
    },
    {
      "cell_type": "code",
      "source": [
        "# Define cross-validation\n",
        "kf = KFold(n_splits=5, shuffle=True, random_state=42)\n",
        "\n",
        "# Accuracy\n",
        "cross_val_results_accuracy = cross_val_score(ensemble_clf, X_test_transformed, y_test, cv=kf, scoring='accuracy')\n",
        "print(f'Cross-Validation Results (Accuracy): {cross_val_results_accuracy}')\n",
        "print(f'Mean Accuracy: {cross_val_results_accuracy.mean()}')\n",
        "\n",
        "# Precision\n",
        "precision_results = cross_val_score(ensemble_clf, X_test_transformed, y_test, cv=kf, scoring=make_scorer(precision_score, average='weighted', zero_division=0))\n",
        "print(f'Cross-Validation Results (Precision): {precision_results}')\n",
        "print(f'Mean Precision: {precision_results.mean()}')\n",
        "\n",
        "# Recall\n",
        "recall_results = cross_val_score(ensemble_clf, X_test_transformed, y_test, cv=kf, scoring=make_scorer(recall_score, average='weighted'))\n",
        "print(f'Cross-Validation Results (Recall): {recall_results}')\n",
        "print(f'Mean Recall: {recall_results.mean()}')\n",
        "\n",
        "# F1 Score\n",
        "f1_results = cross_val_score(ensemble_clf, X_test_transformed, y_test, cv=kf, scoring=make_scorer(f1_score, average='weighted'))\n",
        "print(f'Cross-Validation Results (F1 Score): {f1_results}')\n",
        "print(f'Mean F1 Score: {f1_results.mean()}')"
      ],
      "metadata": {
        "id": "1bsx-E362yz7",
        "outputId": "5b90fb7c-c3a9-487e-adc5-bb4e8aaba835",
        "colab": {
          "base_uri": "https://localhost:8080/"
        }
      },
      "execution_count": 66,
      "outputs": [
        {
          "output_type": "stream",
          "name": "stdout",
          "text": [
            "Cross-Validation Results (Accuracy): [0.83333333 0.75       0.75       0.83333333 0.91666667]\n",
            "Mean Accuracy: 0.8166666666666668\n",
            "Cross-Validation Results (Precision): [0.83333333 0.825      0.76388889 0.83333333 0.92708333]\n",
            "Mean Precision: 0.8365277777777778\n",
            "Cross-Validation Results (Recall): [0.83333333 0.75       0.75       0.83333333 0.91666667]\n",
            "Mean Recall: 0.8166666666666668\n",
            "Cross-Validation Results (F1 Score): [0.83333333 0.71848739 0.75174825 0.83333333 0.91481481]\n",
            "Mean F1 Score: 0.8103434256375432\n"
          ]
        }
      ]
    },
    {
      "cell_type": "markdown",
      "source": [
        "<h1> PCA Transformation: </h1>"
      ],
      "metadata": {
        "id": "_AHgQrxW1r8C"
      }
    },
    {
      "cell_type": "code",
      "source": [
        "from sklearn.decomposition import PCA"
      ],
      "metadata": {
        "id": "Q1MwvbFK1noN"
      },
      "execution_count": null,
      "outputs": []
    },
    {
      "cell_type": "code",
      "source": [
        "pca95 = PCA(n_components=0.95)\n",
        "X_train_pca95 = pca95.fit(X_train_transformed)\n",
        "\n",
        "print('-'*20 + 'Explained variance ratio' + '-'*20)\n",
        "print(X_train_pca95.explained_variance_ratio_)"
      ],
      "metadata": {
        "id": "viTQjpsR1vlF"
      },
      "execution_count": null,
      "outputs": []
    },
    {
      "cell_type": "code",
      "source": [
        "X_train_pca = pca95.fit_transform(X_train_transformed)\n",
        "X_test_pca = pca95.transform(X_test_transformed)"
      ],
      "metadata": {
        "id": "iPpWy0vV10cz"
      },
      "execution_count": null,
      "outputs": []
    },
    {
      "cell_type": "markdown",
      "source": [
        "<h2> Random Forrest Classifier with PCA Transformation </h2>"
      ],
      "metadata": {
        "id": "_Tn4jaA2181Y"
      }
    },
    {
      "cell_type": "code",
      "source": [
        "# Create a Random Forest classifier\n",
        "clf = RandomForestClassifier(n_estimators=25, random_state=42,max_depth=2)\n",
        "\n",
        "# Training the model on the training dataset\n",
        "clf.fit(X_train_pca, y_train)\n",
        "\n",
        "# Performing predictions on the test dataset\n",
        "y_pred = clf.predict(X_test_pca)\n",
        "\n",
        "# Calculate accuracy and F1 score\n",
        "accuracy = accuracy_score(y_test, y_pred)\n",
        "f1 = f1_score(y_test, y_pred, average='weighted')\n",
        "precision = precision_score(y_pred, y_test, average=\"weighted\")\n",
        "recall = recall_score(y_pred, y_test, average=\"weighted\")\n",
        "\n",
        "# Print accuracy and F1 score\n",
        "print(f\"Accuracy of the model: {accuracy}\")\n",
        "print(f\"F1 Score of the model: {f1}\")\n",
        "print(\"Precision:\", precision)\n",
        "print(\"Recall:\", recall)\n",
        "# Generate and plot the confusion matrix\n",
        "cm = confusion_matrix(y_test, y_pred)\n",
        "cmd = ConfusionMatrixDisplay(cm, display_labels=clf.classes_)\n",
        "cmd.plot()\n",
        "plt.show()"
      ],
      "metadata": {
        "id": "2PBnerah13dl"
      },
      "execution_count": null,
      "outputs": []
    },
    {
      "cell_type": "markdown",
      "source": [
        "<h1><strong>Tansformation Test 3 </h1></strong>\n",
        "<br>\n",
        "<ol>\n",
        "<li>Logarithmic Transformation for Resting Blood Pressure and Cholesterol.</li>\n",
        "<li>Squared Transformation of Maximum Heart Rate</li>\n",
        "<li> combination of oldpeak and slope </li>\n",
        "<li> <strong>GenderBasedFeatureEngineering: creates new features that capture potential differences between genders (represented by the sex column) in the dataset. It computes gender-normalized features, interaction terms, and gender-specific indicators.</strong></li>\n",
        "</ol>"
      ],
      "metadata": {
        "id": "7DzffS_O3fgX"
      }
    },
    {
      "cell_type": "code",
      "source": [
        "# Custom Transformer for Logarithmic Transformation\n",
        "class LogTransformer(BaseEstimator, TransformerMixin):\n",
        "    def __init__(self, columns):\n",
        "        self.columns = columns\n",
        "\n",
        "    def fit(self, X, y=None):\n",
        "        return self\n",
        "\n",
        "    def transform(self, X):\n",
        "        X_copy = X.copy()\n",
        "        X_copy[self.columns] = np.log1p(X_copy[self.columns])\n",
        "        return X_copy\n",
        "\n",
        "\n",
        "# Custom Transformer for Square Transformation\n",
        "class SquareTransformer(BaseEstimator, TransformerMixin):\n",
        "    def __init__(self, columns):\n",
        "        self.columns = columns\n",
        "\n",
        "    def fit(self, X, y=None):\n",
        "        return self\n",
        "\n",
        "    def transform(self, X):\n",
        "        X_copy = X.copy()\n",
        "        X_copy[self.columns] = X_copy[self.columns] ** 2\n",
        "        return X_copy\n",
        "\n",
        "\n",
        "# Custom Transformer for Combining 'oldpeak' and 'slope'\n",
        "class CombineOldpeakSlope(BaseEstimator, TransformerMixin):\n",
        "    def __init__(self, method='add'):  # Choose method: 'add', 'multiply', 'weighted'\n",
        "        self.method = method\n",
        "\n",
        "    def fit(self, X, y=None):\n",
        "        return self\n",
        "\n",
        "    def transform(self, X):\n",
        "        X_copy = X.copy()\n",
        "        if self.method == 'add':\n",
        "            X_copy['oldpeak_slope_combined'] = X_copy['oldpeak'] + X_copy['slope']\n",
        "        elif self.method == 'multiply':\n",
        "            X_copy['oldpeak_slope_combined'] = X_copy['oldpeak'] * X_copy['slope']\n",
        "        elif self.method == 'weighted':\n",
        "            X_copy['oldpeak_slope_combined'] = 0.6 * X_copy['oldpeak'] + 0.4 * X_copy['slope']\n",
        "        return X_copy.drop(columns=['oldpeak', 'slope'])\n",
        "\n",
        "\n",
        "# Custom Transformer for Gender-Based Feature Engineering\n",
        "class GenderBasedFeatureEngineering(BaseEstimator, TransformerMixin):\n",
        "    def __init__(self):\n",
        "        pass\n",
        "\n",
        "    def fit(self, X, y=None):\n",
        "        return self\n",
        "\n",
        "    def transform(self, X):\n",
        "        X_copy = X.copy()\n",
        "\n",
        "        # Gender-Normalized Features\n",
        "        X_copy['thalach_norm_gender'] = X_copy['thalach'] / X_copy.groupby('sex')['thalach'].transform('mean')\n",
        "        X_copy['chol_norm_gender'] = X_copy['chol'] / X_copy.groupby('sex')['chol'].transform('mean')\n",
        "\n",
        "        # Gender-Interaction Terms\n",
        "        X_copy['sex_thalach'] = X_copy['sex'] * X_copy['thalach']\n",
        "        X_copy['sex_oldpeak'] = X_copy['sex'] * X_copy['oldpeak']\n",
        "\n",
        "        # Gender-Specific Indicators\n",
        "        X_copy['thalach_above_median_gender'] = (X_copy['thalach'] > X_copy.groupby('sex')['thalach'].transform('median')).astype(int)\n",
        "        X_copy['chol_above_median_gender'] = (X_copy['chol'] > X_copy.groupby('sex')['chol'].transform('median')).astype(int)\n",
        "\n",
        "        return X_copy\n",
        "\n",
        "\n",
        "# Define the columns for transformation\n",
        "log_transform_columns = ['trestbps', 'chol']\n",
        "square_transform_columns = ['thalach']\n",
        "combine_columns = ['oldpeak', 'slope']\n",
        "\n",
        "# Define the preprocessing pipeline\n",
        "ct = ColumnTransformer(\n",
        "    transformers=[\n",
        "        (\"log_transform\", LogTransformer(log_transform_columns), log_transform_columns),\n",
        "        (\"square_transform\", SquareTransformer(square_transform_columns), square_transform_columns),\n",
        "        (\"combine_oldpeak_slope\", CombineOldpeakSlope(method='add'), combine_columns),\n",
        "        (\"gender_features\", GenderBasedFeatureEngineering(), list(X_train.columns)),\n",
        "        (\"scaling\", StandardScaler(), ['age', 'sex', 'cp', 'fbs', 'restecg', 'exang']),\n",
        "        (\"onehot\", OneHotEncoder(sparse_output=False), ['ca', 'thal'])\n",
        "    ],\n",
        "    remainder='drop'  # Drop all other columns not specified\n",
        ")\n",
        "\n",
        "# Apply the transformations to training and testing data\n",
        "X_train_transformed = ct.fit_transform(X_train)\n",
        "X_test_transformed = ct.transform(X_test)\n"
      ],
      "metadata": {
        "id": "1h41ZEab2I6S"
      },
      "execution_count": 74,
      "outputs": []
    },
    {
      "cell_type": "markdown",
      "source": [
        "<h2> Random Forrest Classifier Transformation 3 </h2>"
      ],
      "metadata": {
        "id": "zAkuVzST3yiF"
      }
    },
    {
      "cell_type": "code",
      "source": [
        "from sklearn.ensemble import RandomForestClassifier\n",
        "from sklearn.metrics import accuracy_score, f1_score, confusion_matrix, ConfusionMatrixDisplay,precision_score, recall_score\n",
        "import matplotlib.pyplot as plt\n",
        "\n",
        "# Create a Random Forest classifier\n",
        "clf = RandomForestClassifier(n_estimators=50, random_state=42,max_depth=5)\n",
        "\n",
        "# Training the model on the training dataset\n",
        "clf.fit(X_train_transformed, y_train)\n",
        "\n",
        "# Performing predictions on the test dataset\n",
        "y_pred = clf.predict(X_test_transformed)\n",
        "\n",
        "# Calculate accuracy and F1 score\n",
        "accuracy = accuracy_score(y_test, y_pred)\n",
        "f1 = f1_score(y_test, y_pred, average='weighted')\n",
        "precision = precision_score(y_pred, y_test, average=\"weighted\")\n",
        "recall = recall_score(y_pred, y_test, average=\"weighted\")\n",
        "\n",
        "# Print accuracy and F1 score\n",
        "print(f\"Accuracy of the model: {accuracy}\")\n",
        "print(f\"F1 Score of the model: {f1}\")\n",
        "print(\"Precision:\", precision)\n",
        "print(\"Recall:\", recall)\n",
        "\n",
        "\n",
        "# Generate and plot the confusion matrix\n",
        "cm = confusion_matrix(y_test, y_pred)\n",
        "cmd = ConfusionMatrixDisplay(cm, display_labels=clf.classes_)\n",
        "cmd.plot()\n",
        "plt.show()"
      ],
      "metadata": {
        "colab": {
          "base_uri": "https://localhost:8080/",
          "height": 518
        },
        "id": "f-Ofvwd73vF0",
        "outputId": "9aac3809-2a25-464c-b6f5-9d14e3281b2c"
      },
      "execution_count": 75,
      "outputs": [
        {
          "output_type": "stream",
          "name": "stdout",
          "text": [
            "Accuracy of the model: 0.8333333333333334\n",
            "F1 Score of the model: 0.8327721661054994\n",
            "Precision: 0.8363095238095238\n",
            "Recall: 0.8333333333333334\n"
          ]
        },
        {
          "output_type": "display_data",
          "data": {
            "text/plain": [
              "<Figure size 640x480 with 2 Axes>"
            ],
            "image/png": "[encoded data removed]"
          },
          "metadata": {}
        }
      ]
    },
    {
      "cell_type": "code",
      "source": [
        "# Create a Random Forest classifier\n",
        "clf = RandomForestClassifier(n_estimators=50, random_state=42, max_depth=5)\n",
        "clf_model = clf.fit(X_train_transformed, y_train)\n",
        "num_folds = 5\n",
        "kf = KFold(n_splits=num_folds, shuffle=True, random_state=42)\n",
        "cross_val_results_test = cross_val_score(clf_model, X_test_transformed, y_test, cv=kf)\n",
        "\n",
        "print(f'Cross-Validation Results (Accuracy): {cross_val_results_test}')\n",
        "print(f'Mean Accuracy: {cross_val_results_test.mean()}')\n",
        "# Custom scoring functions\n",
        "precision_test = cross_val_score(clf_model, X_test_transformed, y_test, cv=kf, scoring=make_scorer(precision_score, average='binary'))\n",
        "recall_test = cross_val_score(clf_model, X_test_transformed, y_test, cv=kf, scoring=make_scorer(recall_score, average='binary'))\n",
        "f1_test = cross_val_score(clf_model, X_test_transformed, y_test, cv=kf, scoring=make_scorer(f1_score, average='binary'))\n",
        "\n",
        "# Print the results\n",
        "print(f'Cross-Validation Results (Precision): {precision_test}')\n",
        "print(f'Mean Precision: {precision_test.mean()}')\n",
        "\n",
        "print(f'Cross-Validation Results (Recall): {recall_test}')\n",
        "print(f'Mean Recall: {recall_test.mean()}')\n",
        "\n",
        "print(f'Cross-Validation Results (F1 Score): {f1_test}')\n",
        "print(f'Mean F1 Score: {f1_test.mean()}')"
      ],
      "metadata": {
        "id": "z7l-QF_CZ7OI",
        "outputId": "614e9af5-b76f-4923-8d05-3baaaf59d122",
        "colab": {
          "base_uri": "https://localhost:8080/"
        }
      },
      "execution_count": 77,
      "outputs": [
        {
          "output_type": "stream",
          "name": "stdout",
          "text": [
            "Cross-Validation Results (Accuracy): [0.75       0.66666667 0.75       0.83333333 0.91666667]\n",
            "Mean Accuracy: 0.7833333333333333\n",
            "Cross-Validation Results (Precision): [0.66666667 0.66666667 0.83333333 0.71428571 0.875     ]\n",
            "Mean Precision: 0.7511904761904762\n",
            "Cross-Validation Results (Recall): [0.5        0.4        0.71428571 1.         1.        ]\n",
            "Mean Recall: 0.7228571428571429\n",
            "Cross-Validation Results (F1 Score): [0.57142857 0.5        0.76923077 0.83333333 0.93333333]\n",
            "Mean F1 Score: 0.7214652014652015\n"
          ]
        }
      ]
    },
    {
      "cell_type": "code",
      "source": [
        "# Create a Random Forest classifier\n",
        "clf = RandomForestClassifier()\n",
        "\n",
        "# Define the parameter grid, including random_state\n",
        "param_grid_rf = {\n",
        "    'n_estimators': [25, 50, 100, 200],\n",
        "    'max_depth': [2, 3, 5, 10, 20],\n",
        "    'random_state': [0, 42, 123, 2024]  # Different random states for testing reproducibility\n",
        "}\n",
        "\n",
        "# Define the scoring metrics\n",
        "scoring = {\n",
        "    'accuracy': make_scorer(accuracy_score),\n",
        "    'precision': make_scorer(precision_score, average='weighted', zero_division=0),\n",
        "    'recall': make_scorer(recall_score, average='weighted'),\n",
        "    'f1_weighted': make_scorer(f1_score, average='weighted')\n",
        "}\n",
        "\n",
        "# Perform grid search with multiple scoring metrics\n",
        "grid_search_rf = GridSearchCV(\n",
        "    estimator=clf,\n",
        "    param_grid=param_grid_rf,\n",
        "    scoring=scoring,\n",
        "    refit='f1_weighted',  # Select the best model based on F1-Weighted\n",
        "    cv=3,  # 3-fold cross-validation\n",
        "    verbose=1,  # To monitor progress\n",
        "    n_jobs=-1  # Use all available processors for faster computation\n",
        ")\n",
        "\n",
        "# Fit the grid search\n",
        "grid_search_rf.fit(X_train_transformed, y_train)\n",
        "\n",
        "# Get the best estimator\n",
        "best_rf = grid_search_rf.best_estimator_\n",
        "\n",
        "# Output the best parameters and cross-validated scores\n",
        "print(\"Best Parameters:\", grid_search_rf.best_params_)\n",
        "print(\"Best Cross-Validated F1-Weighted:\", grid_search_rf.best_score_)"
      ],
      "metadata": {
        "id": "Bb6F9yUDbTYA",
        "outputId": "4a640cd9-6806-4cc9-bd98-ca8676f0263b",
        "colab": {
          "base_uri": "https://localhost:8080/"
        }
      },
      "execution_count": 78,
      "outputs": [
        {
          "output_type": "stream",
          "name": "stdout",
          "text": [
            "Fitting 3 folds for each of 80 candidates, totalling 240 fits\n",
            "Best Parameters: {'max_depth': 5, 'n_estimators': 200, 'random_state': 123}\n",
            "Best Cross-Validated F1-Weighted: 0.8338880443571224\n"
          ]
        }
      ]
    },
    {
      "cell_type": "code",
      "source": [
        "# Create a Random Forest classifier\n",
        "clf = RandomForestClassifier(n_estimators=200, random_state=123,max_depth=5)\n",
        "\n",
        "# Training the model on the training dataset\n",
        "clf.fit(X_train_transformed, y_train)\n",
        "\n",
        "# Performing predictions on the test dataset\n",
        "y_pred = clf.predict(X_test_transformed)\n",
        "\n",
        "# Calculate accuracy and F1 score\n",
        "accuracy = accuracy_score(y_test, y_pred)\n",
        "f1 = f1_score(y_test, y_pred, average='weighted')\n",
        "precision = precision_score(y_pred, y_test, average=\"weighted\")\n",
        "recall = recall_score(y_pred, y_test, average=\"weighted\")\n",
        "\n",
        "# Print accuracy and F1 score\n",
        "print(f\"Accuracy of the model: {accuracy}\")\n",
        "print(f\"F1 Score of the model: {f1}\")\n",
        "print(\"Precision:\", precision)\n",
        "print(\"Recall:\", recall)\n",
        "\n",
        "\n",
        "# Generate and plot the confusion matrix\n",
        "cm = confusion_matrix(y_test, y_pred)\n",
        "cmd = ConfusionMatrixDisplay(cm, display_labels=clf.classes_)\n",
        "cmd.plot()\n",
        "plt.show()"
      ],
      "metadata": {
        "id": "D_dogNQpb2Pk",
        "outputId": "8fac6939-4d14-4191-ac81-2818210a1a4d",
        "colab": {
          "base_uri": "https://localhost:8080/",
          "height": 518
        }
      },
      "execution_count": 79,
      "outputs": [
        {
          "output_type": "stream",
          "name": "stdout",
          "text": [
            "Accuracy of the model: 0.85\n",
            "F1 Score of the model: 0.849112925936356\n",
            "Precision: 0.8560267857142857\n",
            "Recall: 0.85\n"
          ]
        },
        {
          "output_type": "display_data",
          "data": {
            "text/plain": [
              "<Figure size 640x480 with 2 Axes>"
            ],
            "image/png": "[encoded data removed]"
          },
          "metadata": {}
        }
      ]
    },
    {
      "cell_type": "code",
      "source": [
        "# Create a Random Forest classifier\n",
        "clf = RandomForestClassifier(n_estimators=200, random_state=123,max_depth=5)\n",
        "clf_model = clf.fit(X_train_transformed, y_train)\n",
        "num_folds = 5\n",
        "kf = KFold(n_splits=num_folds, shuffle=True, random_state=42)\n",
        "cross_val_results_test = cross_val_score(clf_model, X_test_transformed, y_test, cv=kf)\n",
        "\n",
        "print(f'Cross-Validation Results (Accuracy): {cross_val_results_test}')\n",
        "print(f'Mean Accuracy: {cross_val_results_test.mean()}')\n",
        "# Custom scoring functions\n",
        "precision_test = cross_val_score(clf_model, X_test_transformed, y_test, cv=kf, scoring=make_scorer(precision_score, average='binary'))\n",
        "recall_test = cross_val_score(clf_model, X_test_transformed, y_test, cv=kf, scoring=make_scorer(recall_score, average='binary'))\n",
        "f1_test = cross_val_score(clf_model, X_test_transformed, y_test, cv=kf, scoring=make_scorer(f1_score, average='binary'))\n",
        "\n",
        "# Print the results\n",
        "print(f'Cross-Validation Results (Precision): {precision_test}')\n",
        "print(f'Mean Precision: {precision_test.mean()}')\n",
        "\n",
        "print(f'Cross-Validation Results (Recall): {recall_test}')\n",
        "print(f'Mean Recall: {recall_test.mean()}')\n",
        "\n",
        "print(f'Cross-Validation Results (F1 Score): {f1_test}')\n",
        "print(f'Mean F1 Score: {f1_test.mean()}')"
      ],
      "metadata": {
        "id": "kYD6jlMsb7mX",
        "outputId": "dd63df24-4e9d-4b66-ad09-f41895a0eaad",
        "colab": {
          "base_uri": "https://localhost:8080/"
        }
      },
      "execution_count": 80,
      "outputs": [
        {
          "output_type": "stream",
          "name": "stdout",
          "text": [
            "Cross-Validation Results (Accuracy): [0.75       0.58333333 0.75       0.83333333 0.91666667]\n",
            "Mean Accuracy: 0.7666666666666667\n",
            "Cross-Validation Results (Precision): [0.66666667 0.5        0.75       0.8        0.875     ]\n",
            "Mean Precision: 0.7183333333333334\n",
            "Cross-Validation Results (Recall): [0.5        0.2        0.85714286 0.8        1.        ]\n",
            "Mean Recall: 0.6714285714285714\n",
            "Cross-Validation Results (F1 Score): [0.57142857 0.28571429 0.8        0.8        0.93333333]\n",
            "Mean F1 Score: 0.6780952380952382\n"
          ]
        }
      ]
    },
    {
      "cell_type": "markdown",
      "source": [
        "<h2> XGB Classifier Transformation 3 </h3>"
      ],
      "metadata": {
        "id": "n5RyesiB4zho"
      }
    },
    {
      "cell_type": "code",
      "source": [
        "# Initialize the XGBoost classifier\n",
        "xgb_classifier = XGBClassifier(random_state=42)\n",
        "\n",
        "# Train the model with the PCA-transformed data\n",
        "xgb_classifier.fit(X_train_transformed, y_train)\n",
        "\n",
        "# Make predictions on the test set\n",
        "y_pred = xgb_classifier.predict(X_test_transformed)\n",
        "\n",
        "# Evaluate the model\n",
        "accuracy = accuracy_score(y_test, y_pred)\n",
        "print(\"Accuracy:\", accuracy)\n",
        "print(classification_report(y_test, y_pred))"
      ],
      "metadata": {
        "colab": {
          "base_uri": "https://localhost:8080/"
        },
        "id": "lhcErtqR4vjc",
        "outputId": "190b01ef-b636-4b4f-a17e-e45d3add98f4"
      },
      "execution_count": 81,
      "outputs": [
        {
          "output_type": "stream",
          "name": "stdout",
          "text": [
            "Accuracy: 0.8666666666666667\n",
            "              precision    recall  f1-score   support\n",
            "\n",
            "           0       0.85      0.91      0.88        32\n",
            "           1       0.88      0.82      0.85        28\n",
            "\n",
            "    accuracy                           0.87        60\n",
            "   macro avg       0.87      0.86      0.87        60\n",
            "weighted avg       0.87      0.87      0.87        60\n",
            "\n"
          ]
        }
      ]
    },
    {
      "cell_type": "markdown",
      "source": [
        "<h2> XGB Boost Classifier with K-means Crossfold Validation</h2>"
      ],
      "metadata": {
        "id": "edbVXAogec96"
      }
    },
    {
      "cell_type": "code",
      "source": [
        "from sklearn.model_selection import cross_val_score, KFold\n",
        "from sklearn.svm import SVC\n",
        "num_folds = 5\n",
        "xgb_classifier_model = xgb_classifier.fit(X_train_transformed, y_train)\n",
        "cross_val_results_xgb = cross_val_score(xgb_classifier_model, X_test_transformed, y_test, cv=kf)\n",
        "\n",
        "print(f'Cross-Validation Results (Accuracy): {cross_val_results_xgb}')\n",
        "print(f'Mean Accuracy: {cross_val_results_xgb.mean()}')\n",
        "\n",
        "# Custom scoring functions\n",
        "precision_test_xgb = cross_val_score(xgb_classifier_model, X_test_transformed, y_test, cv=kf, scoring=make_scorer(precision_score, average='binary'))\n",
        "recall_test_xgb = cross_val_score(xgb_classifier_model, X_test_transformed, y_test, cv=kf, scoring=make_scorer(recall_score, average='binary'))\n",
        "f1_test_xgb = cross_val_score(xgb_classifier_model, X_test_transformed, y_test, cv=kf, scoring=make_scorer(f1_score, average='binary'))\n",
        "\n",
        "# Print the results\n",
        "print(f'Cross-Validation Results (Precision): {precision_test_xgb}')\n",
        "print(f'Mean Precision: {precision_test_xgb.mean()}')\n",
        "\n",
        "print(f'Cross-Validation Results (Recall): {recall_test_xgb}')\n",
        "print(f'Mean Recall: {recall_test_xgb.mean()}')\n",
        "\n",
        "print(f'Cross-Validation Results (F1 Score): {f1_test_xgb}')\n",
        "print(f'Mean F1 Score: {f1_test_xgb.mean()}')\n"
      ],
      "metadata": {
        "colab": {
          "base_uri": "https://localhost:8080/"
        },
        "id": "JmUyNmS7eUvl",
        "outputId": "fed70418-f66c-4f63-e30e-e7b2d6cdf6b0"
      },
      "execution_count": 82,
      "outputs": [
        {
          "output_type": "stream",
          "name": "stdout",
          "text": [
            "Cross-Validation Results (Accuracy): [0.83333333 0.66666667 0.66666667 0.83333333 0.91666667]\n",
            "Mean Accuracy: 0.7833333333333333\n",
            "Cross-Validation Results (Precision): [0.75       0.66666667 0.8        0.8        0.875     ]\n",
            "Mean Precision: 0.7783333333333333\n",
            "Cross-Validation Results (Recall): [0.75       0.4        0.57142857 0.8        1.        ]\n",
            "Mean Recall: 0.7042857142857143\n",
            "Cross-Validation Results (F1 Score): [0.75       0.5        0.66666667 0.8        0.93333333]\n",
            "Mean F1 Score: 0.7300000000000001\n"
          ]
        }
      ]
    },
    {
      "cell_type": "code",
      "source": [
        "# Import necessary libraries\n",
        "from xgboost import XGBClassifier\n",
        "from sklearn.model_selection import GridSearchCV, KFold, cross_val_score\n",
        "from sklearn.metrics import make_scorer, precision_score, recall_score, f1_score, classification_report, accuracy_score\n",
        "\n",
        "# Define cross-validation\n",
        "kf = KFold(n_splits=5, shuffle=True, random_state=42)\n",
        "\n",
        "# Initialize the XGBClassifier\n",
        "xgb_classifier = XGBClassifier(random_state=42)\n",
        "\n",
        "# Define the parameter grid for hyperparameter tuning\n",
        "param_grid = {\n",
        "    'n_estimators': [50, 100, 150],          # Number of boosting rounds\n",
        "    'max_depth': [2, 4, 6],                  # Maximum tree depth\n",
        "    'learning_rate': [0.01, 0.1, 0.2],       # Learning rate (step size)\n",
        "    'subsample': [0.8, 1.0],                 # Fraction of samples for each boosting round\n",
        "    'colsample_bytree': [0.8, 1.0]           # Fraction of features for each boosting round\n",
        "}\n",
        "\n",
        "# Perform Grid Search using GridSearchCV\n",
        "grid_search = GridSearchCV(\n",
        "    estimator=xgb_classifier,\n",
        "    param_grid=param_grid,\n",
        "    scoring='accuracy',\n",
        "    cv=3,\n",
        "    verbose=1,\n",
        "    n_jobs=-1\n",
        ")\n",
        "\n",
        "# Fit GridSearchCV to the training data\n",
        "grid_search.fit(X_train_transformed, y_train)\n",
        "\n",
        "# Print the best parameters and the corresponding accuracy\n",
        "print(\"Best Parameters:\", grid_search.best_params_)\n",
        "print(\"Best Cross-Validation Accuracy:\", grid_search.best_score_)\n",
        "\n",
        "# Train the final model with the best parameters\n",
        "best_xgb = grid_search.best_estimator_\n",
        "best_xgb.fit(X_train_transformed, y_train)\n",
        "\n",
        "# Make predictions on the test set\n",
        "y_pred = best_xgb.predict(X_test_transformed)\n",
        "\n",
        "# Evaluate the final model on the test set\n",
        "accuracy = accuracy_score(y_test, y_pred)\n",
        "print(\"\\nFinal Model Performance on Test Set:\")\n",
        "print(\"Accuracy:\", accuracy)\n",
        "print(classification_report(y_test, y_pred))\n",
        "\n",
        "# Cross-validation metrics for the final model\n",
        "precision = cross_val_score(best_xgb, X_test_transformed, y_test, cv=kf, scoring=make_scorer(precision_score, average='binary'))\n",
        "recall = cross_val_score(best_xgb, X_test_transformed, y_test, cv=kf, scoring=make_scorer(recall_score, average='binary'))\n",
        "f1 = cross_val_score(best_xgb, X_test_transformed, y_test, cv=kf, scoring=make_scorer(f1_score, average='binary'))\n",
        "\n",
        "print(\"\\nCross-Validation Results (Precision):\", precision)\n",
        "print(\"Mean Precision:\", precision.mean())\n",
        "\n",
        "print(\"Cross-Validation Results (Recall):\", recall)\n",
        "print(\"Mean Recall:\", recall.mean())\n",
        "\n",
        "print(\"Cross-Validation Results (F1 Score):\", f1)\n",
        "print(\"Mean F1 Score:\", f1.mean())"
      ],
      "metadata": {
        "id": "vH49uV3NceD4",
        "outputId": "9a954d1e-edb2-4a48-f25c-a948509f97e0",
        "colab": {
          "base_uri": "https://localhost:8080/"
        }
      },
      "execution_count": 83,
      "outputs": [
        {
          "output_type": "stream",
          "name": "stdout",
          "text": [
            "Fitting 3 folds for each of 108 candidates, totalling 324 fits\n",
            "Best Parameters: {'colsample_bytree': 1.0, 'learning_rate': 0.2, 'max_depth': 4, 'n_estimators': 150, 'subsample': 0.8}\n",
            "Best Cross-Validation Accuracy: 0.8227848101265822\n",
            "\n",
            "Final Model Performance on Test Set:\n",
            "Accuracy: 0.8666666666666667\n",
            "              precision    recall  f1-score   support\n",
            "\n",
            "           0       0.85      0.91      0.88        32\n",
            "           1       0.88      0.82      0.85        28\n",
            "\n",
            "    accuracy                           0.87        60\n",
            "   macro avg       0.87      0.86      0.87        60\n",
            "weighted avg       0.87      0.87      0.87        60\n",
            "\n",
            "\n",
            "Cross-Validation Results (Precision): [0.75       0.66666667 0.8        0.66666667 0.875     ]\n",
            "Mean Precision: 0.7516666666666667\n",
            "Cross-Validation Results (Recall): [0.75       0.4        0.57142857 0.8        1.        ]\n",
            "Mean Recall: 0.7042857142857143\n",
            "Cross-Validation Results (F1 Score): [0.75       0.5        0.66666667 0.72727273 0.93333333]\n",
            "Mean F1 Score: 0.7154545454545455\n"
          ]
        }
      ]
    },
    {
      "cell_type": "code",
      "source": [
        "# Initialize the XGBoost classifier\n",
        "xgb_classifier = XGBClassifier(random_state=42, colsample_bytree=1.0, learning_rate=0.2, max_depth=4, n_estimators=150, subsample=0.8)\n",
        "\n",
        "# Train the model with the PCA-transformed data\n",
        "xgb_classifier.fit(X_train_transformed, y_train)\n",
        "\n",
        "# Make predictions on the test set\n",
        "y_pred = xgb_classifier.predict(X_test_transformed)\n",
        "\n",
        "# Evaluate the model\n",
        "accuracy = accuracy_score(y_test, y_pred)\n",
        "print(\"Accuracy:\", accuracy)\n",
        "print(classification_report(y_test, y_pred))"
      ],
      "metadata": {
        "id": "E3j4F9s4c0ee",
        "outputId": "c4906440-33c3-43d2-8cf6-f3cd743e0888",
        "colab": {
          "base_uri": "https://localhost:8080/"
        }
      },
      "execution_count": 84,
      "outputs": [
        {
          "output_type": "stream",
          "name": "stdout",
          "text": [
            "Accuracy: 0.8666666666666667\n",
            "              precision    recall  f1-score   support\n",
            "\n",
            "           0       0.85      0.91      0.88        32\n",
            "           1       0.88      0.82      0.85        28\n",
            "\n",
            "    accuracy                           0.87        60\n",
            "   macro avg       0.87      0.86      0.87        60\n",
            "weighted avg       0.87      0.87      0.87        60\n",
            "\n"
          ]
        }
      ]
    },
    {
      "cell_type": "code",
      "source": [
        "from sklearn.model_selection import cross_val_score, KFold\n",
        "from sklearn.svm import SVC\n",
        "num_folds = 5\n",
        "xgb_classifier_model = xgb_classifier.fit(X_train_transformed, y_train)\n",
        "cross_val_results_xgb = cross_val_score(xgb_classifier_model, X_test_transformed, y_test, cv=kf)\n",
        "\n",
        "print(f'Cross-Validation Results (Accuracy): {cross_val_results_xgb}')\n",
        "print(f'Mean Accuracy: {cross_val_results_xgb.mean()}')\n",
        "\n",
        "# Custom scoring functions\n",
        "precision_test_xgb = cross_val_score(xgb_classifier_model, X_test_transformed, y_test, cv=kf, scoring=make_scorer(precision_score, average='binary'))\n",
        "recall_test_xgb = cross_val_score(xgb_classifier_model, X_test_transformed, y_test, cv=kf, scoring=make_scorer(recall_score, average='binary'))\n",
        "f1_test_xgb = cross_val_score(xgb_classifier_model, X_test_transformed, y_test, cv=kf, scoring=make_scorer(f1_score, average='binary'))\n",
        "\n",
        "# Print the results\n",
        "print(f'Cross-Validation Results (Precision): {precision_test_xgb}')\n",
        "print(f'Mean Precision: {precision_test_xgb.mean()}')\n",
        "\n",
        "print(f'Cross-Validation Results (Recall): {recall_test_xgb}')\n",
        "print(f'Mean Recall: {recall_test_xgb.mean()}')\n",
        "\n",
        "print(f'Cross-Validation Results (F1 Score): {f1_test_xgb}')\n",
        "print(f'Mean F1 Score: {f1_test_xgb.mean()}')"
      ],
      "metadata": {
        "id": "rL74q8FzdJZ_",
        "outputId": "0ecfa9a6-6751-4b54-9709-934f4ed8dd99",
        "colab": {
          "base_uri": "https://localhost:8080/"
        }
      },
      "execution_count": 85,
      "outputs": [
        {
          "output_type": "stream",
          "name": "stdout",
          "text": [
            "Cross-Validation Results (Accuracy): [0.83333333 0.66666667 0.66666667 0.75       0.91666667]\n",
            "Mean Accuracy: 0.7666666666666666\n",
            "Cross-Validation Results (Precision): [0.75       0.66666667 0.8        0.66666667 0.875     ]\n",
            "Mean Precision: 0.7516666666666667\n",
            "Cross-Validation Results (Recall): [0.75       0.4        0.57142857 0.8        1.        ]\n",
            "Mean Recall: 0.7042857142857143\n",
            "Cross-Validation Results (F1 Score): [0.75       0.5        0.66666667 0.72727273 0.93333333]\n",
            "Mean F1 Score: 0.7154545454545455\n"
          ]
        }
      ]
    },
    {
      "cell_type": "markdown",
      "source": [
        "<h1> Male vs. Female test </h1>"
      ],
      "metadata": {
        "id": "c2-m_m-toRAg"
      }
    },
    {
      "cell_type": "code",
      "source": [
        "from sklearn.model_selection import train_test_split\n",
        "\n",
        "# Assuming `df` is your DataFrame\n",
        "# Drop the unique identifier and the target column from features\n",
        "X = df_binary_col.drop(columns=['num_binary'])\n",
        "\n",
        "# Separate the target\n",
        "y = df_binary_col['num_binary']\n",
        "\n",
        "# Split the data\n",
        "X_train, X_test, y_train, y_test = train_test_split(X, y, test_size=0.2, random_state=42, stratify=y)"
      ],
      "metadata": {
        "id": "H3TdAMFao4jb"
      },
      "execution_count": null,
      "outputs": []
    },
    {
      "cell_type": "code",
      "source": [
        "# Filter using the original X_test DataFrame to get indices for males and females\n",
        "male_indices = X_test['sex'] == 1\n",
        "female_indices = X_test['sex'] == 0\n",
        "\n",
        "# Use these indices to split the transformed data and y_test\n",
        "X_test_male = X_test_transformed[male_indices]\n",
        "y_test_male = y_test[male_indices]\n",
        "\n",
        "X_test_female = X_test_transformed[female_indices]\n",
        "y_test_female = y_test[female_indices]\n",
        "\n",
        "# Verify the splits\n",
        "print(\"Male Test Set Shape (X):\", X_test_male.shape)\n",
        "print(\"Male Test Set Shape (y):\", y_test_male.shape)\n",
        "print(\"Female Test Set Shape (X):\", X_test_female.shape)\n",
        "print(\"Female Test Set Shape (y):\", y_test_female.shape)\n"
      ],
      "metadata": {
        "id": "ENHMt82joXy0"
      },
      "execution_count": null,
      "outputs": []
    },
    {
      "cell_type": "code",
      "source": [
        "# Create a Random Forest classifier\n",
        "clf = RandomForestClassifier(n_estimators=25, random_state=42,max_depth=20)\n",
        "\n",
        "# Training the model on the training dataset\n",
        "clf.fit(X_train_transformed, y_train)\n",
        "\n",
        "# Performing predictions on the test dataset\n",
        "y_pred = clf.predict(X_test_female)\n",
        "\n",
        "# Calculate accuracy and F1 score\n",
        "accuracy = accuracy_score(y_test_female, y_pred)\n",
        "f1 = f1_score(y_test_female, y_pred, average='weighted')\n",
        "precision = precision_score(y_pred, y_test_female, average=\"weighted\")\n",
        "recall = recall_score(y_pred, y_test_female, average=\"weighted\")\n",
        "\n",
        "# Print accuracy and F1 score\n",
        "print(f\"Accuracy of the model: {accuracy}\")\n",
        "print(f\"F1 Score of the model: {f1}\")\n",
        "print(\"Precision:\", precision)\n",
        "print(\"Recall:\", recall)\n",
        "\n",
        "\n",
        "# Generate and plot the confusion matrix\n",
        "cm = confusion_matrix(y_test_female, y_pred)\n",
        "cmd = ConfusionMatrixDisplay(cm, display_labels=clf.classes_)\n",
        "cmd.plot()\n",
        "plt.show()\n",
        "\n",
        "print(classification_report(y_test_female, y_pred))"
      ],
      "metadata": {
        "id": "xMwxja0xqJ6h"
      },
      "execution_count": null,
      "outputs": []
    },
    {
      "cell_type": "code",
      "source": [
        "# Create a Random Forest classifier\n",
        "clf = RandomForestClassifier(n_estimators=25, random_state=42,max_depth=20)\n",
        "\n",
        "# Training the model on the training dataset\n",
        "clf.fit(X_train_transformed, y_train)\n",
        "\n",
        "# Performing predictions on the test dataset\n",
        "y_pred = clf.predict(X_test_male)\n",
        "\n",
        "# Calculate accuracy and F1 score\n",
        "accuracy = accuracy_score(y_test_male, y_pred)\n",
        "f1 = f1_score(y_test_male, y_pred, average='weighted')\n",
        "precision = precision_score(y_pred, y_test_male, average=\"weighted\")\n",
        "recall = recall_score(y_pred, y_test_male, average=\"weighted\")\n",
        "\n",
        "# Print accuracy and F1 score\n",
        "print(f\"Accuracy of the model: {accuracy}\")\n",
        "print(f\"F1 Score of the model: {f1}\")\n",
        "print(\"Precision:\", precision)\n",
        "print(\"Recall:\", recall)\n",
        "\n",
        "\n",
        "# Generate and plot the confusion matrix\n",
        "cm = confusion_matrix(y_test_male, y_pred)\n",
        "cmd = ConfusionMatrixDisplay(cm, display_labels=clf.classes_)\n",
        "cmd.plot()\n",
        "plt.show()\n",
        "\n",
        "print(classification_report(y_test_male, y_pred))"
      ],
      "metadata": {
        "id": "g1nwbbkCq0G9"
      },
      "execution_count": null,
      "outputs": []
    }
  ]
}